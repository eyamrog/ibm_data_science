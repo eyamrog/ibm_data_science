{
 "cells": [
  {
   "cell_type": "markdown",
   "id": "d093e86f-42db-4fa5-97b7-b014f10a9eeb",
   "metadata": {
    "jp-MarkdownHeadingCollapsed": true,
    "tags": []
   },
   "source": [
    "<center>\n",
    "<img src=\"http://corpuslg.org/lael_english/wp-content/uploads/2020/04/lael_50_years_narrow_white.png.400px_300dpi.png\" width=\"300\" alt=\"LAEL 50 years logo\">\n",
    "<h3>APPLIED LINGUISTICS GRADUATE PROGRAMME (LAEL)</h3>\n",
    "</center>\n",
    "<hr>"
   ]
  },
  {
   "cell_type": "markdown",
   "id": "2fac90c2-85c9-4e67-8f73-1f253fbad824",
   "metadata": {},
   "source": [
    "# Python for Data Science, AI and Development"
   ]
  },
  {
   "cell_type": "markdown",
   "id": "f5f866fa-68db-4088-9c9e-dcca8f26d6b2",
   "metadata": {
    "tags": []
   },
   "source": [
    "## Forms of checking the Python version"
   ]
  },
  {
   "cell_type": "code",
   "execution_count": 1,
   "id": "86f3d4eb-bd82-4d29-8321-59e757617b5d",
   "metadata": {},
   "outputs": [
    {
     "name": "stdout",
     "output_type": "stream",
     "text": [
      "Python 3.11.4\n"
     ]
    }
   ],
   "source": [
    "# Check the Python version\n",
    "!python -V"
   ]
  },
  {
   "cell_type": "code",
   "execution_count": 2,
   "id": "1a22f14a-60d8-4086-bfdc-bb2b812362a9",
   "metadata": {
    "tags": []
   },
   "outputs": [
    {
     "name": "stdout",
     "output_type": "stream",
     "text": [
      "Python 3.11.4\n"
     ]
    }
   ],
   "source": [
    "# Check the Python version with sys.executable, which is the path to the running Python executable\n",
    "import sys\n",
    "!{sys.executable} --version"
   ]
  },
  {
   "cell_type": "code",
   "execution_count": 3,
   "id": "0b8cabf1-2de6-40bc-98da-f2b15f3f0d70",
   "metadata": {},
   "outputs": [
    {
     "name": "stdout",
     "output_type": "stream",
     "text": [
      "Python version:\n",
      "3.11.4 (main, Jul  5 2023, 14:15:25) [GCC 11.2.0]\n",
      "Python version information:\n",
      "sys.version_info(major=3, minor=11, micro=4, releaselevel='final', serial=0)\n",
      "Python float_info:\n",
      "sys.float_info(max=1.7976931348623157e+308, max_exp=1024, max_10_exp=308, min=2.2250738585072014e-308, min_exp=-1021, min_10_exp=-307, dig=15, mant_dig=53, epsilon=2.220446049250313e-16, radix=2, rounds=1)\n"
     ]
    }
   ],
   "source": [
    "# Check the Python version via the sys module\n",
    "import sys\n",
    "print('Python version:')\n",
    "print(sys.version)\n",
    "print('Python version information:')\n",
    "print(sys.version_info)\n",
    "print('Python float_info:')\n",
    "print(sys.float_info)"
   ]
  },
  {
   "cell_type": "code",
   "execution_count": 4,
   "id": "8f2f7729-96c0-4c19-8ad1-181e4f7afc8d",
   "metadata": {},
   "outputs": [
    {
     "name": "stdout",
     "output_type": "stream",
     "text": [
      "3.11.4\n"
     ]
    }
   ],
   "source": [
    "# Check the Python version via the platform module\n",
    "from platform import python_version\n",
    "print(python_version())"
   ]
  },
  {
   "cell_type": "markdown",
   "id": "60074f8b-baec-4d10-8f3e-41407ecfcd57",
   "metadata": {},
   "source": [
    "## Style - Naming\n",
    "[Google Python Style Guide - 3.16 Naming](https://google.github.io/styleguide/pyguide.html#s3.16-naming)\n",
    "<p><code class=\"language-plaintext highlighter-rouge\">module_name</code>, <code class=\"language-plaintext highlighter-rouge\">package_name</code>, <code class=\"language-plaintext highlighter-rouge\">ClassName</code>, <code class=\"language-plaintext highlighter-rouge\">method_name</code>, <code class=\"language-plaintext highlighter-rouge\">ExceptionName</code>,\n",
    "<code class=\"language-plaintext highlighter-rouge\">function_name</code>, <code class=\"language-plaintext highlighter-rouge\">GLOBAL_CONSTANT_NAME</code>, <code class=\"language-plaintext highlighter-rouge\">global_var_name</code>, <code class=\"language-plaintext highlighter-rouge\">instance_var_name</code>,\n",
    "<code class=\"language-plaintext highlighter-rouge\">function_parameter_name</code>, <code class=\"language-plaintext highlighter-rouge\">local_var_name</code>, <code class=\"language-plaintext highlighter-rouge\">query_proper_noun_for_thing</code>,\n",
    "<code class=\"language-plaintext highlighter-rouge\">send_acronym_via_https</code>.</p>"
   ]
  },
  {
   "cell_type": "markdown",
   "id": "0d976364-0226-48e2-ab33-8e80af25efc5",
   "metadata": {
    "tags": []
   },
   "source": [
    "## Module 1 - Python Basics"
   ]
  },
  {
   "cell_type": "markdown",
   "id": "f4b5c6b1-0239-4f4d-ba08-e883eb2003bc",
   "metadata": {},
   "source": [
    "### Types"
   ]
  },
  {
   "cell_type": "code",
   "execution_count": 5,
   "id": "3f7f57df-d7a2-46e0-af45-ff3eda4861cf",
   "metadata": {},
   "outputs": [
    {
     "data": {
      "text/plain": [
       "int"
      ]
     },
     "execution_count": 5,
     "metadata": {},
     "output_type": "execute_result"
    }
   ],
   "source": [
    "type(11)"
   ]
  },
  {
   "cell_type": "code",
   "execution_count": 6,
   "id": "177e7835-dffa-464d-9490-a9bb4813ab30",
   "metadata": {},
   "outputs": [
    {
     "data": {
      "text/plain": [
       "float"
      ]
     },
     "execution_count": 6,
     "metadata": {},
     "output_type": "execute_result"
    }
   ],
   "source": [
    "type(21.213)\n"
   ]
  },
  {
   "cell_type": "code",
   "execution_count": 7,
   "id": "47c8d2b3-20bf-4535-9693-00fe17f19b72",
   "metadata": {},
   "outputs": [
    {
     "data": {
      "text/plain": [
       "str"
      ]
     },
     "execution_count": 7,
     "metadata": {},
     "output_type": "execute_result"
    }
   ],
   "source": [
    "type('Hello Python!')"
   ]
  },
  {
   "cell_type": "markdown",
   "id": "e1faec51-92d1-4a75-9d71-a500f2393f10",
   "metadata": {
    "tags": []
   },
   "source": [
    "#### Type casting"
   ]
  },
  {
   "cell_type": "code",
   "execution_count": 8,
   "id": "72d64c04-38f6-4489-99e8-01e7c6e8c612",
   "metadata": {},
   "outputs": [
    {
     "data": {
      "text/plain": [
       "2.0"
      ]
     },
     "execution_count": 8,
     "metadata": {},
     "output_type": "execute_result"
    }
   ],
   "source": [
    "float(2)"
   ]
  },
  {
   "cell_type": "code",
   "execution_count": 9,
   "id": "53fdd585-7c4f-447b-b5da-50da1413e751",
   "metadata": {},
   "outputs": [
    {
     "data": {
      "text/plain": [
       "float"
      ]
     },
     "execution_count": 9,
     "metadata": {},
     "output_type": "execute_result"
    }
   ],
   "source": [
    "type(float(2))"
   ]
  },
  {
   "cell_type": "code",
   "execution_count": 10,
   "id": "13f4ba98-689f-4acd-8bec-f2c615f63036",
   "metadata": {},
   "outputs": [
    {
     "data": {
      "text/plain": [
       "1"
      ]
     },
     "execution_count": 10,
     "metadata": {},
     "output_type": "execute_result"
    }
   ],
   "source": [
    "int(1.1)"
   ]
  },
  {
   "cell_type": "code",
   "execution_count": 11,
   "id": "98849166-13ff-44bf-8e53-79afe16a02c6",
   "metadata": {},
   "outputs": [
    {
     "data": {
      "text/plain": [
       "1"
      ]
     },
     "execution_count": 11,
     "metadata": {},
     "output_type": "execute_result"
    }
   ],
   "source": [
    "int('1')"
   ]
  },
  {
   "cell_type": "code",
   "execution_count": 12,
   "id": "93eef6b8-0382-4550-a480-7c9eac661ec9",
   "metadata": {},
   "outputs": [],
   "source": [
    "# The following line is inconsistent and generates an error\n",
    "# int('A')"
   ]
  },
  {
   "cell_type": "code",
   "execution_count": 13,
   "id": "15eff007-4d92-4ba2-946d-f772a305e2c0",
   "metadata": {},
   "outputs": [
    {
     "data": {
      "text/plain": [
       "'1'"
      ]
     },
     "execution_count": 13,
     "metadata": {},
     "output_type": "execute_result"
    }
   ],
   "source": [
    "str(1)"
   ]
  },
  {
   "cell_type": "code",
   "execution_count": 14,
   "id": "09a55e7f-9627-4fc4-8256-cbfe8e56deac",
   "metadata": {},
   "outputs": [
    {
     "data": {
      "text/plain": [
       "'4.5'"
      ]
     },
     "execution_count": 14,
     "metadata": {},
     "output_type": "execute_result"
    }
   ],
   "source": [
    "str(4.5)"
   ]
  },
  {
   "cell_type": "code",
   "execution_count": 15,
   "id": "e750dffd-8e8c-49e2-9be9-275a52ae6f44",
   "metadata": {},
   "outputs": [
    {
     "data": {
      "text/plain": [
       "bool"
      ]
     },
     "execution_count": 15,
     "metadata": {},
     "output_type": "execute_result"
    }
   ],
   "source": [
    "type(True)"
   ]
  },
  {
   "cell_type": "code",
   "execution_count": 16,
   "id": "f1e79a38-041d-4251-aea5-2137e2ff3c50",
   "metadata": {},
   "outputs": [
    {
     "data": {
      "text/plain": [
       "bool"
      ]
     },
     "execution_count": 16,
     "metadata": {},
     "output_type": "execute_result"
    }
   ],
   "source": [
    "type(False)"
   ]
  },
  {
   "cell_type": "code",
   "execution_count": 17,
   "id": "91e88e2c-6b01-49bb-bc15-e33cc3a70706",
   "metadata": {},
   "outputs": [
    {
     "data": {
      "text/plain": [
       "True"
      ]
     },
     "execution_count": 17,
     "metadata": {},
     "output_type": "execute_result"
    }
   ],
   "source": [
    "bool(1)"
   ]
  },
  {
   "cell_type": "code",
   "execution_count": 18,
   "id": "9b616da9-e6ff-498d-a716-d372d6b8d74c",
   "metadata": {},
   "outputs": [
    {
     "data": {
      "text/plain": [
       "False"
      ]
     },
     "execution_count": 18,
     "metadata": {},
     "output_type": "execute_result"
    }
   ],
   "source": [
    "bool(False)"
   ]
  },
  {
   "cell_type": "code",
   "execution_count": 19,
   "id": "80865954-adc8-412c-b27d-182b108041d7",
   "metadata": {},
   "outputs": [
    {
     "data": {
      "text/plain": [
       "1"
      ]
     },
     "execution_count": 19,
     "metadata": {},
     "output_type": "execute_result"
    }
   ],
   "source": [
    "int(True)"
   ]
  },
  {
   "cell_type": "code",
   "execution_count": 20,
   "id": "7f3d7dfb-bd62-4cc9-8904-9a97dd69d1ac",
   "metadata": {},
   "outputs": [
    {
     "data": {
      "text/plain": [
       "0"
      ]
     },
     "execution_count": 20,
     "metadata": {},
     "output_type": "execute_result"
    }
   ],
   "source": [
    "int(False)"
   ]
  },
  {
   "cell_type": "code",
   "execution_count": 21,
   "id": "6286353d-0f5e-416c-b726-5e453705f373",
   "metadata": {},
   "outputs": [
    {
     "data": {
      "text/plain": [
       "bool"
      ]
     },
     "execution_count": 21,
     "metadata": {},
     "output_type": "execute_result"
    }
   ],
   "source": [
    "type(bool(1))"
   ]
  },
  {
   "cell_type": "code",
   "execution_count": 22,
   "id": "6fea2094-5a2b-4cb3-b879-06419f0a3e4e",
   "metadata": {},
   "outputs": [
    {
     "data": {
      "text/plain": [
       "1.0"
      ]
     },
     "execution_count": 22,
     "metadata": {},
     "output_type": "execute_result"
    }
   ],
   "source": [
    "float(True)"
   ]
  },
  {
   "cell_type": "markdown",
   "id": "7a9ff165-0c08-40bf-8248-cf1b6a6f552f",
   "metadata": {},
   "source": [
    "### Expressions and Variables"
   ]
  },
  {
   "cell_type": "markdown",
   "id": "ebbb9d17-0a42-42ea-b1fb-867893f1bdeb",
   "metadata": {},
   "source": [
    "#### Expressions"
   ]
  },
  {
   "cell_type": "code",
   "execution_count": 23,
   "id": "47307a01-59c8-4cfb-998c-c1a597f40be8",
   "metadata": {},
   "outputs": [
    {
     "data": {
      "text/plain": [
       "160"
      ]
     },
     "execution_count": 23,
     "metadata": {},
     "output_type": "execute_result"
    }
   ],
   "source": [
    "43 + 60 + 16 + 41"
   ]
  },
  {
   "cell_type": "code",
   "execution_count": 24,
   "id": "93ded000-976d-4f4e-ad61-bfc23ad0cc86",
   "metadata": {},
   "outputs": [
    {
     "data": {
      "text/plain": [
       "4.166666666666667"
      ]
     },
     "execution_count": 24,
     "metadata": {},
     "output_type": "execute_result"
    }
   ],
   "source": [
    "25 / 6"
   ]
  },
  {
   "cell_type": "code",
   "execution_count": 25,
   "id": "752ce1c7-e734-4434-b2ef-2a0f41684862",
   "metadata": {},
   "outputs": [
    {
     "data": {
      "text/plain": [
       "4"
      ]
     },
     "execution_count": 25,
     "metadata": {},
     "output_type": "execute_result"
    }
   ],
   "source": [
    "25 // 6"
   ]
  },
  {
   "cell_type": "code",
   "execution_count": 26,
   "id": "2ae70fca-cd28-4ee0-b18d-58ad9f6380d8",
   "metadata": {},
   "outputs": [
    {
     "data": {
      "text/plain": [
       "5"
      ]
     },
     "execution_count": 26,
     "metadata": {},
     "output_type": "execute_result"
    }
   ],
   "source": [
    "11 // 2"
   ]
  },
  {
   "cell_type": "code",
   "execution_count": 27,
   "id": "d4b478cf-3351-42f2-99cf-a12b6203e72f",
   "metadata": {},
   "outputs": [
    {
     "data": {
      "text/plain": [
       "1920"
      ]
     },
     "execution_count": 27,
     "metadata": {},
     "output_type": "execute_result"
    }
   ],
   "source": [
    "(30 + 2) * 60"
   ]
  },
  {
   "cell_type": "code",
   "execution_count": 28,
   "id": "d8af5898-a763-4687-ade9-679400f8e89e",
   "metadata": {},
   "outputs": [
    {
     "data": {
      "text/plain": [
       "float"
      ]
     },
     "execution_count": 28,
     "metadata": {},
     "output_type": "execute_result"
    }
   ],
   "source": [
    "type(6 / 2)"
   ]
  },
  {
   "cell_type": "code",
   "execution_count": 29,
   "id": "dc77e0c7-1782-4d69-b3c0-2a60d8bd826e",
   "metadata": {},
   "outputs": [
    {
     "data": {
      "text/plain": [
       "float"
      ]
     },
     "execution_count": 29,
     "metadata": {},
     "output_type": "execute_result"
    }
   ],
   "source": [
    "myvar = 1 / 1\n",
    "type(myvar)"
   ]
  },
  {
   "cell_type": "code",
   "execution_count": 30,
   "id": "e3339fc2-2915-4f3f-9aac-b2a84886b537",
   "metadata": {},
   "outputs": [
    {
     "data": {
      "text/plain": [
       "int"
      ]
     },
     "execution_count": 30,
     "metadata": {},
     "output_type": "execute_result"
    }
   ],
   "source": [
    "type(int(6 / 2))"
   ]
  },
  {
   "cell_type": "code",
   "execution_count": 31,
   "id": "8fe7b8f1-9c41-4fe3-b44a-5c178391e788",
   "metadata": {},
   "outputs": [
    {
     "data": {
      "text/plain": [
       "int"
      ]
     },
     "execution_count": 31,
     "metadata": {},
     "output_type": "execute_result"
    }
   ],
   "source": [
    "type(6//2)"
   ]
  },
  {
   "cell_type": "markdown",
   "id": "6d13cad1-6e0b-49a5-bc49-ece1fb7d68b9",
   "metadata": {},
   "source": [
    "#### Variables"
   ]
  },
  {
   "cell_type": "code",
   "execution_count": 32,
   "id": "678867a0-648a-469a-9d78-0217825fc248",
   "metadata": {},
   "outputs": [
    {
     "name": "stdout",
     "output_type": "stream",
     "text": [
      "15\n"
     ]
    }
   ],
   "source": [
    "my_variable = 15\n",
    "print(my_variable)"
   ]
  },
  {
   "cell_type": "code",
   "execution_count": 33,
   "id": "3de0874d-c988-419c-9a12-7699ee682393",
   "metadata": {},
   "outputs": [
    {
     "data": {
      "text/plain": [
       "15"
      ]
     },
     "execution_count": 33,
     "metadata": {},
     "output_type": "execute_result"
    }
   ],
   "source": [
    "my_variable"
   ]
  },
  {
   "cell_type": "code",
   "execution_count": 34,
   "id": "fbfcfc2e-21bd-4f58-88a6-78ba2e30a9c9",
   "metadata": {},
   "outputs": [
    {
     "name": "stdout",
     "output_type": "stream",
     "text": [
      "160\n"
     ]
    }
   ],
   "source": [
    "x = 43 + 60 + 16 + 41\n",
    "print(x)"
   ]
  },
  {
   "cell_type": "code",
   "execution_count": 35,
   "id": "0299ad28-cc48-4fd6-8dda-d5c9d017be27",
   "metadata": {},
   "outputs": [
    {
     "name": "stdout",
     "output_type": "stream",
     "text": [
      "2.6666666666666665\n"
     ]
    }
   ],
   "source": [
    "y = x / 60\n",
    "print(y)"
   ]
  },
  {
   "cell_type": "code",
   "execution_count": 36,
   "id": "e31ab6ea-a6b5-4101-b1d1-a8bc962f66d4",
   "metadata": {},
   "outputs": [
    {
     "name": "stdout",
     "output_type": "stream",
     "text": [
      "2.6666666666666665\n"
     ]
    }
   ],
   "source": [
    "z = 160\n",
    "z = z / 60\n",
    "print(z)"
   ]
  },
  {
   "cell_type": "code",
   "execution_count": 37,
   "id": "369f4d99-effa-4ec7-9028-32ee7937ef6c",
   "metadata": {},
   "outputs": [
    {
     "name": "stdout",
     "output_type": "stream",
     "text": [
      "2.0\n"
     ]
    }
   ],
   "source": [
    "w = 4\n",
    "w = w / 2\n",
    "print(w)"
   ]
  },
  {
   "cell_type": "code",
   "execution_count": 38,
   "id": "01d331bd-d4b4-42bb-a63c-cfea082b95e0",
   "metadata": {},
   "outputs": [
    {
     "name": "stdout",
     "output_type": "stream",
     "text": [
      "2.3666666666666667\n"
     ]
    }
   ],
   "source": [
    "total_min = 43 + 42 + 57\n",
    "total_hr = total_min / 60\n",
    "print(total_hr)"
   ]
  },
  {
   "cell_type": "markdown",
   "id": "672b63c4-6966-45bd-9c41-02e922f6525a",
   "metadata": {},
   "source": [
    "### String Operations"
   ]
  },
  {
   "cell_type": "code",
   "execution_count": 39,
   "id": "bb171fae-8019-45c5-955f-99a6eedc190d",
   "metadata": {},
   "outputs": [
    {
     "data": {
      "text/plain": [
       "15"
      ]
     },
     "execution_count": 39,
     "metadata": {},
     "output_type": "execute_result"
    }
   ],
   "source": [
    "len('Michael Jackson')"
   ]
  },
  {
   "cell_type": "code",
   "execution_count": 40,
   "id": "a105bbf0-526f-4b94-8140-bad2f39f7b25",
   "metadata": {},
   "outputs": [
    {
     "name": "stdout",
     "output_type": "stream",
     "text": [
      "Michael Jackson is the best\n"
     ]
    }
   ],
   "source": [
    "Name = 'Michael Jackson'\n",
    "Sentence = Name + ' is the best'\n",
    "print(Sentence)"
   ]
  },
  {
   "cell_type": "code",
   "execution_count": 41,
   "id": "1eafde86-b108-4904-a537-1ec13c22ea03",
   "metadata": {},
   "outputs": [
    {
     "name": "stdout",
     "output_type": "stream",
     "text": [
      "M\n"
     ]
    }
   ],
   "source": [
    "print(Name[0])"
   ]
  },
  {
   "cell_type": "code",
   "execution_count": 42,
   "id": "21559512-b9cc-4036-a1bd-82bffd540596",
   "metadata": {},
   "outputs": [
    {
     "name": "stdout",
     "output_type": "stream",
     "text": [
      "n\n"
     ]
    }
   ],
   "source": [
    "print(Name[-1])"
   ]
  },
  {
   "cell_type": "markdown",
   "id": "f517a3c8-a2f6-4e2e-9c67-c32975737a72",
   "metadata": {},
   "source": [
    "Note: Python supports two forms of indexing. Notice the differences:\n",
    "- Positive indexing: 0 | 1 | 2 | 3\n",
    "- Negative indexing: -4 | -3 | -2 | -1"
   ]
  },
  {
   "cell_type": "code",
   "execution_count": 43,
   "id": "205efc81-f870-4f3b-88cb-2595641eef6b",
   "metadata": {},
   "outputs": [
    {
     "data": {
      "text/plain": [
       "'Mich'"
      ]
     },
     "execution_count": 43,
     "metadata": {},
     "output_type": "execute_result"
    }
   ],
   "source": [
    "Name[0:4]"
   ]
  },
  {
   "cell_type": "markdown",
   "id": "1ac6c3c6-023b-4a4d-9308-386c236522d3",
   "metadata": {},
   "source": [
    "Note: In Python, when performing slicing, the last index is one larger than the element we want."
   ]
  },
  {
   "cell_type": "code",
   "execution_count": 44,
   "id": "e2336a5b-3470-45fa-a752-cb59c635454e",
   "metadata": {},
   "outputs": [
    {
     "data": {
      "text/plain": [
       "'Jack'"
      ]
     },
     "execution_count": 44,
     "metadata": {},
     "output_type": "execute_result"
    }
   ],
   "source": [
    "Name[8:12]"
   ]
  },
  {
   "cell_type": "code",
   "execution_count": 45,
   "id": "d930d938-8388-4a68-9899-49f6dfd69c9f",
   "metadata": {},
   "outputs": [
    {
     "data": {
      "text/plain": [
       "'McalJcsn'"
      ]
     },
     "execution_count": 45,
     "metadata": {},
     "output_type": "execute_result"
    }
   ],
   "source": [
    "Name[::2]"
   ]
  },
  {
   "cell_type": "code",
   "execution_count": 46,
   "id": "af8517ba-fb47-4303-adb5-856b8db73aec",
   "metadata": {},
   "outputs": [
    {
     "data": {
      "text/plain": [
       "'Mca'"
      ]
     },
     "execution_count": 46,
     "metadata": {},
     "output_type": "execute_result"
    }
   ],
   "source": [
    "Name[0:5:2]"
   ]
  },
  {
   "cell_type": "code",
   "execution_count": 47,
   "id": "821fea8b-22fa-4f0a-9c24-3fa48dd4bee3",
   "metadata": {},
   "outputs": [
    {
     "data": {
      "text/plain": [
       "'Michael Jackson Michael Jackson Michael Jackson '"
      ]
     },
     "execution_count": 47,
     "metadata": {},
     "output_type": "execute_result"
    }
   ],
   "source": [
    "3 * 'Michael Jackson '"
   ]
  },
  {
   "cell_type": "code",
   "execution_count": 48,
   "id": "78f95288-1637-4838-be57-917c5c5b2995",
   "metadata": {},
   "outputs": [
    {
     "name": "stdout",
     "output_type": "stream",
     "text": [
      "Michael Jackson\n",
      "is the best\n"
     ]
    }
   ],
   "source": [
    "print('Michael Jackson\\nis the best')"
   ]
  },
  {
   "cell_type": "code",
   "execution_count": 49,
   "id": "8e17e84a-9f92-4c50-a3e6-9612ef23978e",
   "metadata": {},
   "outputs": [
    {
     "name": "stdout",
     "output_type": "stream",
     "text": [
      "Michael Jackson \t is the best\n"
     ]
    }
   ],
   "source": [
    "print('Michael Jackson \\t is the best')"
   ]
  },
  {
   "cell_type": "code",
   "execution_count": 50,
   "id": "9c23d14b-5775-49d2-b730-344caf4c2ced",
   "metadata": {},
   "outputs": [
    {
     "name": "stdout",
     "output_type": "stream",
     "text": [
      "Michael Jackson \\ is the best\n"
     ]
    }
   ],
   "source": [
    "print('Michael Jackson \\\\ is the best')"
   ]
  },
  {
   "cell_type": "code",
   "execution_count": 51,
   "id": "05cfebb4-7c2d-4743-ab3a-44d8b24188f3",
   "metadata": {},
   "outputs": [
    {
     "name": "stdout",
     "output_type": "stream",
     "text": [
      "Michael Jackson \\ is the best\n"
     ]
    }
   ],
   "source": [
    "print(r'Michael Jackson \\ is the best')"
   ]
  },
  {
   "cell_type": "code",
   "execution_count": 52,
   "id": "1a236cb7-7d83-449a-bee5-cda48f13c8cb",
   "metadata": {},
   "outputs": [
    {
     "name": "stdout",
     "output_type": "stream",
     "text": [
      "Before upper: Thriller is the sixth studio album\n",
      "After upper: THRILLER IS THE SIXTH STUDIO ALBUM\n"
     ]
    }
   ],
   "source": [
    "A = 'Thriller is the sixth studio album'\n",
    "print('Before upper:', A)\n",
    "B = A.upper()\n",
    "print('After upper:', B)"
   ]
  },
  {
   "cell_type": "code",
   "execution_count": 53,
   "id": "5a9b665f-c502-40bc-87ee-7b07c2ee7bc6",
   "metadata": {},
   "outputs": [
    {
     "name": "stdout",
     "output_type": "stream",
     "text": [
      "Janet Jackson is the best\n"
     ]
    }
   ],
   "source": [
    "A = 'Michael Jackson is the best'\n",
    "B = A.replace('Michael', 'Janet')\n",
    "print(B)"
   ]
  },
  {
   "cell_type": "code",
   "execution_count": 54,
   "id": "96c68012-cda3-4846-8aba-a1670e29e121",
   "metadata": {},
   "outputs": [
    {
     "name": "stdout",
     "output_type": "stream",
     "text": [
      "5\n"
     ]
    }
   ],
   "source": [
    "Name = 'Michael Jackson'\n",
    "print(Name.find('el'))"
   ]
  },
  {
   "cell_type": "code",
   "execution_count": 55,
   "id": "d0f44c69-e64a-4d23-9e39-781327f12fbb",
   "metadata": {},
   "outputs": [
    {
     "name": "stdout",
     "output_type": "stream",
     "text": [
      "-1\n"
     ]
    }
   ],
   "source": [
    "print(Name.find('ah'))"
   ]
  },
  {
   "cell_type": "code",
   "execution_count": 56,
   "id": "7e2cf526-6af6-4163-bfa3-ba2e623f750d",
   "metadata": {},
   "outputs": [
    {
     "name": "stdout",
     "output_type": "stream",
     "text": [
      "6\n"
     ]
    }
   ],
   "source": [
    "print('hello Mike'.find('Mike'))"
   ]
  },
  {
   "cell_type": "markdown",
   "id": "c8b0f7eb-2ce7-4152-ac52-8b92a540dd89",
   "metadata": {
    "tags": []
   },
   "source": [
    "## Module 2 - Python Data Structures"
   ]
  },
  {
   "cell_type": "markdown",
   "id": "40380abd-86fc-4a74-8258-6041d3a3ea26",
   "metadata": {},
   "source": [
    "### Lists and Tuples\n",
    "Also known as compound data types."
   ]
  },
  {
   "cell_type": "markdown",
   "id": "2653ec3d-fa4e-466e-b7a9-1438e749aff8",
   "metadata": {},
   "source": [
    "#### Tuples\n",
    "- Tuples are an ordered sequence\n",
    "- Tuples are written as comma-separated elements within **parentheses**\n",
    "- **Tuples are immutable**"
   ]
  },
  {
   "cell_type": "code",
   "execution_count": 57,
   "id": "0af4d5ea-49dc-4dbb-9a93-af2d5278db2e",
   "metadata": {},
   "outputs": [
    {
     "name": "stdout",
     "output_type": "stream",
     "text": [
      "(10, 9, 6, 5)\n"
     ]
    },
    {
     "data": {
      "text/plain": [
       "tuple"
      ]
     },
     "execution_count": 57,
     "metadata": {},
     "output_type": "execute_result"
    }
   ],
   "source": [
    "Ratings = (10, 9, 6, 5, 10, 8, 9, 6, 2)\n",
    "print(Ratings[0:4])\n",
    "type(Ratings)"
   ]
  },
  {
   "cell_type": "code",
   "execution_count": 58,
   "id": "e6f1327d-66e0-4ec5-a020-85fcb6a50a89",
   "metadata": {},
   "outputs": [
    {
     "name": "stdout",
     "output_type": "stream",
     "text": [
      "[2, 5, 6, 6, 8, 9, 9, 10, 10]\n"
     ]
    }
   ],
   "source": [
    "Ratings2 = sorted(Ratings)\n",
    "print(Ratings2)"
   ]
  },
  {
   "cell_type": "code",
   "execution_count": 59,
   "id": "9593d23b-370f-4855-b130-644208824be5",
   "metadata": {},
   "outputs": [
    {
     "name": "stdout",
     "output_type": "stream",
     "text": [
      "will\n"
     ]
    }
   ],
   "source": [
    "say_what = ('say', 'what', 'you', 'will')\n",
    "print(say_what[-1])"
   ]
  },
  {
   "cell_type": "code",
   "execution_count": 60,
   "id": "0edd0774-29ed-4470-83e1-932954281aa5",
   "metadata": {},
   "outputs": [
    {
     "name": "stdout",
     "output_type": "stream",
     "text": [
      "(2, 3, 4)\n"
     ]
    }
   ],
   "source": [
    "A = (1, 2, 3, 4, 5)\n",
    "print(A[1:4])"
   ]
  },
  {
   "cell_type": "code",
   "execution_count": 61,
   "id": "cbc365bc-8998-47d3-99b2-47435b464757",
   "metadata": {},
   "outputs": [
    {
     "data": {
      "text/plain": [
       "5"
      ]
     },
     "execution_count": 61,
     "metadata": {},
     "output_type": "execute_result"
    }
   ],
   "source": [
    "A = (1, 2, 3, 4, 5)\n",
    "len(A)"
   ]
  },
  {
   "cell_type": "code",
   "execution_count": 62,
   "id": "199a9c8e-ec22-4099-8c42-e06faad5e1e5",
   "metadata": {},
   "outputs": [
    {
     "name": "stdout",
     "output_type": "stream",
     "text": [
      "rock\n",
      "r\n",
      "o\n"
     ]
    }
   ],
   "source": [
    "Nesting = (1, 2, ('pop', 'rock'), (3, 4), ('disco', (1, 2)))\n",
    "print(Nesting[2][1])\n",
    "print(Nesting[2][1][0])\n",
    "print(Nesting[2][1][1])"
   ]
  },
  {
   "cell_type": "code",
   "execution_count": 63,
   "id": "dc647bb2-d39e-447f-b1a8-78e3010b9737",
   "metadata": {},
   "outputs": [
    {
     "name": "stdout",
     "output_type": "stream",
     "text": [
      "3\n"
     ]
    }
   ],
   "source": [
    "print(Nesting.index((3, 4)))"
   ]
  },
  {
   "cell_type": "markdown",
   "id": "fecde0b0-a48c-4b85-be6c-ec3f6a5228d1",
   "metadata": {},
   "source": [
    "#### Lists\n",
    "- Lists are also ordered sequences\n",
    "- Lists are written as comma-separated elements within **brackets**\n",
    "- **Lists are mutable**"
   ]
  },
  {
   "cell_type": "code",
   "execution_count": 64,
   "id": "06d01645-1274-4bbd-b62d-80f7db599e4d",
   "metadata": {},
   "outputs": [],
   "source": [
    "L = ['Michael Jackson', 10.1, 1982, [1, 2], ('A', 1)]"
   ]
  },
  {
   "cell_type": "code",
   "execution_count": 65,
   "id": "da63c2e8-7aae-4d20-9ba7-1d212b826023",
   "metadata": {},
   "outputs": [
    {
     "name": "stdout",
     "output_type": "stream",
     "text": [
      "b\n"
     ]
    }
   ],
   "source": [
    "B = [1, 2, [3, 'a'], [4, 'b']]\n",
    "print(B[3][1])"
   ]
  },
  {
   "cell_type": "markdown",
   "id": "8233a265-372b-4ab6-915f-81d28565f5b1",
   "metadata": {},
   "source": [
    "Lists can be concatenated:"
   ]
  },
  {
   "cell_type": "code",
   "execution_count": 66,
   "id": "244102be-00b3-4a05-bf0b-74e7e781bae9",
   "metadata": {},
   "outputs": [
    {
     "name": "stdout",
     "output_type": "stream",
     "text": [
      "[1, 2, 3, 1, 1, 1]\n"
     ]
    }
   ],
   "source": [
    "List1 = [1, 2, 3]\n",
    "List2 = [1, 1, 1]\n",
    "print(List1 + List2)"
   ]
  },
  {
   "cell_type": "code",
   "execution_count": 67,
   "id": "20acf77a-a672-4bed-a817-9178503dc9ba",
   "metadata": {},
   "outputs": [
    {
     "name": "stdout",
     "output_type": "stream",
     "text": [
      "[1, 2, 3, 1, 1, 1]\n"
     ]
    }
   ],
   "source": [
    "print([1, 2, 3] + [1, 1, 1])"
   ]
  },
  {
   "cell_type": "markdown",
   "id": "6950bc97-f690-4f06-977a-33a8858e573c",
   "metadata": {},
   "source": [
    "Lists are mutable, they can be changed. Everytime we apply a method the list changes:"
   ]
  },
  {
   "cell_type": "code",
   "execution_count": 68,
   "id": "b8fbb354-edec-4f37-bd03-fa5481cb8bf0",
   "metadata": {},
   "outputs": [
    {
     "name": "stdout",
     "output_type": "stream",
     "text": [
      "['Michael Jackson', 10.1, 1982]\n"
     ]
    }
   ],
   "source": [
    "L = ['Michael Jackson', 10.1, 1982]\n",
    "print(L)"
   ]
  },
  {
   "cell_type": "code",
   "execution_count": 69,
   "id": "e1ac3169-6b95-4376-a031-ff4acbca784b",
   "metadata": {},
   "outputs": [
    {
     "name": "stdout",
     "output_type": "stream",
     "text": [
      "['Michael Jackson', 10.1, 1982, 'pop', 10]\n"
     ]
    }
   ],
   "source": [
    "L.extend(['pop', 10])\n",
    "print(L)"
   ]
  },
  {
   "cell_type": "code",
   "execution_count": 70,
   "id": "7fd1744b-9f99-4c16-9b10-1f1b8ff27a3b",
   "metadata": {},
   "outputs": [
    {
     "name": "stdout",
     "output_type": "stream",
     "text": [
      "['Michael Jackson', 10.1, 1982, 'pop', 10, ['flamboyant', 234]]\n"
     ]
    }
   ],
   "source": [
    "# The method 'append' adds one element to a list\n",
    "\n",
    "L.append(['flamboyant', 234])\n",
    "print(L)"
   ]
  },
  {
   "cell_type": "code",
   "execution_count": 71,
   "id": "3a40fb52-6348-4607-9a51-118ac0ef38ad",
   "metadata": {},
   "outputs": [
    {
     "name": "stdout",
     "output_type": "stream",
     "text": [
      "[1, [2, 3, 4, 5]]\n"
     ]
    },
    {
     "data": {
      "text/plain": [
       "2"
      ]
     },
     "execution_count": 71,
     "metadata": {},
     "output_type": "execute_result"
    }
   ],
   "source": [
    "A = [1]\n",
    "A.append([2, 3, 4, 5])\n",
    "print(A)\n",
    "len(A)"
   ]
  },
  {
   "cell_type": "code",
   "execution_count": 72,
   "id": "fd448958-8572-4b9d-8aee-246ac913d570",
   "metadata": {},
   "outputs": [
    {
     "name": "stdout",
     "output_type": "stream",
     "text": [
      "['Disco', 10, 1.2]\n",
      "['Hard rock', 10, 1.2]\n",
      "['Hard rock', 10]\n"
     ]
    }
   ],
   "source": [
    "A = ['Disco', 10, 1.2]\n",
    "print(A)\n",
    "A[0] = 'Hard rock'\n",
    "print(A)\n",
    "del(A[2])\n",
    "print(A)"
   ]
  },
  {
   "cell_type": "code",
   "execution_count": 73,
   "id": "b984d22e-c425-4c14-a710-04a27b7e586d",
   "metadata": {},
   "outputs": [
    {
     "data": {
      "text/plain": [
       "['Hello', 'Mike']"
      ]
     },
     "execution_count": 73,
     "metadata": {},
     "output_type": "execute_result"
    }
   ],
   "source": [
    "'Hello Mike'.split()"
   ]
  },
  {
   "cell_type": "code",
   "execution_count": 74,
   "id": "ab892484-10cf-42e3-a283-c09d16833712",
   "metadata": {},
   "outputs": [
    {
     "data": {
      "text/plain": [
       "['A', 'B', 'C', 'D']"
      ]
     },
     "execution_count": 74,
     "metadata": {},
     "output_type": "execute_result"
    }
   ],
   "source": [
    "'A,B,C,D'.split(',')"
   ]
  },
  {
   "cell_type": "markdown",
   "id": "889c0532-5350-4f3d-97db-108c713e07d9",
   "metadata": {},
   "source": [
    "Aliasing: Both A and B are referencing the same list"
   ]
  },
  {
   "cell_type": "code",
   "execution_count": 75,
   "id": "11d4feed-02ea-4063-97f4-36f73286ad73",
   "metadata": {},
   "outputs": [
    {
     "name": "stdout",
     "output_type": "stream",
     "text": [
      "['Hard rock', 10, 1.2]\n",
      "['Hard rock', 10, 1.2]\n",
      "['Hard rock', 10]\n",
      "['Hard rock', 10]\n"
     ]
    }
   ],
   "source": [
    "A = ['Hard rock', 10, 1.2]\n",
    "B = A\n",
    "print(A)\n",
    "print(B)\n",
    "del(A[2])\n",
    "print(A)\n",
    "print(B)"
   ]
  },
  {
   "cell_type": "markdown",
   "id": "f7342b9e-4139-406b-89e8-0d4e1ae2de6f",
   "metadata": {},
   "source": [
    "Cloning: B becomes a clone of B"
   ]
  },
  {
   "cell_type": "code",
   "execution_count": 76,
   "id": "9c96db25-917b-4e0f-97d4-bfd86d961b25",
   "metadata": {},
   "outputs": [
    {
     "name": "stdout",
     "output_type": "stream",
     "text": [
      "['Hard rock', 10, 1.2]\n",
      "['Hard rock', 10, 1.2]\n",
      "['Hard rock', 10]\n",
      "['Hard rock', 10, 1.2]\n"
     ]
    }
   ],
   "source": [
    "A = ['Hard rock', 10, 1.2]\n",
    "B = A[:]\n",
    "print(A)\n",
    "print(B)\n",
    "del(A[2])\n",
    "print(A)\n",
    "print(B)"
   ]
  },
  {
   "cell_type": "markdown",
   "id": "612a1d4e-76b4-4f61-bb30-a43a733ea88f",
   "metadata": {},
   "source": [
    "Getting help"
   ]
  },
  {
   "cell_type": "code",
   "execution_count": 77,
   "id": "230a924c-05cf-4ab2-89db-4f8b491a29b3",
   "metadata": {},
   "outputs": [
    {
     "name": "stdout",
     "output_type": "stream",
     "text": [
      "Help on list object:\n",
      "\n",
      "class list(object)\n",
      " |  list(iterable=(), /)\n",
      " |  \n",
      " |  Built-in mutable sequence.\n",
      " |  \n",
      " |  If no argument is given, the constructor creates a new empty list.\n",
      " |  The argument must be an iterable if specified.\n",
      " |  \n",
      " |  Methods defined here:\n",
      " |  \n",
      " |  __add__(self, value, /)\n",
      " |      Return self+value.\n",
      " |  \n",
      " |  __contains__(self, key, /)\n",
      " |      Return key in self.\n",
      " |  \n",
      " |  __delitem__(self, key, /)\n",
      " |      Delete self[key].\n",
      " |  \n",
      " |  __eq__(self, value, /)\n",
      " |      Return self==value.\n",
      " |  \n",
      " |  __ge__(self, value, /)\n",
      " |      Return self>=value.\n",
      " |  \n",
      " |  __getattribute__(self, name, /)\n",
      " |      Return getattr(self, name).\n",
      " |  \n",
      " |  __getitem__(...)\n",
      " |      x.__getitem__(y) <==> x[y]\n",
      " |  \n",
      " |  __gt__(self, value, /)\n",
      " |      Return self>value.\n",
      " |  \n",
      " |  __iadd__(self, value, /)\n",
      " |      Implement self+=value.\n",
      " |  \n",
      " |  __imul__(self, value, /)\n",
      " |      Implement self*=value.\n",
      " |  \n",
      " |  __init__(self, /, *args, **kwargs)\n",
      " |      Initialize self.  See help(type(self)) for accurate signature.\n",
      " |  \n",
      " |  __iter__(self, /)\n",
      " |      Implement iter(self).\n",
      " |  \n",
      " |  __le__(self, value, /)\n",
      " |      Return self<=value.\n",
      " |  \n",
      " |  __len__(self, /)\n",
      " |      Return len(self).\n",
      " |  \n",
      " |  __lt__(self, value, /)\n",
      " |      Return self<value.\n",
      " |  \n",
      " |  __mul__(self, value, /)\n",
      " |      Return self*value.\n",
      " |  \n",
      " |  __ne__(self, value, /)\n",
      " |      Return self!=value.\n",
      " |  \n",
      " |  __repr__(self, /)\n",
      " |      Return repr(self).\n",
      " |  \n",
      " |  __reversed__(self, /)\n",
      " |      Return a reverse iterator over the list.\n",
      " |  \n",
      " |  __rmul__(self, value, /)\n",
      " |      Return value*self.\n",
      " |  \n",
      " |  __setitem__(self, key, value, /)\n",
      " |      Set self[key] to value.\n",
      " |  \n",
      " |  __sizeof__(self, /)\n",
      " |      Return the size of the list in memory, in bytes.\n",
      " |  \n",
      " |  append(self, object, /)\n",
      " |      Append object to the end of the list.\n",
      " |  \n",
      " |  clear(self, /)\n",
      " |      Remove all items from list.\n",
      " |  \n",
      " |  copy(self, /)\n",
      " |      Return a shallow copy of the list.\n",
      " |  \n",
      " |  count(self, value, /)\n",
      " |      Return number of occurrences of value.\n",
      " |  \n",
      " |  extend(self, iterable, /)\n",
      " |      Extend list by appending elements from the iterable.\n",
      " |  \n",
      " |  index(self, value, start=0, stop=9223372036854775807, /)\n",
      " |      Return first index of value.\n",
      " |      \n",
      " |      Raises ValueError if the value is not present.\n",
      " |  \n",
      " |  insert(self, index, object, /)\n",
      " |      Insert object before index.\n",
      " |  \n",
      " |  pop(self, index=-1, /)\n",
      " |      Remove and return item at index (default last).\n",
      " |      \n",
      " |      Raises IndexError if list is empty or index is out of range.\n",
      " |  \n",
      " |  remove(self, value, /)\n",
      " |      Remove first occurrence of value.\n",
      " |      \n",
      " |      Raises ValueError if the value is not present.\n",
      " |  \n",
      " |  reverse(self, /)\n",
      " |      Reverse *IN PLACE*.\n",
      " |  \n",
      " |  sort(self, /, *, key=None, reverse=False)\n",
      " |      Sort the list in ascending order and return None.\n",
      " |      \n",
      " |      The sort is in-place (i.e. the list itself is modified) and stable (i.e. the\n",
      " |      order of two equal elements is maintained).\n",
      " |      \n",
      " |      If a key function is given, apply it once to each list item and sort them,\n",
      " |      ascending or descending, according to their function values.\n",
      " |      \n",
      " |      The reverse flag can be set to sort in descending order.\n",
      " |  \n",
      " |  ----------------------------------------------------------------------\n",
      " |  Class methods defined here:\n",
      " |  \n",
      " |  __class_getitem__(...) from builtins.type\n",
      " |      See PEP 585\n",
      " |  \n",
      " |  ----------------------------------------------------------------------\n",
      " |  Static methods defined here:\n",
      " |  \n",
      " |  __new__(*args, **kwargs) from builtins.type\n",
      " |      Create and return a new object.  See help(type) for accurate signature.\n",
      " |  \n",
      " |  ----------------------------------------------------------------------\n",
      " |  Data and other attributes defined here:\n",
      " |  \n",
      " |  __hash__ = None\n",
      "\n"
     ]
    }
   ],
   "source": [
    "A = ['Hard rock', 10, 1.2]\n",
    "help(A)"
   ]
  },
  {
   "cell_type": "markdown",
   "id": "4aed1687-96de-471a-be75-c2dd87b27f44",
   "metadata": {},
   "source": [
    "### Dictionaries\n",
    "- Dictionaries are denoted with **curly brackets**\n",
    "- The keys have to be immutable and unique\n",
    "- The values can be immutable, mutable and duplicates\n",
    "- Each key is separated from its value by a colon\n",
    "- Each key and value pair is separated by a comma"
   ]
  },
  {
   "cell_type": "code",
   "execution_count": 78,
   "id": "4df6830a-77f1-4244-a2c2-3383c9e4428e",
   "metadata": {},
   "outputs": [
    {
     "name": "stdout",
     "output_type": "stream",
     "text": [
      "1992\n"
     ]
    }
   ],
   "source": [
    "Dict = {'Thriller': 1982, 'Back in Black': 1980, 'The Bodyguard': 1992}\n",
    "print(Dict['The Bodyguard'])"
   ]
  },
  {
   "cell_type": "code",
   "execution_count": 79,
   "id": "a00089de-ce75-4b14-ac5b-b7514eed1116",
   "metadata": {},
   "outputs": [
    {
     "name": "stdout",
     "output_type": "stream",
     "text": [
      "(4, 4, 4)\n"
     ]
    }
   ],
   "source": [
    "Dict2 = {'A':1,'B':2,'C':[3,3,3],'D':(4,4,4),'E':5,'F':6}\n",
    "print(Dict2['D'])"
   ]
  },
  {
   "cell_type": "code",
   "execution_count": 80,
   "id": "efea17a3-6611-4da4-9f3d-db9aab2248c7",
   "metadata": {},
   "outputs": [
    {
     "name": "stdout",
     "output_type": "stream",
     "text": [
      "{'Thriller': 1982, 'Back in Black': 1980, 'The Bodyguard': 1992, 'Graduation': 2007}\n"
     ]
    }
   ],
   "source": [
    "Dict['Graduation'] = 2007\n",
    "print(Dict)"
   ]
  },
  {
   "cell_type": "code",
   "execution_count": 81,
   "id": "b9a8e070-ed84-4372-864f-3dc8872a7d2c",
   "metadata": {},
   "outputs": [
    {
     "name": "stdout",
     "output_type": "stream",
     "text": [
      "{'Back in Black': 1980, 'The Bodyguard': 1992, 'Graduation': 2007}\n",
      "{'Back in Black': 1980, 'The Bodyguard': 1992, 'Graduation': 2007, 'Thriller': 1982}\n"
     ]
    }
   ],
   "source": [
    "del(Dict['Thriller'])\n",
    "print(Dict)\n",
    "Dict['Thriller'] = 1982\n",
    "print(Dict)"
   ]
  },
  {
   "cell_type": "code",
   "execution_count": 82,
   "id": "1f70b7ae-c7be-4801-a185-19ba6f3a0c14",
   "metadata": {},
   "outputs": [
    {
     "data": {
      "text/plain": [
       "True"
      ]
     },
     "execution_count": 82,
     "metadata": {},
     "output_type": "execute_result"
    }
   ],
   "source": [
    "'The Bodyguard' in Dict"
   ]
  },
  {
   "cell_type": "code",
   "execution_count": 83,
   "id": "fe11cb03-926e-4244-af9e-cfd7f571feff",
   "metadata": {},
   "outputs": [
    {
     "data": {
      "text/plain": [
       "False"
      ]
     },
     "execution_count": 83,
     "metadata": {},
     "output_type": "execute_result"
    }
   ],
   "source": [
    "'Starboy' in Dict"
   ]
  },
  {
   "cell_type": "code",
   "execution_count": 84,
   "id": "8e9905f3-441a-44c2-918c-e078cf20d6d6",
   "metadata": {},
   "outputs": [
    {
     "name": "stdout",
     "output_type": "stream",
     "text": [
      "dict_keys(['Back in Black', 'The Bodyguard', 'Graduation', 'Thriller'])\n"
     ]
    }
   ],
   "source": [
    "print(Dict.keys())"
   ]
  },
  {
   "cell_type": "code",
   "execution_count": 85,
   "id": "ff333f8a-1482-48b0-840f-1dc57f64fb06",
   "metadata": {},
   "outputs": [
    {
     "name": "stdout",
     "output_type": "stream",
     "text": [
      "dict_values([1980, 1992, 2007, 1982])\n"
     ]
    }
   ],
   "source": [
    "print(Dict.values())"
   ]
  },
  {
   "cell_type": "markdown",
   "id": "8296cc45-beb1-436b-a9cc-c9032fcd56f3",
   "metadata": {},
   "source": [
    "### Sets\n",
    "- Sets are a type of collection\n",
    "    - This means that like lists and tuples you can input different Python types\n",
    "- Unlike lists and tuples they are unordered\n",
    "    - This means sets do not record element position\n",
    "- Sets only have **unique elements**\n",
    "    - This means there is only one of a particular element in a set"
   ]
  },
  {
   "cell_type": "code",
   "execution_count": 86,
   "id": "edfc4a40-6fcb-469d-8470-e817d7ebf727",
   "metadata": {},
   "outputs": [
    {
     "name": "stdout",
     "output_type": "stream",
     "text": [
      "['Michael Jackson', 'Thriller', 'Thriller', 1982]\n",
      "{'Michael Jackson', 'Thriller', 1982}\n"
     ]
    },
    {
     "data": {
      "text/plain": [
       "set"
      ]
     },
     "execution_count": 86,
     "metadata": {},
     "output_type": "execute_result"
    }
   ],
   "source": [
    "album_list = ['Michael Jackson', 'Thriller', 'Thriller', 1982]\n",
    "print(album_list)\n",
    "album_set = set(album_list)\n",
    "print(album_set)\n",
    "type(album_set)"
   ]
  },
  {
   "cell_type": "code",
   "execution_count": 87,
   "id": "632894b2-56bb-4508-a24b-34e11b83dd46",
   "metadata": {},
   "outputs": [
    {
     "name": "stdout",
     "output_type": "stream",
     "text": [
      "{'Michael Jackson', 'Thriller', 'NSYNC', 1982}\n"
     ]
    }
   ],
   "source": [
    "album_set.add('NSYNC')\n",
    "print(album_set)"
   ]
  },
  {
   "cell_type": "code",
   "execution_count": 88,
   "id": "a6192b6d-9088-4894-b9db-085358764fba",
   "metadata": {},
   "outputs": [
    {
     "name": "stdout",
     "output_type": "stream",
     "text": [
      "{'Michael Jackson', 'Thriller', 'NSYNC', 1982}\n"
     ]
    }
   ],
   "source": [
    "# If we try to add an element that already existis, nothing will happen because the elements of a set have to be unique\n",
    "album_set.add('NSYNC')\n",
    "print(album_set)"
   ]
  },
  {
   "cell_type": "code",
   "execution_count": 89,
   "id": "6cde94a9-5e98-48e8-8d8a-3f591553d7b0",
   "metadata": {},
   "outputs": [
    {
     "name": "stdout",
     "output_type": "stream",
     "text": [
      "{'Michael Jackson', 'Thriller', 1982}\n"
     ]
    }
   ],
   "source": [
    "album_set.remove('NSYNC')\n",
    "print(album_set)"
   ]
  },
  {
   "cell_type": "code",
   "execution_count": 90,
   "id": "0d8c852f-b359-4f60-979a-bec2cc87792e",
   "metadata": {},
   "outputs": [
    {
     "name": "stdout",
     "output_type": "stream",
     "text": [
      "True\n",
      "False\n"
     ]
    }
   ],
   "source": [
    "print('Thriller' in album_set)\n",
    "print('Cindy Lauper' in album_set)"
   ]
  },
  {
   "cell_type": "code",
   "execution_count": 91,
   "id": "42d97ff2-cae5-4086-8d91-a77a21fde3c3",
   "metadata": {},
   "outputs": [
    {
     "name": "stdout",
     "output_type": "stream",
     "text": [
      "{'Joe Cocker', 1972, 'The Dark Side of the Moon', 'Michael Jackson', 1982}\n",
      "{'Michael Jackson', 'Thriller', 1982}\n",
      "{'Michael Jackson', 1982}\n"
     ]
    }
   ],
   "source": [
    "album_set2 = {'Joe Cocker', 'Michael Jackson', 1972, 'The Dark Side of the Moon', 1982}\n",
    "print(album_set2)\n",
    "print(album_set)\n",
    "album_set3 = album_set & album_set2\n",
    "print(album_set3)"
   ]
  },
  {
   "cell_type": "code",
   "execution_count": 92,
   "id": "96049761-4779-4eb2-9fc5-75464bb6f878",
   "metadata": {},
   "outputs": [
    {
     "name": "stdout",
     "output_type": "stream",
     "text": [
      "{'Michael Jackson', 1982}\n"
     ]
    }
   ],
   "source": [
    "print(album_set.intersection(album_set2))"
   ]
  },
  {
   "cell_type": "code",
   "execution_count": 93,
   "id": "b4a36328-f2e7-4a72-b803-32edf483d222",
   "metadata": {},
   "outputs": [
    {
     "name": "stdout",
     "output_type": "stream",
     "text": [
      "{'Joe Cocker', 1972, 'The Dark Side of the Moon', 'Michael Jackson', 1982}\n",
      "{'Michael Jackson', 'Thriller', 1982}\n",
      "{'Joe Cocker', 'Thriller', 1972, 'The Dark Side of the Moon', 'Michael Jackson', 1982}\n"
     ]
    }
   ],
   "source": [
    "print(album_set2)\n",
    "print(album_set)\n",
    "album_set4 = album_set.union(album_set2)\n",
    "print(album_set4)"
   ]
  },
  {
   "cell_type": "code",
   "execution_count": 94,
   "id": "1e60a849-6d85-417b-93c3-cc80e5ed1154",
   "metadata": {},
   "outputs": [
    {
     "name": "stdout",
     "output_type": "stream",
     "text": [
      "False\n",
      "True\n"
     ]
    }
   ],
   "source": [
    "print(album_set.issubset(album_set2))\n",
    "print(album_set.issubset(album_set4))"
   ]
  },
  {
   "cell_type": "code",
   "execution_count": 95,
   "id": "b039fd8c-f303-4108-a730-be012d0a08d4",
   "metadata": {},
   "outputs": [
    {
     "name": "stdout",
     "output_type": "stream",
     "text": [
      "True\n"
     ]
    }
   ],
   "source": [
    "print(album_set4.issuperset(album_set))"
   ]
  },
  {
   "cell_type": "code",
   "execution_count": 96,
   "id": "79899a3b-c0d6-4d78-805f-529fb5a3b23b",
   "metadata": {},
   "outputs": [
    {
     "name": "stdout",
     "output_type": "stream",
     "text": [
      "{'Joe Cocker', 1972, 'The Dark Side of the Moon'}\n"
     ]
    }
   ],
   "source": [
    "print(album_set4.difference(album_set))"
   ]
  },
  {
   "cell_type": "markdown",
   "id": "908502c3-15de-4c10-89a2-eab00283b213",
   "metadata": {},
   "source": [
    "## Module 3 - Python Programming Fundamentals"
   ]
  },
  {
   "cell_type": "markdown",
   "id": "72daed4a-2bd2-4e19-a924-a4120a7b0aca",
   "metadata": {},
   "source": [
    "### Conditions and Branching"
   ]
  },
  {
   "cell_type": "markdown",
   "id": "47a635f1-2982-4504-910d-673f3faee2c2",
   "metadata": {},
   "source": [
    "#### Conditions"
   ]
  },
  {
   "cell_type": "code",
   "execution_count": 97,
   "id": "27024fb5-6275-4b54-935c-d373e4e7af64",
   "metadata": {},
   "outputs": [
    {
     "name": "stdout",
     "output_type": "stream",
     "text": [
      "False\n",
      "True\n"
     ]
    }
   ],
   "source": [
    "# Equality operator\n",
    "\n",
    "a = 6\n",
    "print(a == 7)\n",
    "print(a == 6)"
   ]
  },
  {
   "cell_type": "code",
   "execution_count": 98,
   "id": "899cb82f-e06e-4ea6-b144-6dc55bc0e989",
   "metadata": {},
   "outputs": [
    {
     "name": "stdout",
     "output_type": "stream",
     "text": [
      "False\n",
      "True\n",
      "True\n"
     ]
    }
   ],
   "source": [
    "# Greater to operator\n",
    "\n",
    "b = 7\n",
    "print(b > 7)\n",
    "print(b >= 7)\n",
    "print(b > 6)"
   ]
  },
  {
   "cell_type": "code",
   "execution_count": 99,
   "id": "800b782a-f928-422b-9ed5-bb9d7d11f078",
   "metadata": {},
   "outputs": [
    {
     "name": "stdout",
     "output_type": "stream",
     "text": [
      "False\n",
      "True\n",
      "True\n"
     ]
    }
   ],
   "source": [
    "# Less than operator\n",
    "\n",
    "c = 7\n",
    "print(c < 7)\n",
    "print(c <= 7)\n",
    "print(c < 8)"
   ]
  },
  {
   "cell_type": "code",
   "execution_count": 100,
   "id": "1746406c-139c-4a8b-947f-b4935aed8ef8",
   "metadata": {},
   "outputs": [
    {
     "name": "stdout",
     "output_type": "stream",
     "text": [
      "True\n",
      "False\n",
      "True\n"
     ]
    }
   ],
   "source": [
    "# Inequality operator\n",
    "\n",
    "d = 6\n",
    "print(d != 5)\n",
    "print(d != 6)\n",
    "print(d != 7)"
   ]
  },
  {
   "cell_type": "markdown",
   "id": "9b92f262-c82c-4432-b370-e13cc0c43257",
   "metadata": {},
   "source": [
    "#### Branching"
   ]
  },
  {
   "cell_type": "code",
   "execution_count": 101,
   "id": "e4b780b5-3e29-43c3-9061-1f775bc853cb",
   "metadata": {},
   "outputs": [
    {
     "name": "stdout",
     "output_type": "stream",
     "text": [
      "you can enter\n",
      "move on\n",
      "move on\n"
     ]
    }
   ],
   "source": [
    "# The if statement\n",
    "\n",
    "age = 20\n",
    "if (age > 18):\n",
    "    print('you can enter')\n",
    "print('move on')\n",
    "age = 17\n",
    "if (age > 18):\n",
    "    print('you can enter')\n",
    "print('move on')"
   ]
  },
  {
   "cell_type": "code",
   "execution_count": 102,
   "id": "ff028fa0-f538-41a8-9d66-42e688393340",
   "metadata": {},
   "outputs": [
    {
     "name": "stdout",
     "output_type": "stream",
     "text": [
      "you can enter\n",
      "move on\n",
      "go see Meat Loaf\n",
      "move on\n"
     ]
    }
   ],
   "source": [
    "# The else statement\n",
    "\n",
    "age = 20\n",
    "if (age > 18):\n",
    "    print('you can enter')\n",
    "else:\n",
    "    print('go see Meat Loaf')\n",
    "print('move on')\n",
    "age = 17\n",
    "if (age > 18):\n",
    "    print('you can enter')\n",
    "else:\n",
    "    print('go see Meat Loaf')\n",
    "print('move on')\n"
   ]
  },
  {
   "cell_type": "code",
   "execution_count": 103,
   "id": "d86b9b7f-d3ab-4ce8-8d42-376555c682f7",
   "metadata": {},
   "outputs": [
    {
     "name": "stdout",
     "output_type": "stream",
     "text": [
      "you can enter\n",
      "move on\n",
      "go see Pink Floyd\n",
      "move on\n",
      "go see Meat Loaf\n",
      "move on\n"
     ]
    }
   ],
   "source": [
    "# The elif statement\n",
    "\n",
    "age = 20\n",
    "if (age > 18):\n",
    "    print('you can enter')\n",
    "elif (age == 18):\n",
    "    print('go see Pink Floyd')\n",
    "else:\n",
    "    print('go see Meat Loaf')\n",
    "print('move on')\n",
    "age = 18\n",
    "if (age > 18):\n",
    "    print('you can enter')\n",
    "elif (age == 18):\n",
    "    print('go see Pink Floyd')\n",
    "else:\n",
    "    print('go see Meat Loaf')\n",
    "print('move on')\n",
    "age = 17\n",
    "if (age > 18):\n",
    "    print('you can enter')\n",
    "elif (age == 18):\n",
    "    print('go see Pink Floyd')\n",
    "else:\n",
    "    print('go see Meat Loaf')\n",
    "print('move on')"
   ]
  },
  {
   "cell_type": "markdown",
   "id": "d1a0a0b6-696b-4129-b4b8-a5e61a1ef46f",
   "metadata": {},
   "source": [
    "#### Logic operators"
   ]
  },
  {
   "cell_type": "code",
   "execution_count": 104,
   "id": "d24b934c-ded4-4868-bfaf-fbc9687e46db",
   "metadata": {},
   "outputs": [
    {
     "name": "stdout",
     "output_type": "stream",
     "text": [
      "False\n",
      "True\n"
     ]
    }
   ],
   "source": [
    "# The not operator\n",
    "\n",
    "print(not(True))\n",
    "print(not(False))"
   ]
  },
  {
   "cell_type": "code",
   "execution_count": 105,
   "id": "153c95c1-34e2-4971-a1d7-0654ce848218",
   "metadata": {},
   "outputs": [
    {
     "name": "stdout",
     "output_type": "stream",
     "text": [
      "The album was made in the 70's or 90's\n",
      "The album was made in the 1980's\n",
      "The album was made in the 70's or 90's\n"
     ]
    }
   ],
   "source": [
    "# The or operator\n",
    "\n",
    "album_year = 1990\n",
    "if (album_year < 1980) or (album_year > 1989):\n",
    "    print(\"The album was made in the 70's or 90's\")\n",
    "else:\n",
    "    print(\"The album was made in the 1980's\")\n",
    "album_year = 1985\n",
    "if (album_year < 1980) or (album_year > 1989):\n",
    "    print(\"The album was made in the 70's or 90's\")\n",
    "else:\n",
    "    print(\"The album was made in the 1980's\")\n",
    "album_year = 1995\n",
    "if (album_year < 1980) or (album_year > 1989):\n",
    "    print(\"The album was made in the 70's or 90's\")\n",
    "else:\n",
    "    print(\"The album was made in the 1980's\")"
   ]
  },
  {
   "cell_type": "code",
   "execution_count": 106,
   "id": "f54b775d-c2fe-4cc5-903d-ff766aff6f98",
   "metadata": {},
   "outputs": [
    {
     "name": "stdout",
     "output_type": "stream",
     "text": [
      "This album was made in the 80's\n"
     ]
    }
   ],
   "source": [
    "# The and operator\n",
    "\n",
    "album_year = 1983\n",
    "if (album_year > 1979) and (album_year < 1990):\n",
    "    print(\"This album was made in the 80's\")"
   ]
  },
  {
   "cell_type": "markdown",
   "id": "8dd3372a-bdf0-413b-ac23-53d5aa7beb35",
   "metadata": {},
   "source": [
    "#### There are 2 sisters, Annie and Jane, born in 1996 and 1999 respectively. They want to know who was born in a leap year. Write an if-else statement to determine who was born in a leap year."
   ]
  },
  {
   "cell_type": "markdown",
   "id": "08b8a9ec-23c8-46fd-934b-f1dd5242999a",
   "metadata": {},
   "source": [
    "**[Definition of leap year](https://www.rmg.co.uk/stories/topics/which-years-are-leap-years-can-you-have-leap-seconds#:~:text=To%20be%20a%20leap%20year,2036%20are%20all%20leap%20years.)**"
   ]
  },
  {
   "cell_type": "code",
   "execution_count": 107,
   "id": "c732353c-c8fe-4a0a-8e99-c0770f5a340a",
   "metadata": {},
   "outputs": [
    {
     "name": "stdout",
     "output_type": "stream",
     "text": [
      "You were born in a end-of-century leap year\n"
     ]
    }
   ],
   "source": [
    "# Solution 1\n",
    "\n",
    "year = 2000\n",
    "if (year / 100 - year // 100) == 0 and (year / 400 - year // 400) == 0:\n",
    "    print('You were born in a end-of-century leap year')\n",
    "elif (year / 4 - year // 4) == 0:\n",
    "    print('You were born in a leap year')\n",
    "else:\n",
    "    print('You were not born in a leap year')"
   ]
  },
  {
   "cell_type": "code",
   "execution_count": 108,
   "id": "3cc25247-7137-4a78-af18-29eff74f48be",
   "metadata": {},
   "outputs": [
    {
     "name": "stdout",
     "output_type": "stream",
     "text": [
      "You were born in a leap year\n"
     ]
    }
   ],
   "source": [
    "# Solution 2 (using the module operator)\n",
    "\n",
    "year = 1996\n",
    "if (year % 100) == 0 and (year % 400) == 0:\n",
    "    print('You were born in a end-of-century leap year')\n",
    "elif (year % 4) == 0:\n",
    "    print('You were born in a leap year')\n",
    "else:\n",
    "    print('You were not born in a leap year')"
   ]
  },
  {
   "cell_type": "markdown",
   "id": "11bf9b3d-2140-494b-bd46-50e3a2e5ad55",
   "metadata": {},
   "source": [
    "##### In a school canteen, children under the age of 9 are only given milk porridge for breakfast. Children from 10 to 14 are given a sandwich, and children from 15 to 17 are given a burger. The canteen master asks the age of the student and gives them breakfast accordingly. Sam's age is 10. Use if-else statement to determine what the canteen master will offer to him."
   ]
  },
  {
   "cell_type": "code",
   "execution_count": 109,
   "id": "55f43015-5238-4945-a0ba-bd64d614414e",
   "metadata": {},
   "outputs": [
    {
     "name": "stdout",
     "output_type": "stream",
     "text": [
      "The canteen master will offer him a sandwich\n"
     ]
    }
   ],
   "source": [
    "Sams_age = 10\n",
    "if Sams_age <= 9:\n",
    "    print('The canteen master will offer him porridge')\n",
    "elif Sams_age >= 10 and Sams_age <= 14:\n",
    "    print('The canteen master will offer him a sandwich')\n",
    "elif Sams_age >= 15 and Sams_age <= 17:\n",
    "    print('The canteen master will offer him a burger')\n",
    "elif Sams_age >= 18:\n",
    "    print('The canteen master will not know what to offer him')"
   ]
  },
  {
   "cell_type": "markdown",
   "id": "6776c15c-9b04-4a9d-8a51-5df94ce66e9c",
   "metadata": {},
   "source": [
    "### Loops"
   ]
  },
  {
   "cell_type": "markdown",
   "id": "93623ecd-6d1e-4de3-bae4-2fe0342ccf8f",
   "metadata": {},
   "source": [
    "#### For loops"
   ]
  },
  {
   "cell_type": "code",
   "execution_count": 110,
   "id": "9f26efb7-f3d8-4c9e-9aec-bb29867c696e",
   "metadata": {},
   "outputs": [
    {
     "name": "stdout",
     "output_type": "stream",
     "text": [
      "range(0, 5)\n",
      "range(10, 20)\n"
     ]
    }
   ],
   "source": [
    "# The range function returns a range object\n",
    "print(range(5))\n",
    "print(range(10, 20))"
   ]
  },
  {
   "cell_type": "code",
   "execution_count": 111,
   "id": "4c1c065f-5b5b-431a-a113-6161646efb31",
   "metadata": {},
   "outputs": [
    {
     "name": "stdout",
     "output_type": "stream",
     "text": [
      "0\n",
      "1\n",
      "2\n"
     ]
    }
   ],
   "source": [
    "# for loops are used when a certain piece of code has to be iterated for a predefined (known) number of times\n",
    "for x in range(0, 3):\n",
    "    print(x)"
   ]
  },
  {
   "cell_type": "code",
   "execution_count": 112,
   "id": "82383042-807e-41c7-a154-866cef0dd605",
   "metadata": {},
   "outputs": [
    {
     "name": "stdout",
     "output_type": "stream",
     "text": [
      "15\n",
      "16\n",
      "17\n",
      "18\n",
      "19\n"
     ]
    }
   ],
   "source": [
    "for y in range(15, 20):\n",
    "    print(y)"
   ]
  },
  {
   "cell_type": "code",
   "execution_count": 113,
   "id": "400149ec-b336-4f26-b635-a8770ab69933",
   "metadata": {},
   "outputs": [
    {
     "name": "stdout",
     "output_type": "stream",
     "text": [
      "AA\n",
      "BA\n",
      "CA\n"
     ]
    }
   ],
   "source": [
    "for x in ['A', 'B', 'C']:\n",
    "    print(x+'A')"
   ]
  },
  {
   "cell_type": "code",
   "execution_count": 114,
   "id": "2dcd3416-33cf-4f10-9d55-01e1f57b2d1a",
   "metadata": {},
   "outputs": [
    {
     "name": "stdout",
     "output_type": "stream",
     "text": [
      "red\n",
      "yellow\n",
      "green\n",
      "purple\n",
      "blue\n"
     ]
    }
   ],
   "source": [
    "# When using indexes, you have to manage the indexes and the elements of the list being referenced to separately\n",
    "squares = ['red', 'yellow', 'green', 'purple', 'blue']\n",
    "for i in range(0, 5):\n",
    "    print(squares[i])"
   ]
  },
  {
   "cell_type": "code",
   "execution_count": 115,
   "id": "a30650dc-9fc9-489f-8443-f7156de9fc7d",
   "metadata": {},
   "outputs": [
    {
     "name": "stdout",
     "output_type": "stream",
     "text": [
      "red\n",
      "yellow\n",
      "green\n",
      "purple\n",
      "blue\n"
     ]
    }
   ],
   "source": [
    "# Using the len function to determine the extent of the range\n",
    "squares = ['red', 'yellow', 'green', 'purple', 'blue']\n",
    "for i in range(0, len(squares)):\n",
    "    print(squares[i])"
   ]
  },
  {
   "cell_type": "code",
   "execution_count": 116,
   "id": "aa6656ce-f08e-4239-b63b-5f0af40b55fe",
   "metadata": {},
   "outputs": [
    {
     "name": "stdout",
     "output_type": "stream",
     "text": [
      "red\n",
      "yellow\n",
      "green\n",
      "purple\n",
      "blue\n"
     ]
    }
   ],
   "source": [
    "# Not using indexes, directly referencing the elements of a list\n",
    "squares = ['red', 'yellow', 'green', 'purple', 'blue']\n",
    "for square in squares:\n",
    "    print(square)"
   ]
  },
  {
   "cell_type": "code",
   "execution_count": 117,
   "id": "a4b06fd4-391f-4366-8a75-ee76fe6d6cb8",
   "metadata": {},
   "outputs": [
    {
     "name": "stdout",
     "output_type": "stream",
     "text": [
      "0 red\n",
      "1 yellow\n",
      "2 green\n",
      "3 purple\n",
      "4 blue\n"
     ]
    }
   ],
   "source": [
    "# Using the enumerate function\n",
    "squares = ['red', 'yellow', 'green', 'purple', 'blue']\n",
    "for i, square in enumerate(squares):\n",
    "    print(i, square)"
   ]
  },
  {
   "cell_type": "markdown",
   "id": "8a8f761f-c2db-4162-a4ba-5fec12091370",
   "metadata": {},
   "source": [
    "#### While loops"
   ]
  },
  {
   "cell_type": "code",
   "execution_count": 118,
   "id": "a263739e-c8dd-4299-8127-027c41a93b6b",
   "metadata": {},
   "outputs": [
    {
     "name": "stdout",
     "output_type": "stream",
     "text": [
      "1\n",
      "2\n",
      "3\n",
      "4\n",
      "5\n"
     ]
    }
   ],
   "source": [
    "# while loops are used when a certain piece of code has to be iterated until a certain condition is met. It involves the initialisation of variables that control the condition being tested\n",
    "count = 1\n",
    "while count <= 5:\n",
    "    print(count)\n",
    "    count += 1"
   ]
  },
  {
   "cell_type": "code",
   "execution_count": 119,
   "id": "c8c6bf41-fc1d-4847-a151-7f3256832789",
   "metadata": {},
   "outputs": [
    {
     "name": "stdout",
     "output_type": "stream",
     "text": [
      "['orange']\n",
      "['orange', 'orange']\n"
     ]
    }
   ],
   "source": [
    "squares = ['orange', 'orange', 'green', 'orange', 'blue']\n",
    "newsquares = []\n",
    "i = 0\n",
    "while(squares[i] == 'orange'):\n",
    "      newsquares.append(squares[i])\n",
    "      i = i+1\n",
    "      print(newsquares)"
   ]
  },
  {
   "cell_type": "markdown",
   "id": "60591036-d870-4cff-906c-b6bdcee1e41d",
   "metadata": {},
   "source": [
    "The following is a list of animals in a National Zoo. \n",
    "<code>Animals = [\"lion\", \"giraffe\", \"gorilla\", \"parrots\", \"crocodile\",\"deer\", \"swan\"]</code>\n",
    "\n",
    "Your brother needs to write an essay on the animals whose names are made of 7 letters. Help him find those animals through a <code>while</code> loop and create a separate list of such animals."
   ]
  },
  {
   "cell_type": "code",
   "execution_count": 120,
   "id": "09e48ac0-3b73-4087-87a4-74e75cef4726",
   "metadata": {},
   "outputs": [
    {
     "name": "stdout",
     "output_type": "stream",
     "text": [
      "7-letter list of animals:\n",
      "['giraffe', 'gorilla', 'parrots']\n"
     ]
    }
   ],
   "source": [
    "Animals = ['lion', 'giraffe', 'gorilla', 'parrots', 'crocodile', 'deer', 'swan']\n",
    "SevenLetterList = []\n",
    "i = 0\n",
    "print('7-letter list of animals:')\n",
    "while i < len(Animals):\n",
    "    if len(Animals[i]) == 7:\n",
    "        SevenLetterList.append(Animals[i])\n",
    "    i += 1\n",
    "print(SevenLetterList)"
   ]
  },
  {
   "cell_type": "markdown",
   "id": "2a544ecf-289c-4c5f-9556-dc8f77cba0a8",
   "metadata": {
    "tags": []
   },
   "source": [
    "### Functions"
   ]
  },
  {
   "cell_type": "code",
   "execution_count": 121,
   "id": "3ee4aa55-7a16-4910-a1ee-be8fb72f1d71",
   "metadata": {
    "tags": []
   },
   "outputs": [
    {
     "name": "stdout",
     "output_type": "stream",
     "text": [
      "[7.0, 7.0, 8.5, 9.0, 9.5, 9.5, 9.5, 10.0]\n",
      "[10.0, 8.5, 9.5, 7.0, 7.0, 9.5, 9.0, 9.5]\n"
     ]
    }
   ],
   "source": [
    "# Sorted function. A function does not change the input list\n",
    "album_ratings = [10.0, 8.5, 9.5, 7.0, 7.0, 9.5, 9.0, 9.5]\n",
    "sorted_album_ratings = sorted(album_ratings)\n",
    "print(sorted_album_ratings)\n",
    "print(album_ratings)"
   ]
  },
  {
   "cell_type": "code",
   "execution_count": 122,
   "id": "3ffbae0e-33ec-44f0-8a0c-3bb5a311719e",
   "metadata": {},
   "outputs": [
    {
     "name": "stdout",
     "output_type": "stream",
     "text": [
      "[10.0, 8.5, 9.5, 7.0, 7.0, 9.5, 9.0, 9.5]\n",
      "[7.0, 7.0, 8.5, 9.0, 9.5, 9.5, 9.5, 10.0]\n"
     ]
    }
   ],
   "source": [
    "# Sort method. A method changes the input list\n",
    "album_ratings = [10.0, 8.5, 9.5, 7.0, 7.0, 9.5, 9.0, 9.5]\n",
    "print(album_ratings)\n",
    "album_ratings.sort()\n",
    "print(album_ratings)"
   ]
  },
  {
   "cell_type": "code",
   "execution_count": 123,
   "id": "334f775d-31de-4b39-80c8-594202856e21",
   "metadata": {},
   "outputs": [
    {
     "name": "stdout",
     "output_type": "stream",
     "text": [
      "6\n"
     ]
    }
   ],
   "source": [
    "def add1(a):\n",
    "    b = a + 1\n",
    "    return(b)\n",
    "print(add1(5))"
   ]
  },
  {
   "cell_type": "code",
   "execution_count": 124,
   "id": "96476add-1a88-4833-92b7-202773c8d0d3",
   "metadata": {},
   "outputs": [
    {
     "name": "stdout",
     "output_type": "stream",
     "text": [
      "6\n",
      "Help on function add1 in module __main__:\n",
      "\n",
      "add1(a)\n",
      "    add 1 to a\n",
      "\n"
     ]
    }
   ],
   "source": [
    "# Use triple quotes (docstring) to document what the fuction does\n",
    "def add1(a):\n",
    "    \"\"\"\n",
    "    add 1 to a\n",
    "    \"\"\"\n",
    "    b = a + 1\n",
    "    return(b)\n",
    "print(add1(5))\n",
    "help(add1)"
   ]
  },
  {
   "cell_type": "code",
   "execution_count": 125,
   "id": "7203ef89-882b-4228-b00c-0bf34bafac2d",
   "metadata": {},
   "outputs": [
    {
     "name": "stdout",
     "output_type": "stream",
     "text": [
      "6\n",
      "Help on function mult in module __main__:\n",
      "\n",
      "mult(a, b)\n",
      "    multiply a and b\n",
      "\n"
     ]
    }
   ],
   "source": [
    "def mult(a, b):\n",
    "    '''\n",
    "    multiply a and b\n",
    "    '''\n",
    "    c = a * b\n",
    "    return(c)\n",
    "print(mult(2, 3))\n",
    "help(mult)"
   ]
  },
  {
   "cell_type": "code",
   "execution_count": 126,
   "id": "4e32f5a2-aa7f-4e64-921e-dec766e599b3",
   "metadata": {},
   "outputs": [
    {
     "name": "stdout",
     "output_type": "stream",
     "text": [
      "Michael Jackson Michael Jackson \n",
      "Help on function mult in module __main__:\n",
      "\n",
      "mult(a, b)\n",
      "    multiply a and b\n",
      "\n"
     ]
    }
   ],
   "source": [
    "def mult(a, b):\n",
    "    '''\n",
    "    multiply a and b\n",
    "    '''\n",
    "    c=a*b\n",
    "    return(c)\n",
    "print(mult(2, 'Michael Jackson '))\n",
    "help(mult)"
   ]
  },
  {
   "cell_type": "code",
   "execution_count": 127,
   "id": "df35582c-52c3-426e-855d-cb4574f83093",
   "metadata": {},
   "outputs": [
    {
     "name": "stdout",
     "output_type": "stream",
     "text": [
      "Michael Jackson\n",
      "None\n"
     ]
    }
   ],
   "source": [
    "# If a function does not have a return statement, it returns a special None object\n",
    "def MJ():\n",
    "    print('Michael Jackson')\n",
    "print(MJ())"
   ]
  },
  {
   "cell_type": "code",
   "execution_count": 128,
   "id": "0e4ad950-05ab-40cc-bb2f-17b09e0b56c1",
   "metadata": {
    "tags": []
   },
   "outputs": [
    {
     "name": "stdout",
     "output_type": "stream",
     "text": [
      "None\n"
     ]
    }
   ],
   "source": [
    "# A function cannot have an empty body so we use the keyword pass\n",
    "def NoWork():\n",
    "    pass\n",
    "print(NoWork())"
   ]
  },
  {
   "cell_type": "code",
   "execution_count": 129,
   "id": "55036d1f-94de-4d6e-bde5-ce6f54c3d9e5",
   "metadata": {
    "tags": []
   },
   "outputs": [
    {
     "name": "stdout",
     "output_type": "stream",
     "text": [
      "None\n"
     ]
    }
   ],
   "source": [
    "# It is interesting to see the function NoWork with the return statement None\n",
    "def NoWork():\n",
    "    pass\n",
    "    return None\n",
    "print(NoWork())"
   ]
  },
  {
   "cell_type": "code",
   "execution_count": 130,
   "id": "e458057c-5881-4eab-9cea-a2f93fb694c5",
   "metadata": {},
   "outputs": [
    {
     "name": "stdout",
     "output_type": "stream",
     "text": [
      "2 plus 1 equals 3\n"
     ]
    },
    {
     "data": {
      "text/plain": [
       "3"
      ]
     },
     "execution_count": 130,
     "metadata": {},
     "output_type": "execute_result"
    }
   ],
   "source": [
    "def add1(a):\n",
    "    b = a + 1;\n",
    "    print(a, 'plus 1 equals', b)\n",
    "    return b\n",
    "add1(2)"
   ]
  },
  {
   "cell_type": "code",
   "execution_count": 131,
   "id": "c1adde43-cf30-4d80-84c6-3fc2fe116bcd",
   "metadata": {},
   "outputs": [
    {
     "name": "stdout",
     "output_type": "stream",
     "text": [
      "Album 0 rating is  10.0\n",
      "Album 1 rating is  8.5\n",
      "Album 2 rating is  9.5\n"
     ]
    }
   ],
   "source": [
    "def printStuff(Stuff):\n",
    "    for i, s in enumerate(Stuff):\n",
    "        print('Album', i, 'rating is ', s)\n",
    "album_ratings = [10.0, 8.5, 9.5]\n",
    "printStuff(album_ratings)"
   ]
  },
  {
   "cell_type": "code",
   "execution_count": 132,
   "id": "ebeaf2aa-8b5a-4cfe-9e65-23ac015f2c6a",
   "metadata": {},
   "outputs": [
    {
     "name": "stdout",
     "output_type": "stream",
     "text": [
      "a1\n",
      "b1\n",
      "c1\n"
     ]
    }
   ],
   "source": [
    "def Print(A):\n",
    "    for a in A:\n",
    "        print(a + '1')\n",
    "Print(['a', 'b', 'c'])"
   ]
  },
  {
   "cell_type": "code",
   "execution_count": 133,
   "id": "4a8fdbfe-d5ff-4379-8327-3313421fb2d0",
   "metadata": {},
   "outputs": [
    {
     "name": "stdout",
     "output_type": "stream",
     "text": [
      "Michael Jackson\n",
      "AC/DC\n",
      "Pink Floyd\n"
     ]
    }
   ],
   "source": [
    "# Collecting arguments\n",
    "def ArtistNames(*names):\n",
    "    for name in names:\n",
    "        print(name)\n",
    "ArtistNames('Michael Jackson', 'AC/DC', 'Pink Floyd')"
   ]
  },
  {
   "cell_type": "code",
   "execution_count": 134,
   "id": "3bb41ce6-892d-4453-b453-626ced6437e8",
   "metadata": {},
   "outputs": [
    {
     "name": "stdout",
     "output_type": "stream",
     "text": [
      "Michael Jackson\n",
      "AC/DC\n"
     ]
    }
   ],
   "source": [
    "# Collecting arguments\n",
    "def ArtistNames(*names):\n",
    "    for name in names:\n",
    "        print(name)\n",
    "ArtistNames('Michael Jackson', 'AC/DC')"
   ]
  },
  {
   "cell_type": "code",
   "execution_count": 135,
   "id": "d49f13dc-302c-489f-937d-f48880fb011a",
   "metadata": {},
   "outputs": [
    {
     "name": "stdout",
     "output_type": "stream",
     "text": [
      "1982\n",
      "2017\n"
     ]
    }
   ],
   "source": [
    "# Variables within a global or local scope. Variables inside the glogal scope can have the same names as variables in the local scope with no conflict\n",
    "def Thriller():\n",
    "    Date = 1982\n",
    "    return(Date)\n",
    "Date = 2017\n",
    "print(Thriller())\n",
    "print(Date)"
   ]
  },
  {
   "cell_type": "code",
   "execution_count": 136,
   "id": "b0503cd7-a448-45aa-b0e5-84d255de51dc",
   "metadata": {},
   "outputs": [
    {
     "name": "stdout",
     "output_type": "stream",
     "text": [
      "9\n",
      "10\n"
     ]
    }
   ],
   "source": [
    "# When a variable is not defined in the local scope, Python will leave the scope and check if the variable exists in the global scope\n",
    "def ACDC(y):\n",
    "    print(Rating)\n",
    "    return(Rating + y)\n",
    "Rating = 9\n",
    "Z=ACDC(1)\n",
    "print(Z)"
   ]
  },
  {
   "cell_type": "code",
   "execution_count": 137,
   "id": "a981521b-0fed-4bab-be13-b7708b95e434",
   "metadata": {},
   "outputs": [
    {
     "name": "stdout",
     "output_type": "stream",
     "text": [
      "45 million\n"
     ]
    }
   ],
   "source": [
    "# Using the keyword global to create a global varible inside a function\n",
    "def PinkFloyd():\n",
    "    global ClaimedSales\n",
    "    ClaimedSales = '45 million'\n",
    "    return ClaimedSales\n",
    "PinkFloyd()\n",
    "print(ClaimedSales)"
   ]
  },
  {
   "cell_type": "markdown",
   "id": "c12d5665-a25e-4f0c-bc73-1f16535cc5a6",
   "metadata": {},
   "source": [
    "**Count the Frequency of Words Appearing in a String Using a Dictionary.** \n",
    "\n",
    "Find the count of occurence of any word in our string using python. This is what we are going to do in this section, count the number of word in a given string and print it.\n",
    "\n",
    "Lets suppose we have a ‘string’ and the ‘word’ and we need to find the count of occurence of this word in our string using python. This is what we are going to do in this section, count the number of word in a given string and print it. \n",
    "\n",
    "The first thing, we will do is define a function and and then create a list that will be empty initially.\n",
    "\n",
    "Next, we will add a code to convert the string to a list. Python string has a split() method. It takes a string and some separator to return a list.\n",
    "\n",
    "Now we will declare an empty dictionary.\n",
    "\n",
    "Next we will add code using for loop to iterate the words and value will will count the frequency of each words in the string and store them to the dictionary.\n",
    "\n",
    "Finally we will print the dictionary."
   ]
  },
  {
   "cell_type": "code",
   "execution_count": 138,
   "id": "d446b538-50e2-40f5-b4e1-2cabdad905ef",
   "metadata": {},
   "outputs": [
    {
     "name": "stdout",
     "output_type": "stream",
     "text": [
      "{'Mary': 6, 'had': 2, 'a': 2, 'little': 3, 'lamb': 3, 'Little': 1, 'lamb,': 1, 'lamb.Its': 1, 'fleece': 1, 'was': 2, 'white': 1, 'as': 1, 'snow': 1, 'And': 1, 'everywhere': 1, 'that': 2, 'went': 3, 'went,': 1, 'Everywhere': 1, 'The': 1, 'sure': 1, 'to': 1, 'go': 1}\n"
     ]
    }
   ],
   "source": [
    "def countWords(string):\n",
    "    words = []\n",
    "    words = string.split()\n",
    "    dictionary = {}\n",
    "    for key in words:\n",
    "        dictionary[key] = words.count(key)\n",
    "    return(dictionary)\n",
    "sentence = 'Mary had a little lamb Little lamb, little lamb Mary had a little lamb.Its fleece was white as snow And everywhere that Mary went Mary went, Mary went \\\n",
    "Everywhere that Mary went The lamb was sure to go'\n",
    "print(countWords(sentence))"
   ]
  },
  {
   "cell_type": "markdown",
   "id": "9aa7993a-72db-4ebb-9bfa-e56bf7241e1c",
   "metadata": {},
   "source": [
    "### Exception Handling"
   ]
  },
  {
   "cell_type": "code",
   "execution_count": 139,
   "id": "30be6d83-c5a4-4f71-a094-9e4de73740c8",
   "metadata": {},
   "outputs": [
    {
     "name": "stdin",
     "output_type": "stream",
     "text": [
      "Please enter a number to divide a b\n"
     ]
    },
    {
     "name": "stdout",
     "output_type": "stream",
     "text": [
      "There was an error\n"
     ]
    }
   ],
   "source": [
    "a = 1\n",
    "try:\n",
    "    b = int(input('Please enter a number to divide a'))\n",
    "    a = a/b\n",
    "    print('Success a=',a)\n",
    "except:\n",
    "    print('There was an error')"
   ]
  },
  {
   "cell_type": "code",
   "execution_count": 140,
   "id": "1b6970b4-4dbb-4a65-87d8-e94c6a7ea66a",
   "metadata": {},
   "outputs": [
    {
     "name": "stdin",
     "output_type": "stream",
     "text": [
      "Please enter a number to divide a b\n"
     ]
    },
    {
     "name": "stdout",
     "output_type": "stream",
     "text": [
      "You did not provide a number\n"
     ]
    }
   ],
   "source": [
    "a = 1\n",
    "\n",
    "try:\n",
    "    b = int(input('Please enter a number to divide a'))\n",
    "    a = a/b\n",
    "    print('Success a=',a)\n",
    "except ZeroDivisionError:\n",
    "    print('The number you provided cant divide 1 because it is 0')\n",
    "except ValueError:\n",
    "    print('You did not provide a number')\n",
    "except:\n",
    "    print('Something went wrong')"
   ]
  },
  {
   "cell_type": "code",
   "execution_count": 141,
   "id": "a1831fe7-0e33-4134-bdfa-ebd6e76a839e",
   "metadata": {},
   "outputs": [
    {
     "name": "stdin",
     "output_type": "stream",
     "text": [
      "Please enter a number to divide a 5\n"
     ]
    },
    {
     "name": "stdout",
     "output_type": "stream",
     "text": [
      "success a= 0.2\n",
      "Processing Complete\n"
     ]
    }
   ],
   "source": [
    "a = 1\n",
    "try:\n",
    "    b = int(input('Please enter a number to divide a'))\n",
    "    a = a/b\n",
    "except ZeroDivisionError:\n",
    "    print('The number you provided cant divide 1 because it is 0')\n",
    "except ValueError:\n",
    "    print('You did not provide a number')\n",
    "except:\n",
    "    print('Something went wrong')\n",
    "else:\n",
    "    print('success a=',a)\n",
    "finally:\n",
    "    print('Processing Complete')"
   ]
  },
  {
   "cell_type": "markdown",
   "id": "b52ff953-17c7-462a-8a34-194067e33149",
   "metadata": {},
   "source": [
    "### Objects and Classes"
   ]
  },
  {
   "cell_type": "markdown",
   "id": "2ef032e2-467e-4685-b084-1b497f3970d4",
   "metadata": {},
   "source": [
    "#### Methods\n",
    "- A class or type's methods are **functions that every instance of that class or type provides**\n",
    "- It's **how you change or interact with the data in an object**\n",
    "- *Sorting* is an example of a method that interacts with the data in the object"
   ]
  },
  {
   "cell_type": "code",
   "execution_count": 142,
   "id": "2ffd9cd0-e5e3-48fb-b377-d482a38954ba",
   "metadata": {},
   "outputs": [
    {
     "name": "stdout",
     "output_type": "stream",
     "text": [
      "[10, 9, 6, 5, 10, 8, 9, 6, 2]\n",
      "[2, 5, 6, 6, 8, 9, 9, 10, 10]\n",
      "[10, 10, 9, 9, 8, 6, 6, 5, 2]\n"
     ]
    }
   ],
   "source": [
    "ratings = [10, 9, 6 ,5, 10, 8, 9, 6, 2]\n",
    "print(ratings)\n",
    "ratings.sort()\n",
    "print(ratings)\n",
    "ratings.reverse()\n",
    "print(ratings)"
   ]
  },
  {
   "cell_type": "code",
   "execution_count": 143,
   "id": "d905a2e6-c35a-4406-941c-3fed8ab07f04",
   "metadata": {},
   "outputs": [],
   "source": [
    "# Import the matplotlib library\n",
    "import matplotlib.pyplot as plt\n",
    "%matplotlib inline"
   ]
  },
  {
   "cell_type": "markdown",
   "id": "fb365930-4cf1-4256-a391-3916f61ab4a5",
   "metadata": {},
   "source": [
    "#### Class Circle"
   ]
  },
  {
   "cell_type": "code",
   "execution_count": 144,
   "id": "b0788ba5-8f72-4e03-856b-5acdee6a4acd",
   "metadata": {},
   "outputs": [],
   "source": [
    "# Create a class circle\n",
    "class Circle(object):\n",
    "    def __init__(self, radius = 3, colour = 'blue'):\n",
    "        self.radius = radius\n",
    "        self.colour = colour\n",
    "    def add_radius(self, r):\n",
    "        self.radius = self.radius + r\n",
    "        return(self.radius)\n",
    "    def drawCircle(self):\n",
    "        plt.gca().add_patch(plt.Circle((0, 0), radius = self.radius, fc = self.colour))\n",
    "        plt.axis('scaled')\n",
    "        plt.show()"
   ]
  },
  {
   "cell_type": "code",
   "execution_count": 145,
   "id": "73b229cb-41cf-4c56-8a9e-77109b83ef06",
   "metadata": {},
   "outputs": [],
   "source": [
    "# Create an object RedCircle\n",
    "RedCircle = Circle(10, 'red')"
   ]
  },
  {
   "cell_type": "code",
   "execution_count": 146,
   "id": "41840c5d-5b25-4414-80a0-84ff80f68fd6",
   "metadata": {},
   "outputs": [
    {
     "data": {
      "text/plain": [
       "['__class__',\n",
       " '__delattr__',\n",
       " '__dict__',\n",
       " '__dir__',\n",
       " '__doc__',\n",
       " '__eq__',\n",
       " '__format__',\n",
       " '__ge__',\n",
       " '__getattribute__',\n",
       " '__getstate__',\n",
       " '__gt__',\n",
       " '__hash__',\n",
       " '__init__',\n",
       " '__init_subclass__',\n",
       " '__le__',\n",
       " '__lt__',\n",
       " '__module__',\n",
       " '__ne__',\n",
       " '__new__',\n",
       " '__reduce__',\n",
       " '__reduce_ex__',\n",
       " '__repr__',\n",
       " '__setattr__',\n",
       " '__sizeof__',\n",
       " '__str__',\n",
       " '__subclasshook__',\n",
       " '__weakref__',\n",
       " 'add_radius',\n",
       " 'colour',\n",
       " 'drawCircle',\n",
       " 'radius']"
      ]
     },
     "execution_count": 146,
     "metadata": {},
     "output_type": "execute_result"
    }
   ],
   "source": [
    "dir(RedCircle)"
   ]
  },
  {
   "cell_type": "code",
   "execution_count": 147,
   "id": "8f1a873b-00bf-4c2a-a22d-c340edb7b9fb",
   "metadata": {},
   "outputs": [
    {
     "name": "stdout",
     "output_type": "stream",
     "text": [
      "10\n",
      "red\n"
     ]
    }
   ],
   "source": [
    "print(RedCircle.radius)\n",
    "print(RedCircle.colour)"
   ]
  },
  {
   "cell_type": "code",
   "execution_count": 148,
   "id": "ce306ca8-807e-49c4-85e0-f6bc50897556",
   "metadata": {},
   "outputs": [
    {
     "name": "stdout",
     "output_type": "stream",
     "text": [
      "1\n"
     ]
    }
   ],
   "source": [
    "RedCircle.radius = 1\n",
    "print(RedCircle.radius)"
   ]
  },
  {
   "cell_type": "code",
   "execution_count": 149,
   "id": "ff2e0af4-4814-4f02-9acf-df708617ada7",
   "metadata": {},
   "outputs": [
    {
     "data": {
      "image/png": "[encoded data removed]",
      "text/plain": [
       "<Figure size 640x480 with 1 Axes>"
      ]
     },
     "metadata": {},
     "output_type": "display_data"
    }
   ],
   "source": [
    "RedCircle.drawCircle()"
   ]
  },
  {
   "cell_type": "code",
   "execution_count": 150,
   "id": "2198ec95-f229-497f-9ddb-d42b3615dbb5",
   "metadata": {},
   "outputs": [
    {
     "name": "stdout",
     "output_type": "stream",
     "text": [
      "3\n",
      "8\n"
     ]
    }
   ],
   "source": [
    "RedCircle.add_radius(2)\n",
    "print(RedCircle.radius)\n",
    "RedCircle.add_radius(5)\n",
    "print(RedCircle.radius)"
   ]
  },
  {
   "cell_type": "code",
   "execution_count": 151,
   "id": "857d8dea-eb4c-477f-b1eb-6dcfeab0ae25",
   "metadata": {},
   "outputs": [
    {
     "name": "stdout",
     "output_type": "stream",
     "text": [
      "100\n",
      "blue\n"
     ]
    },
    {
     "data": {
      "image/png": "[encoded data removed]",
      "text/plain": [
       "<Figure size 640x480 with 1 Axes>"
      ]
     },
     "metadata": {},
     "output_type": "display_data"
    }
   ],
   "source": [
    "BlueCircle = Circle(radius = 100)\n",
    "print(BlueCircle.radius)\n",
    "print(BlueCircle.colour)\n",
    "BlueCircle.drawCircle()"
   ]
  },
  {
   "cell_type": "markdown",
   "id": "65a850f5-7445-438d-b2c2-4ae1d2383e68",
   "metadata": {},
   "source": [
    "#### Class Rectangle"
   ]
  },
  {
   "cell_type": "code",
   "execution_count": 152,
   "id": "e25844e4-ac05-4e5d-825a-87f019b1a6c0",
   "metadata": {},
   "outputs": [],
   "source": [
    "class Rectangle(object):\n",
    "    def __init__(self, width = 2, height = 3, colour = 'red'):\n",
    "        self.width = width\n",
    "        self.height = height\n",
    "        self.colour = colour\n",
    "    def drawRectangle(self):\n",
    "        plt.gca().add_patch(plt.Rectangle((0, 0), self.width, self.height ,fc=self.colour))\n",
    "        plt.axis('scaled')\n",
    "        plt.show()"
   ]
  },
  {
   "cell_type": "code",
   "execution_count": 153,
   "id": "1be97573-e354-4bd9-87a5-80f9b0b19809",
   "metadata": {},
   "outputs": [
    {
     "name": "stdout",
     "output_type": "stream",
     "text": [
      "2\n",
      "3\n",
      "blue\n"
     ]
    }
   ],
   "source": [
    "# Create an object SkinnyBlueRectangle\n",
    "SkinnyBlueRectangle = Rectangle(2, 3, 'blue')\n",
    "print(SkinnyBlueRectangle.width)\n",
    "print(SkinnyBlueRectangle.height)\n",
    "print(SkinnyBlueRectangle.colour)"
   ]
  },
  {
   "cell_type": "code",
   "execution_count": 154,
   "id": "84510387-4339-4f77-b3a5-b086c6325a69",
   "metadata": {},
   "outputs": [
    {
     "data": {
      "image/png": "[encoded data removed]",
      "text/plain": [
       "<Figure size 640x480 with 1 Axes>"
      ]
     },
     "metadata": {},
     "output_type": "display_data"
    }
   ],
   "source": [
    "SkinnyBlueRectangle.drawRectangle()"
   ]
  },
  {
   "cell_type": "code",
   "execution_count": 155,
   "id": "a54c3774-d2c1-4d45-b729-a030314a6dd3",
   "metadata": {},
   "outputs": [
    {
     "name": "stdout",
     "output_type": "stream",
     "text": [
      "20\n",
      "5\n",
      "yellow\n"
     ]
    }
   ],
   "source": [
    "# Create an object FatYellowRectangle\n",
    "FatYellowRectangle = Rectangle(20, 5, 'yellow')\n",
    "print(FatYellowRectangle.width)\n",
    "print(FatYellowRectangle.height)\n",
    "print(FatYellowRectangle.colour)"
   ]
  },
  {
   "cell_type": "code",
   "execution_count": 156,
   "id": "f14decfd-48fc-473a-bc7f-21f2976ed43f",
   "metadata": {},
   "outputs": [
    {
     "data": {
      "image/png": "[encoded data removed]",
      "text/plain": [
       "<Figure size 640x480 with 1 Axes>"
      ]
     },
     "metadata": {},
     "output_type": "display_data"
    }
   ],
   "source": [
    "FatYellowRectangle.drawRectangle()"
   ]
  },
  {
   "cell_type": "markdown",
   "id": "88a48ee0-7fe5-46cb-82e1-a83e13a4b0d0",
   "metadata": {},
   "source": [
    "### Practice Lab"
   ]
  },
  {
   "cell_type": "markdown",
   "id": "d422a693-ddbf-4995-abfb-754ef089433c",
   "metadata": {},
   "source": [
    "#### Text Analysis\n",
    "Text analysis, also known as text mining or text analytics, refers to the process of extracting meaningful information and insights from textual data"
   ]
  },
  {
   "cell_type": "code",
   "execution_count": 157,
   "id": "fe004925-18fd-43d1-b944-6ec92f574c05",
   "metadata": {},
   "outputs": [
    {
     "name": "stdout",
     "output_type": "stream",
     "text": [
      "Bare text:  miss brill although it was so brilliantly fine-the blue sky powdered with gold and great spots of light like white wine splashed over the jardins publiques-miss brill was glad that she had decided on her fur the air was motionless but when you opened your mouth there was just a faint chill like a chill from a glass of iced water before you sip and now and again a leaf came drifting-from nowhere from the sky miss brill put up her hand and touched her fur dear little thing it was nice to feel it again she had taken it out of its box that afternoon shaken out the moth-powder given it a good brush and rubbed the life back into the dim little eyes  what has been happening to me  said the sad little eyes oh how sweet it was to see them snap at her again from the red eiderdown but the nose which was of some black composition wasn t at all firm it must have had a knock somehow never mind-a little dab of black sealing-wax when the time came-when it was absolutely necessary little rogue yes she really felt like that about it little rogue biting its tail just by her left ear she could have taken it off and laid it on her lap and stroked it she felt a tingling in her hands and arms but that came from walking she supposed and when she breathed something light and sad-no not sad exactly-something gentle seemed to move in her bosom there were a number of people out this afternoon far more than last sunday and the band sounded louder and gayer that was because the season had begun for although the band played all the year round on sundays out of season it was never the same it was like some one playing with only the family to listen; it didn t care how it played if there weren t any strangers present wasn t the conductor wearing a new coat too she was sure it was new he scraped with his foot and flapped his arms like a rooster about to crow and the bandsmen sitting in the green rotunda blew out their cheeks and glared at the music now there came a little  flutey  bit-very pretty-a little chain of bright drops she was sure it would be repeated it was; she lifted her head and smiled only two people shared her  special  seat: a fine old man in a velvet coat his hands clasped over a huge carved walking-stick and a big old woman sitting upright with a roll of knitting on her embroidered apron they did not speak this was disappointing for miss brill always looked forward to the conversation she had become really quite expert she thought at listening as though she didn t listen at sitting in other people s lives just for a minute while they talked round her she glanced sideways at the old couple perhaps they would go soon last sunday too hadn t been as interesting as usual an englishman and his wife he wearing a dreadful panama hat and she button boots and she d gone on the whole time about how she ought to wear spectacles; she knew she needed them; but that it was no good getting any; they d be sure to break and they d never keep on and he d been so patient he d suggested everything-gold rims the kind that curved round your ears little pads inside the bridge no nothing would please her  they ll always be sliding down my nose  miss brill had wanted to shake her the old people sat on the bench still as statues never mind there was always the crowd to watch to and fro in front of the flower-beds and the band rotunda the couples and groups paraded stopped to talk to greet to buy a handful of flowers from the old beggar who had his tray fixed to the railings little children ran among them swooping and laughing; little boys with big white silk bows under their chins little girls little french dolls dressed up in velvet and lace and sometimes a tiny staggerer came suddenly rocking into the open from under the trees stopped stared as suddenly sat down  flop  until its small high-stepping mother like a young hen rushed scolding to its rescue other people sat on the benches and green chairs but they were nearly always the same sunday after sunday and-miss brill had often noticed-there was something funny about nearly all of them they were odd silent nearly all old and from the way they stared they looked as though they d just come from dark little rooms or even-even cupboards behind the rotunda the slender trees with yellow leaves down drooping and through them just a line of sea and beyond the blue sky with gold-veined clouds tum-tum-tum tiddle-um tiddle-um tum tiddley-um tum ta blew the band two young girls in red came by and two young soldiers in blue met them and they laughed and paired and went off arm-in-arm two peasant women with funny straw hats passed gravely leading beautiful smoke-coloured donkeys a cold pale nun hurried by a beautiful woman came along and dropped her bunch of violets and a little boy ran after to hand them to her and she took them and threw them away as if they d been poisoned dear me miss brill didn t know whether to admire that or not and now an ermine toque and a gentleman in grey met just in front of her he was tall stiff dignified and she was wearing the ermine toque she d bought when her hair was yellow now everything her hair her face even her eyes was the same colour as the shabby ermine and her hand in its cleaned glove lifted to dab her lips was a tiny yellowish paw oh she was so pleased to see him-delighted she rather thought they were going to meet that afternoon she described where she d been-everywhere here there along by the sea the day was so charming-didn t he agree and wouldn t he perhaps but he shook his head lighted a cigarette slowly breathed a great deep puff into her face and even while she was still talking and laughing flicked the match away and walked on the ermine toque was alone; she smiled more brightly than ever but even the band seemed to know what she was feeling and played more softly played tenderly and the drum beat  the brute the brute  over and over what would she do what was going to happen now but as miss brill wondered the ermine toque turned raised her hand as though she d seen some one else much nicer just over there and pattered away and the band changed again and played more quickly more gayly than ever and the old couple on miss brill s seat got up and marched away and such a funny old man with long whiskers hobbled along in time to the music and was nearly knocked over by four girls walking abreast oh how fascinating it was how she enjoyed it how she loved sitting here watching it all it was like a play it was exactly like a play who could believe the sky at the back wasn t painted but it wasn t till a little brown dog trotted on solemn and then slowly trotted off like a little  theatre  dog a little dog that had been drugged that miss brill discovered what it was that made it so exciting they were all on the stage they weren t only the audience not only looking on; they were acting even she had a part and came every sunday no doubt somebody would have noticed if she hadn t been there; she was part of the performance after all how strange she d never thought of it like that before and yet it explained why she made such a point of starting from home at just the same time each week-so as not to be late for the performance-and it also explained why she had quite a queer shy feeling at telling her english pupils how she spent her sunday afternoons no wonder miss brill nearly laughed out loud she was on the stage she thought of the old invalid gentleman to whom she read the newspaper four afternoons a week while he slept in the garden she had got quite used to the frail head on the cotton pillow the hollowed eyes the open mouth and the high pinched nose if he d been dead she mightn t have noticed for weeks; she wouldn t have minded but suddenly he knew he was having the paper read to him by an actress  an actress  the old head lifted; two points of light quivered in the old eyes  an actress-are ye  and miss brill smoothed the newspaper as though it were the manuscript of her part and said gently;  yes i have been an actress for a long time  the band had been having a rest now they started again and what they played was warm sunny yet there was just a faint chill-a something what was it-not sadness-no not sadness-a something that made you want to sing the tune lifted lifted the light shone; and it seemed to miss brill that in another moment all of them all the whole company would begin singing the young ones the laughing ones who were moving together they would begin and the men s voices very resolute and brave would join them and then she too she too and the others on the benches-they would come in with a kind of accompaniment-something low that scarcely rose or fell something so beautiful-moving and miss brill s eyes filled with tears and she looked smiling at all the other members of the company yes we understand we understand she thought-though what they understood she didn t know just at that moment a boy and girl came and sat down where the old couple had been they were beautifully dressed; they were in love the hero and heroine of course just arrived from his father s yacht and still soundlessly singing still with that trembling smile miss brill prepared to listen  no not now  said the girl  not here i can t   but why because of that stupid old thing at the end there  asked the boy  why does she come here at all-who wants her why doesn t she keep her silly old mug at home   it s her fu-ur which is so funny  giggled the girl  it s exactly like a fried whiting   ah be off with you  said the boy in an angry whisper then:  tell me ma petite chere-   no not here  said the girl  not yet  on her way home she usually bought a slice of honey-cake at the baker s it was her sunday treat sometimes there was an almond in her slice sometimes not it made a great difference if there was an almond it was like carrying home a tiny present-a surprise-something that might very well not have been there she hurried on the almond sundays and struck the match for the kettle in quite a dashing way but to-day she passed the baker s by climbed the stairs went into the little dark room-her room like a cupboard-and sat down on the red eiderdown she sat there for a long time the box that the fur came out of was on the bed she unclasped the necklet quickly; quickly without looking laid it inside but when she put the lid on she thought she heard something crying\n",
      "{'': 40, 'faint': 2, 'gayly': 1, 'moment': 2, 'telling': 1, 'nose': 3, 'boys': 1, 'french': 1, 'took': 1, 'but': 13, 'late': 1, 'while': 3, 'so': 7, 'chins': 1, 'met': 2, 'peasant': 1, 'beautiful': 2, 'nicer': 1, 'course': 1, 'dashing': 1, 'rubbed': 1, 'flicked': 1, 'cleaned': 1, 'talked': 1, 'panama': 1, 'week': 1, 'whether': 1, 'ear': 1, 'little': 19, 'chill-a': 1, 'out': 7, 'do': 1, 'scolding': 1, 'sideways': 1, 'button': 1, 'foot': 1, 'points': 1, 'understood': 1, 'glared': 1, 'getting': 1, 'paired': 1, 'was;': 1, 'women': 1, 'leaves': 1, 'abreast': 1, 'shared': 1, 'away': 4, 'snap': 1, 'flower-beds': 1, 'long': 3, 'repeated': 1, 'acting': 1, 'carved': 1, 'loud': 1, 'round': 3, 'sometimes': 3, 'old': 14, 'quickly;': 1, 'begun': 1, 'she': 61, 'tiny': 3, 'fascinating': 1, 'pupils': 1, 'sweet': 1, 'heard': 1, 'till': 1, 'for': 8, 'air': 1, 'everything-gold': 1, 'beyond': 1, 'tum-tum-tum': 1, 'turned': 1, 'stopped': 2, 'threw': 1, 'noticed-there': 1, 'sing': 1, 'smoothed': 1, 'spots': 1, 'open': 2, 'pretty-a': 1, 'yellow': 2, 'climbed': 1, 'green': 2, 'gentle': 1, 'something': 6, 'sounded': 1, 'gold': 1, 'chairs': 1, 'girl': 4, 'unclasped': 1, 'too': 4, 'suggested': 1, 'marched': 1, 'tray': 1, 'quickly': 2, 'cheeks': 1, 'disappointing': 1, 'somebody': 1, 'hands': 2, 'put': 2, 'together': 1, 'clasped': 1, 'must': 1, 'them;': 1, 'benches': 1, 'girls': 3, 'spectacles;': 1, 'rose': 1, 'seat:': 1, 'when': 5, 'powdered': 1, 'from': 10, 'weren': 2, 'would': 9, 'taken': 2, 'gently;': 1, 'into': 4, 'lap': 1, 'become': 1, 'dear': 2, 'expert': 1, 'hats': 1, 'shabby': 1, 'minded': 1, 'spent': 1, 'this': 2, 'queer': 1, 'laughed': 2, 'bed': 1, 'special': 1, 'went': 2, 'were': 10, 'nice': 1, 'all-who': 1, 'keep': 2, 'having': 2, 'slice': 2, 'drifting-from': 1, 'staggerer': 1, 'listening': 1, 'painted': 1, 'tenderly': 1, 'each': 1, 'bridge': 1, 'fine-the': 1, 'charming-didn': 1, 'although': 2, 'gone': 1, 'stiff': 1, 'bright': 1, 'tiddley-um': 1, 'what': 8, 'benches-they': 1, 'passed': 2, 'shy': 1, 'admire': 1, 'number': 1, 'every': 1, 'doubt': 1, 'fried': 1, 'brush': 1, 'paper': 1, 'buy': 1, 'there;': 1, 'singing': 2, 'on;': 1, 'wear': 1, 'been': 11, 'whom': 1, 'loved': 1, 'dead': 1, 'petite': 1, 'stroked': 1, 'doesn': 1, 'smiled': 2, 'still': 4, 'another': 1, 'stairs': 1, 'tingling': 1, 'dreadful': 1, 'funny': 4, 'same': 4, 'under': 2, 'me': 3, 'puff': 1, 'forward': 1, 'fine': 1, 'where': 2, 'about': 4, 'nearly': 5, 'was': 45, 'soundlessly': 1, 'wondered': 1, 'been-everywhere': 1, 'tune': 1, 'velvet': 2, 'fixed': 1, 'left': 1, 'almond': 3, 'a': 51, 'starting': 1, 'blew': 2, 'curved': 1, 'bunch': 1, 'll': 1, 'to-day': 1, 'soon': 1, 'couples': 1, 'stupid': 1, 'english': 1, 'low': 1, 'whiskers': 1, 'alone;': 1, 'if': 5, 'hat': 1, 'wife': 1, 'described': 1, 'glove': 1, 'sitting': 4, 'end': 1, 'struck': 1, 'dropped': 1, 'sat': 6, 'surprise-something': 1, 'rooms': 1, 'sliding': 1, 'flapped': 1, 'to': 33, 'usually': 1, 'quite': 4, 'again': 5, 'black': 2, 'sunday': 7, 'not': 12, 'brute': 2, 'talking': 1, 'dog': 3, 'read': 2, 'composition': 1, 'which': 2, 'their': 2, 'bows': 1, 'dab': 2, 'played': 6, 'dolls': 1, 'pinched': 1, 'hollowed': 1, 'came': 9, 'through': 1, 'lid': 1, 'part': 3, 'accompaniment-something': 1, 'water': 1, 'gravely': 1, 'company': 2, 'lighted': 1, 'drugged': 1, 'honey-cake': 1, 'two': 5, 'trotted': 2, 'other': 3, 'please': 1, 'had': 14, 'crowd': 1, 'also': 1, 'manuscript': 1, 'supposed': 1, 'firm': 1, 'ah': 1, 'usual': 1, 'actress': 3, 'rest': 1, 'newspaper': 2, 'arm-in-arm': 1, 'boy': 4, 'wants': 1, 'woman': 2, 'laid': 2, 'weeks;': 1, 'rims': 1, 'tiddle-um': 2, 'flutey': 1, 'exactly-something': 1, 'toque': 4, 'difference': 1, 'resolute': 1, 'small': 1, 'them': 10, 'wine': 1, 'swooping': 1, 'upright': 1, 'ever': 2, 'inside': 2, 'room-her': 1, 'has': 1, 'treat': 1, 'does': 1, 'without': 1, 'face': 2, 'time': 6, 'used': 1, 'up': 3, 'gayer': 1, 'flop': 1, 'conversation': 1, 'paw': 1, 'match': 2, 'dressed': 1, 'groups': 1, 'going': 2, 'sadness-no': 1, 'along': 3, 'bought': 2, 'handful': 1, 'moving': 1, 'year': 1, 'warm': 1, 'box': 2, 'love': 1, 'straw': 1, 'family': 1, 'seemed': 3, 'crow': 1, 'solemn': 1, 'stage': 2, 'given': 1, 'giggled': 1, 'sip': 1, 'men': 1, 'happen': 1, 'minute': 1, 'bench': 1, 'mind-a': 1, 'all': 10, 'happening': 1, 'publiques-miss': 1, 'way': 3, 'rooster': 1, 'among': 1, 'breathed': 2, 'ermine': 5, 'back': 2, 'else': 1, 'silent': 1, 'trembling': 1, 'silk': 1, 'see': 2, 'room': 1, 'the': 110, 'good': 2, 'only': 4, 'shone;': 1, 'is': 1, 'day': 1, 'bit-very': 1, 'lifted': 4, 'high-stepping': 1, 'roll': 1, 'hurried': 2, 'after': 3, 'lives': 1, 'cigarette': 1, 'slender': 1, 'seen': 1, 'smiling': 1, 'hand': 4, 'enjoyed': 1, 'watch': 1, 'performance': 1, 'might': 1, 'yacht': 1, 'on': 20, 'beat': 1, 'needed': 1, 'whiting': 1, 'shake': 1, 'railings': 1, 'because': 2, 'scarcely': 1, 'came-when': 1, 'moth-powder': 1, 'like': 13, 'over': 6, 'laughing;': 1, 'even': 4, 'statues': 1, 'dignified': 1, 'gold-veined': 1, 'blue': 3, 'tum': 2, 'rotunda': 3, 's': 9, 'how': 8, 'seat': 1, 'play': 2, 'know': 3, 'ones': 2, 'meet': 1, 'carrying': 1, 'four': 2, 'new': 2, 'colour': 1, 'boots': 1, 'life': 1, 'louder': 1, 'laughing': 2, 'touched': 1, 'deep': 1, 'got': 2, 'wanted': 1, 'poisoned': 1, 'front': 2, 'as': 12, 'there': 13, 'rocking': 1, 'knock': 1, 'sea': 2, 'beautiful-moving': 1, 'dark': 2, 'listen;': 1, 'thought-though': 1, 'silly': 1, 'line': 1, 'knocked': 1, 'brill': 15, 'now': 7, 'great': 3, 'no': 6, 'want': 1, 'have': 7, 'discovered': 1, 'stared': 2, 'hobbled': 1, 'd': 12, 'patient': 1, 'here': 5, 'children': 1, 'his': 7, 'far': 1, 'then:': 1, 'head': 4, 'why': 5, 'believe': 1, 'afternoons': 2, 'chere-': 1, 'nothing': 1, 'pale': 1, 'baker': 2, 'any': 1, 'who': 3, 'him-delighted': 1, 'walking-stick': 1, 'much': 1, 'father': 1, 'strangers': 1, 'dressed;': 1, 'hero': 1, 'with': 13, 'than': 3, 'actress-are': 1, 'any;': 1, 'pleased': 1, 'tail': 1, 'coat': 2, 'soldiers': 1, 'home': 4, 'jardins': 1, 'until': 1, 'red': 3, 'clouds': 1, 'mother': 1, 'tell': 1, 'noticed': 2, 'shaken': 1, 'somehow': 1, 'hadn': 2, 'yes': 3, 'eyes': 6, 'cotton': 1, 'voices': 1, 'rescue': 1, 'talk': 1, 'splashed': 1, 'smoke-coloured': 1, 'very': 2, 'performance-and': 1, 'looked': 3, 'always': 4, 'sealing-wax': 1, 'brightly': 1, 'afternoon': 3, 'oh': 3, 'beggar': 1, 'frail': 1, 'behind': 1, 'everything': 1, 'did': 1, 'such': 2, 'season': 2, 'never': 5, 'donkeys': 1, 'young': 4, 'brave': 1, 'sadness-a': 1, 'fell': 1, 'eiderdown': 2, 'off': 4, 'rather': 1, 'yet': 3, 'odd': 1, 'care': 1, 'apron': 1, 'strange': 1, 'mind': 1, 'violets': 1, 'leading': 1, 'glass': 1, 'lips': 1, 'pattered': 1, 'ye': 1, 'her': 34, 'motionless': 1, 'embroidered': 1, 'fro': 1, 'often': 1, 'dim': 1, 'week-so': 1, 'kettle': 1, 'wearing': 3, 'its': 5, 'that': 21, 'wasn': 4, 'hair': 2, 'necessary': 1, 'ears': 1, 'even-even': 1, 'just': 11, 'rushed': 1, 'iced': 1, 'others': 1, 'sad': 2, 'brilliantly': 1, 'ta': 1, 'cold': 1, 'prepared': 1, 'arms': 2, 'suddenly': 3, 'raised': 1, 'fu-ur': 1, 'really': 2, 'your': 2, 'last': 2, 'cupboards': 1, 'join': 1, 'begin': 2, 'understand': 2, 'trees': 2, 'bandsmen': 1, 'hen': 1, 'paraded': 1, 'tall': 1, 'theatre': 1, 'sunny': 1, 'then': 2, 'didn': 4, 'feeling': 2, 'mug': 1, 'break': 1, 'softly': 1, 'decided': 1, 'at': 15, 'before': 2, 'crying': 1, 'listen': 2, 'nun': 1, 'or': 3, 'huge': 1, 'slept': 1, 'arrived': 1, 'looking': 2, 'cupboard-and': 1, 'interesting': 1, 'quivered': 1, 'can': 1, 'more': 5, 'members': 1, 'could': 2, 'necklet': 1, 'go': 1, 'lifted;': 1, 'smile': 1, 'and': 77, 't': 18, 'people': 5, 'we': 2, 'present': 1, 'knitting': 1, 'light': 4, 'beautifully': 1, 'gentleman': 2, 'lace': 1, 'high': 1, 'white': 2, 'exactly': 2, 'nowhere': 1, 'miss': 13, 'you': 4, 'wouldn': 2, 'speak': 1, 'invalid': 1, 'him': 1, 'bosom': 1, 'man': 2, 'sky': 4, 'in': 21, 'drooping': 1, 'yellowish': 1, 'ran': 2, 'couple': 3, 'present-a': 1, 'walking': 2, 'chill': 2, 'thing': 2, 'changed': 1, 'drum': 1, 'down': 5, 'heroine': 1, 'come': 3, 'feel': 1, 'kind': 2, 'angry': 1, 'big': 2, 'an': 9, 'watching': 1, 'it-not': 1, 'biting': 1, 'some': 3, 'brown': 1, 'filled': 1, 'point': 1, 'asked': 1, 'well': 1, 'tears': 1, 'fur': 3, 'of': 28, 'glanced': 1, 'felt': 2, 'it': 39, 'playing': 1, 'he': 12, 'walked': 1, 'ought': 1, 'agree': 1, 'started': 1, 'glad': 1, 'thought': 5, 'sad-no': 1, 'said': 5, 'move': 1, 'drops': 1, 'rogue': 2, 'be': 5, 'wonder': 1, 'explained': 2, 'music': 2, 'chain': 1, 'mightn': 1, 'one': 2, 'slowly': 2, 'mouth': 2, 'leaf': 1, 'scraped': 1, 'pads': 1, 'audience': 1, 'sundays': 2, 'my': 1, 'sure': 3, 'greet': 1, 'shook': 1, 'exciting': 1, 'opened': 1, 'band': 7, 'though': 4, 'perhaps': 2, 'by': 7, 'whole': 2, 'flowers': 1, 'whisper': 1, 'garden': 1, 'grey': 1, 'and-miss': 1, 'englishman': 1, 'knew': 2, 'made': 4, 'ma': 1, 'they': 23, 'pillow': 1, 'i': 2, 'absolutely': 1, 'conductor': 1}\n",
      "The word ermine appears 5 times.\n"
     ]
    }
   ],
   "source": [
    "class textAnalyser(object):\n",
    "    '''\n",
    "    Provides methods for basic text analysis\n",
    "    '''\n",
    "    def __init__(self, text):\n",
    "        '''\n",
    "        Remove punctuation convert the characters to lower case\n",
    "        '''\n",
    "        bareText = text.replace('.', '').replace('!', '').replace('?', '').replace(',', '')\n",
    "        bareText = bareText.lower()\n",
    "        self.bText = bareText\n",
    "    def freqAll(self):\n",
    "        '''\n",
    "        Creates a dictionary with word counts\n",
    "        '''\n",
    "        wordList = self.bText.split(' ')\n",
    "        freqDic = {}\n",
    "        for word in set(wordList):\n",
    "            freqDic[word] = wordList.count(word)\n",
    "        return(freqDic)\n",
    "    def freqOf(self, word):\n",
    "        '''\n",
    "        Returns the frequency of a given word\n",
    "        '''\n",
    "        freqMap = self.freqAll()\n",
    "        if word in freqMap:\n",
    "            return freqMap[word]\n",
    "        else:\n",
    "            return(0)\n",
    "# inputText = 'Lorem ipsum dolor! diam amet, consetetur Lorem magna. sed diam nonumy eirmod tempor. diam et labore? et diam magna. et diam amet.'\n",
    "# I used used Katherine Mansfield's 'Miss Brill' short story but I had to remove the special character '—' and the string delimiters '' and \"\"\n",
    "inputText = 'Miss Brill Although it was so brilliantly fine-the blue sky powdered with gold and great spots of light like white wine splashed over the Jardins Publiques-Miss Brill was glad that she had decided on her fur. The air was motionless, but when you opened your mouth there was just a faint chill, like a chill from a glass of iced water before you sip, and now and again a leaf came drifting-from nowhere, from the sky. Miss Brill put up her hand and touched her fur. Dear little thing! It was nice to feel it again. She had taken it out of its box that afternoon, shaken out the moth-powder, given it a good brush, and rubbed the life back into the dim little eyes.  What has been happening to me?  said the sad little eyes. Oh, how sweet it was to see them snap at her again from the red eiderdown!... But the nose, which was of some black composition, wasn t at all firm. It must have had a knock, somehow. Never mind-a little dab of black sealing-wax when the time came-when it was absolutely necessary... Little rogue! Yes, she really felt like that about it. Little rogue biting its tail just by her left ear. She could have taken it off and laid it on her lap and stroked it. She felt a tingling in her hands and arms, but that came from walking, she supposed. And when she breathed, something light and sad-no, not sad, exactly-something gentle seemed to move in her bosom. There were a number of people out this afternoon, far more than last Sunday. And the band sounded louder and gayer. That was because the Season had begun. For although the band played all the year round on Sundays, out of season it was never the same. It was like some one playing with only the family to listen; it didn t care how it played if there weren t any strangers present. Wasn t the conductor wearing a new coat, too? She was sure it was new. He scraped with his foot and flapped his arms like a rooster about to crow, and the bandsmen sitting in the green rotunda blew out their cheeks and glared at the music. Now there came a little  flutey  bit-very pretty!-a little chain of bright drops. She was sure it would be repeated. It was; she lifted her head and smiled. Only two people shared her  special  seat: a fine old man in a velvet coat, his hands clasped over a huge carved walking-stick, and a big old woman, sitting upright, with a roll of knitting on her embroidered apron. They did not speak. This was disappointing, for Miss Brill always looked forward to the conversation. She had become really quite expert, she thought, at listening as though she didn t listen, at sitting in other people s lives just for a minute while they talked round her. She glanced, sideways, at the old couple. Perhaps they would go soon. Last Sunday, too, hadn t been as interesting as usual. An Englishman and his wife, he wearing a dreadful Panama hat and she button boots. And she d gone on the whole time about how she ought to wear spectacles; she knew she needed them; but that it was no good getting any; they d be sure to break and they d never keep on. And he d been so patient. He d suggested everything-gold rims, the kind that curved round your ears, little pads inside the bridge. No, nothing would please her.  They ll always be sliding down my nose!  Miss Brill had wanted to shake her. The old people sat on the bench, still as statues. Never mind, there was always the crowd to watch. To and fro, in front of the flower-beds and the band rotunda, the couples and groups paraded, stopped to talk, to greet, to buy a handful of flowers from the old beggar who had his tray fixed to the railings. Little children ran among them, swooping and laughing; little boys with big white silk bows under their chins, little girls, little French dolls, dressed up in velvet and lace. And sometimes a tiny staggerer came suddenly rocking into the open from under the trees, stopped, stared, as suddenly sat down  flop,  until its small high-stepping mother, like a young hen, rushed scolding to its rescue. Other people sat on the benches and green chairs, but they were nearly always the same, Sunday after Sunday, and-Miss Brill had often noticed-there was something funny about nearly all of them. They were odd, silent, nearly all old, and from the way they stared they looked as though they d just come from dark little rooms or even-even cupboards! Behind the rotunda the slender trees with yellow leaves down drooping, and through them just a line of sea, and beyond the blue sky with gold-veined clouds. Tum-tum-tum tiddle-um! tiddle-um! tum tiddley-um tum ta! blew the band. Two young girls in red came by and two young soldiers in blue met them, and they laughed and paired and went off arm-in-arm. Two peasant women with funny straw hats passed, gravely, leading beautiful smoke-coloured donkeys. A cold, pale nun hurried by. A beautiful woman came along and dropped her bunch of violets, and a little boy ran after to hand them to her, and she took them and threw them away as if they d been poisoned. Dear me! Miss Brill didn t know whether to admire that or not! And now an ermine toque and a gentleman in grey met just in front of her. He was tall, stiff, dignified, and she was wearing the ermine toque she d bought when her hair was yellow. Now everything, her hair, her face, even her eyes, was the same colour as the shabby ermine, and her hand, in its cleaned glove, lifted to dab her lips, was a tiny yellowish paw. Oh, she was so pleased to see him-delighted! She rather thought they were going to meet that afternoon. She described where she d been-everywhere, here, there, along by the sea. The day was so charming-didn t he agree? And wouldn t he, perhaps?... But he shook his head, lighted a cigarette, slowly breathed a great deep puff into her face, and even while she was still talking and laughing, flicked the match away and walked on. The ermine toque was alone; she smiled more brightly than ever. But even the band seemed to know what she was feeling and played more softly, played tenderly, and the drum beat,  The Brute! The Brute!  over and over. What would she do? What was going to happen now? But as Miss Brill wondered, the ermine toque turned, raised her hand as though she d seen some one else, much nicer, just over there, and pattered away. And the band changed again and played more quickly, more gayly than ever, and the old couple on Miss Brill s seat got up and marched away, and such a funny old man with long whiskers hobbled along in time to the music and was nearly knocked over by four girls walking abreast. Oh, how fascinating it was! How she enjoyed it! How she loved sitting here, watching it all! It was like a play. It was exactly like a play. Who could believe the sky at the back wasn t painted? But it wasn t till a little brown dog trotted on solemn and then slowly trotted off, like a little  theatre  dog, a little dog that had been drugged, that Miss Brill discovered what it was that made it so exciting. They were all on the stage. They weren t only the audience, not only looking on; they were acting. Even she had a part and came every Sunday. No doubt somebody would have noticed if she hadn t been there; she was part of the performance after all. How strange she d never thought of it like that before! And yet it explained why she made such a point of starting from home at just the same time each week-so as not to be late for the performance-and it also explained why she had quite a queer, shy feeling at telling her English pupils how she spent her Sunday afternoons. No wonder! Miss Brill nearly laughed out loud. She was on the stage. She thought of the old invalid gentleman to whom she read the newspaper four afternoons a week while he slept in the garden. She had got quite used to the frail head on the cotton pillow, the hollowed eyes, the open mouth and the high pinched nose. If he d been dead she mightn t have noticed for weeks; she wouldn t have minded. But suddenly he knew he was having the paper read to him by an actress!  An actress!  The old head lifted; two points of light quivered in the old eyes.  An actress-are ye?  And Miss Brill smoothed the newspaper as though it were the manuscript of her part and said gently;  Yes, I have been an actress for a long time.  The band had been having a rest. Now they started again. And what they played was warm, sunny, yet there was just a faint chill-a something, what was it?-not sadness-no, not sadness-a something that made you want to sing. The tune lifted, lifted, the light shone; and it seemed to Miss Brill that in another moment all of them, all the whole company, would begin singing. The young ones, the laughing ones who were moving together, they would begin, and the men s voices, very resolute and brave, would join them. And then she too, she too, and the others on the benches-they would come in with a kind of accompaniment-something low, that scarcely rose or fell, something so beautiful-moving... And Miss Brill s eyes filled with tears and she looked smiling at all the other members of the company. Yes, we understand, we understand, she thought-though what they understood she didn t know. Just at that moment a boy and girl came and sat down where the old couple had been. They were beautifully dressed; they were in love. The hero and heroine, of course, just arrived from his father s yacht. And still soundlessly singing, still with that trembling smile, Miss Brill prepared to listen.  No, not now,  said the girl.  Not here, I can t.   But why? Because of that stupid old thing at the end there?  asked the boy.  Why does she come here at all-who wants her? Why doesn t she keep her silly old mug at home?   It s her fu-ur which is so funny,  giggled the girl.  It s exactly like a fried whiting.   Ah, be off with you!  said the boy in an angry whisper. Then:  Tell me, ma petite chere-   No, not here,  said the girl.  Not yet.  On her way home she usually bought a slice of honey-cake at the baker s. It was her Sunday treat. Sometimes there was an almond in her slice, sometimes not. It made a great difference. If there was an almond it was like carrying home a tiny present-a surprise-something that might very well not have been there. She hurried on the almond Sundays and struck the match for the kettle in quite a dashing way. But to-day she passed the baker s by, climbed the stairs, went into the little dark room-her room like a cupboard-and sat down on the red eiderdown. She sat there for a long time. The box that the fur came out of was on the bed. She unclasped the necklet quickly; quickly, without looking, laid it inside. But when she put the lid on she thought she heard something crying.'\n",
    "analysedText = textAnalyser(inputText)\n",
    "print('Bare text: ', analysedText.bText)\n",
    "freqWords = analysedText.freqAll()\n",
    "print(freqWords)\n",
    "# word = 'lorem'\n",
    "word = 'ermine'\n",
    "frequencyOf = analysedText.freqOf(word)\n",
    "print('The word', word, 'appears', frequencyOf, 'times.')"
   ]
  },
  {
   "cell_type": "markdown",
   "id": "5159eac7-4c71-452a-b31b-28a36ecef45c",
   "metadata": {},
   "source": [
    "## Module 4 - Working with Data in Python"
   ]
  },
  {
   "cell_type": "markdown",
   "id": "3af7244c-9102-445c-95ef-dd543fc18b8b",
   "metadata": {},
   "source": [
    "### Reading Files with Open"
   ]
  },
  {
   "cell_type": "markdown",
   "id": "fbb18d5f-5c51-4747-b747-d10d4e4cfb6d",
   "metadata": {},
   "source": [
    "#### Reading files"
   ]
  },
  {
   "cell_type": "markdown",
   "id": "cf37d038-a9e8-41b7-b74b-4844d96cffd6",
   "metadata": {},
   "source": [
    "##### Create Example1.txt\n",
    "Create a file named 'Example1.txt' with following content:\n",
    "- This is line 1\n",
    "- This is line 2\n",
    "- This is line 3"
   ]
  },
  {
   "cell_type": "code",
   "execution_count": 158,
   "id": "212508c6-34a3-4cbb-9fbc-1b9db5f728a4",
   "metadata": {},
   "outputs": [],
   "source": [
    "with open('Example1.txt', 'w+') as example:\n",
    "    example.write('This is line 1\\n')\n",
    "    example.write('This is line 2\\n')\n",
    "    example.write('This is line 3')"
   ]
  },
  {
   "cell_type": "code",
   "execution_count": 159,
   "id": "c8224c48-ba6f-404d-9ce5-9f5e82f87e6a",
   "metadata": {},
   "outputs": [
    {
     "name": "stdout",
     "output_type": "stream",
     "text": [
      "Example1.txt\n",
      "r\n",
      "This is line 1\n",
      "This is line 2\n",
      "This is line 3\n",
      "<class 'str'>\n",
      "False\n",
      "True\n"
     ]
    }
   ],
   "source": [
    "file1 = open('Example1.txt', 'r')\n",
    "print(file1.name)\n",
    "print(file1.mode)\n",
    "file1Content = file1.read()\n",
    "print(file1Content)\n",
    "print(type(file1Content))\n",
    "print(file1.closed)\n",
    "file1.close()\n",
    "print(file1.closed)"
   ]
  },
  {
   "cell_type": "code",
   "execution_count": 160,
   "id": "9f74674e-3b1b-4df7-816e-fce43f531f65",
   "metadata": {},
   "outputs": [
    {
     "name": "stdout",
     "output_type": "stream",
     "text": [
      "This is line 1\n",
      "This is line 2\n",
      "This is line 3\n",
      "False\n",
      "True\n"
     ]
    }
   ],
   "source": [
    "with open('Example1.txt', 'r') as file1:\n",
    "    file1Content = file1.read()\n",
    "    print(file1Content)\n",
    "    print(file1.closed)\n",
    "print(file1.closed)"
   ]
  },
  {
   "cell_type": "code",
   "execution_count": 161,
   "id": "00b9fefa-37c2-40bc-9a7e-a4be8423f56b",
   "metadata": {},
   "outputs": [
    {
     "name": "stdout",
     "output_type": "stream",
     "text": [
      "This is line 1\n",
      "This is line 2\n",
      "This is line 3\n",
      "False\n",
      "True\n"
     ]
    }
   ],
   "source": [
    "with open('Example1.txt', 'r') as file1:\n",
    "    print(file1.read())\n",
    "    print(file1.closed)\n",
    "print(file1.closed)"
   ]
  },
  {
   "cell_type": "code",
   "execution_count": 162,
   "id": "d96d6fa5-d4d2-4b93-88ba-d7f31796e741",
   "metadata": {},
   "outputs": [
    {
     "name": "stdout",
     "output_type": "stream",
     "text": [
      "This\n",
      " is \n",
      "line 1\n",
      "Th\n",
      "False\n",
      "True\n"
     ]
    }
   ],
   "source": [
    "with open('Example1.txt', 'r') as file1:\n",
    "    print(file1.read(4))\n",
    "    print(file1.read(4))\n",
    "    print(file1.read(9))\n",
    "    print(file1.closed)\n",
    "print(file1.closed)"
   ]
  },
  {
   "cell_type": "code",
   "execution_count": 163,
   "id": "8f1b04f6-3646-4ff3-8a79-1db0bf79be2b",
   "metadata": {},
   "outputs": [
    {
     "name": "stdout",
     "output_type": "stream",
     "text": [
      "This is line 1\n",
      "\n",
      "This is line 2\n",
      "\n",
      "This\n",
      "False\n",
      "True\n"
     ]
    }
   ],
   "source": [
    "with open('Example1.txt', 'r') as file1:\n",
    "    print(file1.readline())\n",
    "    print(file1.readline())\n",
    "    print(file1.readline(4))\n",
    "    print(file1.closed)\n",
    "print(file1.closed)"
   ]
  },
  {
   "cell_type": "code",
   "execution_count": 164,
   "id": "59e26eda-d8ff-45f1-9c27-deb2abf6fa86",
   "metadata": {},
   "outputs": [
    {
     "name": "stdout",
     "output_type": "stream",
     "text": [
      "Iteration 0 :  This is line 1\n",
      "\n",
      "Iteration 1 :  This is line 2\n",
      "\n",
      "Iteration 2 :  This is line 3\n"
     ]
    }
   ],
   "source": [
    "with open('Example1.txt', 'r') as file1:\n",
    "        i = 0;\n",
    "        for line in file1:\n",
    "            print('Iteration', str(i), ': ', line)\n",
    "            i = i + 1"
   ]
  },
  {
   "cell_type": "code",
   "execution_count": 165,
   "id": "ae9d8ce8-71a4-46b6-bc54-541d232c8873",
   "metadata": {},
   "outputs": [
    {
     "name": "stdout",
     "output_type": "stream",
     "text": [
      "['This is line 1\\n', 'This is line 2\\n', 'This is line 3']\n",
      "This is line 2\n",
      "\n"
     ]
    }
   ],
   "source": [
    "with open('Example1.txt', 'r') as file1:\n",
    "    FileasList = file1.readlines()\n",
    "print(FileasList)\n",
    "print(FileasList[1])"
   ]
  },
  {
   "cell_type": "markdown",
   "id": "882cc0f7-e97d-45b3-97b4-61c00c5bdb05",
   "metadata": {},
   "source": [
    "#### Writing files"
   ]
  },
  {
   "cell_type": "code",
   "execution_count": 166,
   "id": "9d4f2c1d-d938-4541-a0ee-29c54e66f9ad",
   "metadata": {},
   "outputs": [
    {
     "name": "stdout",
     "output_type": "stream",
     "text": [
      "This is line A\n"
     ]
    }
   ],
   "source": [
    "with open('Example2.txt', 'w') as file2:\n",
    "    file2.write('This is line A')\n",
    "with open('Example2.txt', 'r') as file2:\n",
    "    print(file2.read())"
   ]
  },
  {
   "cell_type": "code",
   "execution_count": 167,
   "id": "959e0827-9668-4eb5-bd37-0b12ee15d7db",
   "metadata": {},
   "outputs": [
    {
     "name": "stdout",
     "output_type": "stream",
     "text": [
      "This is line AThis is line BThis is line C\n"
     ]
    }
   ],
   "source": [
    "with open('Example2.txt', 'w') as file2:\n",
    "    file2.write('This is line A')\n",
    "    file2.write('This is line B')\n",
    "    file2.write('This is line C')\n",
    "with open('Example2.txt', 'r') as file2:\n",
    "    print(file2.read())"
   ]
  },
  {
   "cell_type": "code",
   "execution_count": 168,
   "id": "8fa8e1a3-3669-4fb8-88a7-201dbfa2660b",
   "metadata": {},
   "outputs": [
    {
     "name": "stdout",
     "output_type": "stream",
     "text": [
      "This is line A\n",
      "This is line B\n",
      "This is line C\n"
     ]
    }
   ],
   "source": [
    "with open('Example2.txt', 'w') as file2:\n",
    "    file2.write('This is line A\\n')\n",
    "    file2.write('This is line B\\n')\n",
    "    file2.write('This is line C')\n",
    "with open('Example2.txt', 'r') as file2:\n",
    "    print(file2.read())"
   ]
  },
  {
   "cell_type": "code",
   "execution_count": 169,
   "id": "3b8039c2-eeae-40bd-a37e-c76bbe15d963",
   "metadata": {},
   "outputs": [
    {
     "name": "stdout",
     "output_type": "stream",
     "text": [
      "This is line A\n",
      "This is line B\n",
      "This is line C\n",
      "This is line D\n",
      "This is line E\n",
      "This is line F\n"
     ]
    }
   ],
   "source": [
    "with open('Example2.txt', 'a') as file2:\n",
    "    file2.write('\\n')\n",
    "    file2.write('This is line D\\n')\n",
    "    file2.write('This is line E\\n')\n",
    "    file2.write('This is line F')\n",
    "with open('Example2.txt', 'r') as file2:\n",
    "    print(file2.read())"
   ]
  },
  {
   "cell_type": "markdown",
   "id": "48fa5216-6955-4325-8395-762a46b94898",
   "metadata": {},
   "source": [
    "#### Additional modes\n",
    "It's fairly inefficient to open the file in **a** or **w** and then reopen it in **r** to read any lines. Luckily we can access the file in the following modes:\n",
    "- **r+** : Reading and writing. Cannot truncate the file.\n",
    "- **w+** : Writing and reading. Truncates the file.\n",
    "- **a+** : Appending and Reading. Creates a new file, if none exists.\n",
    "\n",
    "It is often very useful to know where the 'cursor' is in a file and be able to control it. The following methods allow us to do precisely this -\n",
    "- <code>.tell()</code> - returns the current position in bytes\n",
    "- <code>.seek(offset,from)</code> - changes the position by 'offset' bytes with respect to 'from'. From can take the value of 0,1,2 corresponding to the beginning, relative to current position and end\n",
    "\n",
    "Finally, a note on the difference between **w+** and **r+**. Both of these modes allow access to read and write methods; however, opening a file in **w+** overwrites it and deletes all pre-existing data. <br>\n",
    "To work with a file on existing data, use **r+** and **a+**. While using **r+**, it can be useful to add a <code>.truncate()</code> method at the end of your data. This will reduce the file to your data and delete everything that follows. <br>\n",
    "In the following code block, Run the code as it is first and then run it with the <code>.truncate()</code>."
   ]
  },
  {
   "cell_type": "code",
   "execution_count": 170,
   "id": "a1e64fd9-92ba-43ad-86ba-575fcf5ed6b6",
   "metadata": {},
   "outputs": [
    {
     "name": "stdout",
     "output_type": "stream",
     "text": [
      "Current location: 104\n",
      "\n",
      "Current location: 0\n",
      "This is line A\n",
      "This is line B\n",
      "This is line C\n",
      "This is line D\n",
      "This is line E\n",
      "This is line F\n",
      "This is line G\n"
     ]
    }
   ],
   "source": [
    "with open('Example2.txt', 'a+') as file2:\n",
    "    file2.write('\\n')\n",
    "    file2.write('This is line G')\n",
    "    print('Current location: {}'.format(file2.tell()))\n",
    "    print(file2.read())\n",
    "    file2.seek(0,0)\n",
    "    print('Current location: {}'.format(file2.tell()))\n",
    "    print(file2.read())"
   ]
  },
  {
   "cell_type": "code",
   "execution_count": 171,
   "id": "589cd7a3-fa1c-4056-9293-2801ca5706b1",
   "metadata": {},
   "outputs": [
    {
     "name": "stdout",
     "output_type": "stream",
     "text": [
      "This is line A\n",
      "This is line B\n",
      "This is line C\n",
      "This is line D\n",
      "This is line E\n",
      "This is line F\n",
      "This is line G\n"
     ]
    }
   ],
   "source": [
    "with open('Example2.txt', 'r') as file2:\n",
    "    with open('Example3.txt', 'w') as file3:\n",
    "        for line in file2:\n",
    "            file3.write(line)\n",
    "with open('Example3.txt', 'r') as file3:\n",
    "    print(file3.read())"
   ]
  },
  {
   "cell_type": "markdown",
   "id": "8fcfb21e-9a11-423c-95ed-178acceeecf0",
   "metadata": {},
   "source": [
    "#### Exercise\n",
    "Your local university's Raptors fan club maintains a register of its active members on a .txt document. Every month they update the file by removing the members who are not active. You have been tasked with automating this with your Python skills. <br>\n",
    "Given the file `currentMem`, Remove each member with a 'no' in their Active column. Keep track of each of the removed members and append them to the `exMem` file. Make sure that the format of the original files in preserved.   (*Hint: Do this by reading/writing whole lines and ensuring the header remains* )\n",
    "<br>\n",
    "Run the code block below prior to starting the exercise. The skeleton code has been provided for you. Edit only the `cleanFiles` function."
   ]
  },
  {
   "cell_type": "code",
   "execution_count": 172,
   "id": "71cc93d7-389c-4ca3-950a-e9145cdf6514",
   "metadata": {},
   "outputs": [],
   "source": [
    "# Run this prior to starting the exercise\n",
    "from random import randint as rnd\n",
    "memReg = 'members.txt'\n",
    "exReg = 'inactive.txt'\n",
    "fee =('yes','no')\n",
    "def genFiles(current,old):\n",
    "    with open(current,'w+') as writefile: \n",
    "        writefile.write('Membership No  Date Joined  Active  \\n')\n",
    "        data = \"{:^13}  {:<11}  {:<6}\\n\"\n",
    "        for rowno in range(20):\n",
    "            date = str(rnd(2015,2020))+ '-' + str(rnd(1,12))+'-'+str(rnd(1,25))\n",
    "            writefile.write(data.format(rnd(10000,99999),date,fee[rnd(0,1)]))\n",
    "    with open(old,'w+') as writefile: \n",
    "        writefile.write('Membership No  Date Joined  Active  \\n')\n",
    "        data = \"{:^13}  {:<11}  {:<6}\\n\"\n",
    "        for rowno in range(3):\n",
    "            date = str(rnd(2015,2020))+ '-' + str(rnd(1,12))+'-'+str(rnd(1,25))\n",
    "            writefile.write(data.format(rnd(10000,99999),date,fee[1]))\n",
    "genFiles(memReg,exReg)"
   ]
  },
  {
   "cell_type": "code",
   "execution_count": 173,
   "id": "bf908f52-31f2-42b9-9e6e-df00b76f0502",
   "metadata": {},
   "outputs": [],
   "source": [
    "def cleanFiles(currentMem,exMem):\n",
    "    with open(currentMem,'r+') as writeFile: \n",
    "        with open(exMem,'a+') as appendFile:\n",
    "            # Get the data\n",
    "            writeFile.seek(0)\n",
    "            members = writeFile.readlines()\n",
    "            # Remove header\n",
    "            header = members[0]\n",
    "            members.pop(0)\n",
    "            \n",
    "            inactive = [member for member in members if ('no' in member)]\n",
    "            '''\n",
    "            The above is the same as \n",
    "\n",
    "            for member in members:\n",
    "            if 'no' in member:\n",
    "                inactive.append(member)\n",
    "            '''\n",
    "            # Go to the beginning of the write file\n",
    "            writeFile.seek(0) \n",
    "            writeFile.write(header)\n",
    "            for member in members:\n",
    "                if (member in inactive):\n",
    "                    appendFile.write(member)\n",
    "                else:\n",
    "                    writeFile.write(member)      \n",
    "            writeFile.truncate()\n",
    "memReg = 'members.txt'\n",
    "exReg = 'inactive.txt'\n",
    "cleanFiles(memReg,exReg)"
   ]
  },
  {
   "cell_type": "markdown",
   "id": "540618fb-518e-4088-8719-8844c361dcad",
   "metadata": {},
   "source": [
    "### Pandas"
   ]
  },
  {
   "cell_type": "code",
   "execution_count": 174,
   "id": "3874f750-56b5-4be4-9d16-287042aaf5b4",
   "metadata": {},
   "outputs": [],
   "source": [
    "import pandas as pd"
   ]
  },
  {
   "cell_type": "code",
   "execution_count": 175,
   "id": "ca1d22dc-9236-4afe-b428-d94560aaaf7f",
   "metadata": {},
   "outputs": [
    {
     "name": "stdout",
     "output_type": "stream",
     "text": [
      "   Name  ID       Department  Salary\n",
      "0  Rose   1  Architect Group  100000\n",
      "1  John   2   Software Group   80000\n",
      "2  Jane   3      Design Team   50000\n",
      "3  Mary   4   Infrastructure   60000\n"
     ]
    },
    {
     "data": {
      "text/html": [
       "<div>\n",
       "<style scoped>\n",
       "    .dataframe tbody tr th:only-of-type {\n",
       "        vertical-align: middle;\n",
       "    }\n",
       "\n",
       "    .dataframe tbody tr th {\n",
       "        vertical-align: top;\n",
       "    }\n",
       "\n",
       "    .dataframe thead th {\n",
       "        text-align: right;\n",
       "    }\n",
       "</style>\n",
       "<table border=\"1\" class=\"dataframe\">\n",
       "  <thead>\n",
       "    <tr style=\"text-align: right;\">\n",
       "      <th></th>\n",
       "      <th>Name</th>\n",
       "      <th>ID</th>\n",
       "      <th>Department</th>\n",
       "      <th>Salary</th>\n",
       "    </tr>\n",
       "  </thead>\n",
       "  <tbody>\n",
       "    <tr>\n",
       "      <th>0</th>\n",
       "      <td>Rose</td>\n",
       "      <td>1</td>\n",
       "      <td>Architect Group</td>\n",
       "      <td>100000</td>\n",
       "    </tr>\n",
       "    <tr>\n",
       "      <th>1</th>\n",
       "      <td>John</td>\n",
       "      <td>2</td>\n",
       "      <td>Software Group</td>\n",
       "      <td>80000</td>\n",
       "    </tr>\n",
       "    <tr>\n",
       "      <th>2</th>\n",
       "      <td>Jane</td>\n",
       "      <td>3</td>\n",
       "      <td>Design Team</td>\n",
       "      <td>50000</td>\n",
       "    </tr>\n",
       "    <tr>\n",
       "      <th>3</th>\n",
       "      <td>Mary</td>\n",
       "      <td>4</td>\n",
       "      <td>Infrastructure</td>\n",
       "      <td>60000</td>\n",
       "    </tr>\n",
       "  </tbody>\n",
       "</table>\n",
       "</div>"
      ],
      "text/plain": [
       "   Name  ID       Department  Salary\n",
       "0  Rose   1  Architect Group  100000\n",
       "1  John   2   Software Group   80000\n",
       "2  Jane   3      Design Team   50000\n",
       "3  Mary   4   Infrastructure   60000"
      ]
     },
     "execution_count": 175,
     "metadata": {},
     "output_type": "execute_result"
    }
   ],
   "source": [
    "x = {'Name': ['Rose','John', 'Jane', 'Mary'],\n",
    "     'ID': [1, 2, 3, 4],\n",
    "     'Department': ['Architect Group', 'Software Group', 'Design Team', 'Infrastructure'],\n",
    "     'Salary':[100000, 80000, 50000, 60000]}\n",
    "\n",
    "# Casting the dictionary to a DataFrame\n",
    "df = pd.DataFrame(x)\n",
    "\n",
    "# Display the result df\n",
    "print(df)\n",
    "df"
   ]
  },
  {
   "cell_type": "markdown",
   "id": "278474ea-cea7-4393-8b84-e48c84e69e00",
   "metadata": {},
   "source": [
    "#### Exercise 1"
   ]
  },
  {
   "cell_type": "code",
   "execution_count": 176,
   "id": "cab4d2d8-d863-49dc-b7db-96c6da3eb6ac",
   "metadata": {},
   "outputs": [
    {
     "name": "stdout",
     "output_type": "stream",
     "text": [
      "   \n",
      "0  \n",
      "1  \n",
      "2  \n",
      "3  \n",
      "  Student  Age Country            Course  Marks\n",
      "0   David   27      UK            Python     85\n",
      "1  Samuel   24  Canada   Data Structures     72\n",
      "2   Terry   22   China  Machine Learning     89\n",
      "3    Evan   32     USA   Web Development     76\n",
      "<class 'pandas.core.frame.DataFrame'>\n"
     ]
    },
    {
     "data": {
      "text/html": [
       "<div>\n",
       "<style scoped>\n",
       "    .dataframe tbody tr th:only-of-type {\n",
       "        vertical-align: middle;\n",
       "    }\n",
       "\n",
       "    .dataframe tbody tr th {\n",
       "        vertical-align: top;\n",
       "    }\n",
       "\n",
       "    .dataframe thead th {\n",
       "        text-align: right;\n",
       "    }\n",
       "</style>\n",
       "<table border=\"1\" class=\"dataframe\">\n",
       "  <thead>\n",
       "    <tr style=\"text-align: right;\">\n",
       "      <th></th>\n",
       "      <th>Student</th>\n",
       "      <th>Age</th>\n",
       "      <th>Country</th>\n",
       "      <th>Course</th>\n",
       "      <th>Marks</th>\n",
       "    </tr>\n",
       "  </thead>\n",
       "  <tbody>\n",
       "    <tr>\n",
       "      <th>0</th>\n",
       "      <td>David</td>\n",
       "      <td>27</td>\n",
       "      <td>UK</td>\n",
       "      <td>Python</td>\n",
       "      <td>85</td>\n",
       "    </tr>\n",
       "    <tr>\n",
       "      <th>1</th>\n",
       "      <td>Samuel</td>\n",
       "      <td>24</td>\n",
       "      <td>Canada</td>\n",
       "      <td>Data Structures</td>\n",
       "      <td>72</td>\n",
       "    </tr>\n",
       "    <tr>\n",
       "      <th>2</th>\n",
       "      <td>Terry</td>\n",
       "      <td>22</td>\n",
       "      <td>China</td>\n",
       "      <td>Machine Learning</td>\n",
       "      <td>89</td>\n",
       "    </tr>\n",
       "    <tr>\n",
       "      <th>3</th>\n",
       "      <td>Evan</td>\n",
       "      <td>32</td>\n",
       "      <td>USA</td>\n",
       "      <td>Web Development</td>\n",
       "      <td>76</td>\n",
       "    </tr>\n",
       "  </tbody>\n",
       "</table>\n",
       "</div>"
      ],
      "text/plain": [
       "  Student  Age Country            Course  Marks\n",
       "0   David   27      UK            Python     85\n",
       "1  Samuel   24  Canada   Data Structures     72\n",
       "2   Terry   22   China  Machine Learning     89\n",
       "3    Evan   32     USA   Web Development     76"
      ]
     },
     "execution_count": 176,
     "metadata": {},
     "output_type": "execute_result"
    }
   ],
   "source": [
    "# Defining the structure of the dictionary using indentations for better readability\n",
    "data = {'': [ '', '', '', ''],\n",
    "        '': [ '', '', '', ''],\n",
    "        '': [ '', '', '', ''],\n",
    "        '': [ '', '', '', '']}\n",
    "df1 = pd.DataFrame(data)\n",
    "print(df1)\n",
    "# Populating the data into the dictionary\n",
    "data = {'Student': [ 'David', 'Samuel', 'Terry', 'Evan'],\n",
    "        'Age': [ 27, 24, 22, 32],\n",
    "        'Country': [ 'UK', 'Canada', 'China', 'USA'],\n",
    "        'Course': [ 'Python', 'Data Structures', 'Machine Learning', 'Web Development'],\n",
    "        'Marks': [ 85, 72, 89, 76]}\n",
    "df1 = pd.DataFrame(data)\n",
    "print(df1)\n",
    "print(type(df1))\n",
    "df1"
   ]
  },
  {
   "cell_type": "code",
   "execution_count": 177,
   "id": "65a99825-c4ef-45b5-896f-a72d97e2c7fb",
   "metadata": {},
   "outputs": [
    {
     "name": "stdout",
     "output_type": "stream",
     "text": [
      "   Age\n",
      "0   27\n",
      "1   24\n",
      "2   22\n",
      "3   32\n",
      "Age    26.25\n",
      "dtype: float64\n"
     ]
    }
   ],
   "source": [
    "print(df1[['Age']])\n",
    "print(df1[['Age']].mean())"
   ]
  },
  {
   "cell_type": "code",
   "execution_count": 178,
   "id": "d5ff8d55-c450-4e5f-925d-3f7784f54fba",
   "metadata": {},
   "outputs": [
    {
     "name": "stdout",
     "output_type": "stream",
     "text": [
      "   Marks\n",
      "0     85\n",
      "1     72\n",
      "2     89\n",
      "3     76\n",
      "Marks    80.5\n",
      "dtype: float64\n"
     ]
    }
   ],
   "source": [
    "print(df1[['Marks']])\n",
    "print(df1[['Marks']].mean())"
   ]
  },
  {
   "cell_type": "code",
   "execution_count": 179,
   "id": "a5b4ff8f-8178-46a0-9bd8-389ee5d15fa9",
   "metadata": {},
   "outputs": [
    {
     "name": "stdout",
     "output_type": "stream",
     "text": [
      "  Country            Course\n",
      "0      UK            Python\n",
      "1  Canada   Data Structures\n",
      "2   China  Machine Learning\n",
      "3     USA   Web Development\n",
      "<class 'pandas.core.frame.DataFrame'>\n"
     ]
    },
    {
     "data": {
      "text/html": [
       "<div>\n",
       "<style scoped>\n",
       "    .dataframe tbody tr th:only-of-type {\n",
       "        vertical-align: middle;\n",
       "    }\n",
       "\n",
       "    .dataframe tbody tr th {\n",
       "        vertical-align: top;\n",
       "    }\n",
       "\n",
       "    .dataframe thead th {\n",
       "        text-align: right;\n",
       "    }\n",
       "</style>\n",
       "<table border=\"1\" class=\"dataframe\">\n",
       "  <thead>\n",
       "    <tr style=\"text-align: right;\">\n",
       "      <th></th>\n",
       "      <th>Country</th>\n",
       "      <th>Course</th>\n",
       "    </tr>\n",
       "  </thead>\n",
       "  <tbody>\n",
       "    <tr>\n",
       "      <th>0</th>\n",
       "      <td>UK</td>\n",
       "      <td>Python</td>\n",
       "    </tr>\n",
       "    <tr>\n",
       "      <th>1</th>\n",
       "      <td>Canada</td>\n",
       "      <td>Data Structures</td>\n",
       "    </tr>\n",
       "    <tr>\n",
       "      <th>2</th>\n",
       "      <td>China</td>\n",
       "      <td>Machine Learning</td>\n",
       "    </tr>\n",
       "    <tr>\n",
       "      <th>3</th>\n",
       "      <td>USA</td>\n",
       "      <td>Web Development</td>\n",
       "    </tr>\n",
       "  </tbody>\n",
       "</table>\n",
       "</div>"
      ],
      "text/plain": [
       "  Country            Course\n",
       "0      UK            Python\n",
       "1  Canada   Data Structures\n",
       "2   China  Machine Learning\n",
       "3     USA   Web Development"
      ]
     },
     "execution_count": 179,
     "metadata": {},
     "output_type": "execute_result"
    }
   ],
   "source": [
    "a = df1[['Country', 'Course']]\n",
    "print(a)\n",
    "print(type(a))\n",
    "a"
   ]
  },
  {
   "cell_type": "code",
   "execution_count": 180,
   "id": "e501a43e-23b1-4c63-84ed-8f4a5ec16d32",
   "metadata": {},
   "outputs": [
    {
     "name": "stdout",
     "output_type": "stream",
     "text": [
      "  Student\n",
      "0   David\n",
      "1  Samuel\n",
      "2   Terry\n",
      "3    Evan\n",
      "<class 'pandas.core.frame.DataFrame'>\n"
     ]
    },
    {
     "data": {
      "text/html": [
       "<div>\n",
       "<style scoped>\n",
       "    .dataframe tbody tr th:only-of-type {\n",
       "        vertical-align: middle;\n",
       "    }\n",
       "\n",
       "    .dataframe tbody tr th {\n",
       "        vertical-align: top;\n",
       "    }\n",
       "\n",
       "    .dataframe thead th {\n",
       "        text-align: right;\n",
       "    }\n",
       "</style>\n",
       "<table border=\"1\" class=\"dataframe\">\n",
       "  <thead>\n",
       "    <tr style=\"text-align: right;\">\n",
       "      <th></th>\n",
       "      <th>Student</th>\n",
       "    </tr>\n",
       "  </thead>\n",
       "  <tbody>\n",
       "    <tr>\n",
       "      <th>0</th>\n",
       "      <td>David</td>\n",
       "    </tr>\n",
       "    <tr>\n",
       "      <th>1</th>\n",
       "      <td>Samuel</td>\n",
       "    </tr>\n",
       "    <tr>\n",
       "      <th>2</th>\n",
       "      <td>Terry</td>\n",
       "    </tr>\n",
       "    <tr>\n",
       "      <th>3</th>\n",
       "      <td>Evan</td>\n",
       "    </tr>\n",
       "  </tbody>\n",
       "</table>\n",
       "</div>"
      ],
      "text/plain": [
       "  Student\n",
       "0   David\n",
       "1  Samuel\n",
       "2   Terry\n",
       "3    Evan"
      ]
     },
     "execution_count": 180,
     "metadata": {},
     "output_type": "execute_result"
    }
   ],
   "source": [
    "# Dataframes require the indexes to be in square brackets\n",
    "b = df1[['Student']]\n",
    "print(b)\n",
    "print(type(b))\n",
    "b"
   ]
  },
  {
   "cell_type": "code",
   "execution_count": 181,
   "id": "a9a22723-5039-44a0-8929-d84e53cfa833",
   "metadata": {},
   "outputs": [
    {
     "name": "stdout",
     "output_type": "stream",
     "text": [
      "0     David\n",
      "1    Samuel\n",
      "2     Terry\n",
      "3      Evan\n",
      "Name: Student, dtype: object\n",
      "<class 'pandas.core.series.Series'>\n"
     ]
    },
    {
     "data": {
      "text/plain": [
       "0     David\n",
       "1    Samuel\n",
       "2     Terry\n",
       "3      Evan\n",
       "Name: Student, dtype: object"
      ]
     },
     "execution_count": 181,
     "metadata": {},
     "output_type": "execute_result"
    }
   ],
   "source": [
    "# Series require the index not to be in square brakets\n",
    "b = df1['Student']\n",
    "print(b)\n",
    "print(type(b))\n",
    "b"
   ]
  },
  {
   "cell_type": "markdown",
   "id": "a9d71a22-25d3-4610-83e9-00ff4bc15db4",
   "metadata": {},
   "source": [
    "#### Exercise 2"
   ]
  },
  {
   "cell_type": "code",
   "execution_count": 182,
   "id": "bbf7d539-018a-47f2-a087-d9ae07ae309f",
   "metadata": {},
   "outputs": [
    {
     "data": {
      "text/html": [
       "<div>\n",
       "<style scoped>\n",
       "    .dataframe tbody tr th:only-of-type {\n",
       "        vertical-align: middle;\n",
       "    }\n",
       "\n",
       "    .dataframe tbody tr th {\n",
       "        vertical-align: top;\n",
       "    }\n",
       "\n",
       "    .dataframe thead th {\n",
       "        text-align: right;\n",
       "    }\n",
       "</style>\n",
       "<table border=\"1\" class=\"dataframe\">\n",
       "  <thead>\n",
       "    <tr style=\"text-align: right;\">\n",
       "      <th></th>\n",
       "      <th>Name</th>\n",
       "      <th>ID</th>\n",
       "      <th>Department</th>\n",
       "      <th>Salary</th>\n",
       "    </tr>\n",
       "  </thead>\n",
       "  <tbody>\n",
       "    <tr>\n",
       "      <th>0</th>\n",
       "      <td>Rose</td>\n",
       "      <td>1</td>\n",
       "      <td>Architect Group</td>\n",
       "      <td>100000</td>\n",
       "    </tr>\n",
       "    <tr>\n",
       "      <th>1</th>\n",
       "      <td>John</td>\n",
       "      <td>2</td>\n",
       "      <td>Software Group</td>\n",
       "      <td>80000</td>\n",
       "    </tr>\n",
       "    <tr>\n",
       "      <th>2</th>\n",
       "      <td>Jane</td>\n",
       "      <td>3</td>\n",
       "      <td>Design Team</td>\n",
       "      <td>50000</td>\n",
       "    </tr>\n",
       "    <tr>\n",
       "      <th>3</th>\n",
       "      <td>Mary</td>\n",
       "      <td>4</td>\n",
       "      <td>Infrastructure</td>\n",
       "      <td>60000</td>\n",
       "    </tr>\n",
       "  </tbody>\n",
       "</table>\n",
       "</div>"
      ],
      "text/plain": [
       "   Name  ID       Department  Salary\n",
       "0  Rose   1  Architect Group  100000\n",
       "1  John   2   Software Group   80000\n",
       "2  Jane   3      Design Team   50000\n",
       "3  Mary   4   Infrastructure   60000"
      ]
     },
     "execution_count": 182,
     "metadata": {},
     "output_type": "execute_result"
    }
   ],
   "source": [
    "df"
   ]
  },
  {
   "cell_type": "code",
   "execution_count": 183,
   "id": "e32051e0-1b3d-41c7-affd-8f86cc2716c6",
   "metadata": {},
   "outputs": [
    {
     "name": "stdout",
     "output_type": "stream",
     "text": [
      "   Salary\n",
      "0  100000\n",
      "1   80000\n",
      "2   50000\n",
      "3   60000\n",
      "Salary    72500.0\n",
      "dtype: float64\n"
     ]
    }
   ],
   "source": [
    "print(df[['Salary']])\n",
    "print(df[['Salary']].mean())"
   ]
  },
  {
   "cell_type": "code",
   "execution_count": 184,
   "id": "69f97669-db78-4113-8027-d56a59a0bfe2",
   "metadata": {},
   "outputs": [
    {
     "name": "stdout",
     "output_type": "stream",
     "text": [
      "Rose\n"
     ]
    },
    {
     "data": {
      "text/plain": [
       "'Rose'"
      ]
     },
     "execution_count": 184,
     "metadata": {},
     "output_type": "execute_result"
    }
   ],
   "source": [
    "print(df.iloc[0, 0])\n",
    "df.iloc[0, 0]"
   ]
  },
  {
   "cell_type": "code",
   "execution_count": 185,
   "id": "f3e26389-852f-4a82-bdf4-d6befb565abe",
   "metadata": {},
   "outputs": [
    {
     "name": "stdout",
     "output_type": "stream",
     "text": [
      "Architect Group\n"
     ]
    },
    {
     "data": {
      "text/plain": [
       "'Architect Group'"
      ]
     },
     "execution_count": 185,
     "metadata": {},
     "output_type": "execute_result"
    }
   ],
   "source": [
    "print(df.iloc[0, 2])\n",
    "df.iloc[0, 2]"
   ]
  },
  {
   "cell_type": "code",
   "execution_count": 186,
   "id": "628c3b5f-69f4-468e-8f56-66c4ad8b3ed8",
   "metadata": {},
   "outputs": [
    {
     "name": "stdout",
     "output_type": "stream",
     "text": [
      "100000\n"
     ]
    }
   ],
   "source": [
    "print(df.loc[0, 'Salary'])"
   ]
  },
  {
   "cell_type": "code",
   "execution_count": 187,
   "id": "4fdaaf46-a4b5-467a-a40e-aa626bacf490",
   "metadata": {},
   "outputs": [
    {
     "name": "stdout",
     "output_type": "stream",
     "text": [
      "      ID       Department  Salary\n",
      "Name                             \n",
      "Rose   1  Architect Group  100000\n",
      "John   2   Software Group   80000\n",
      "Jane   3      Design Team   50000\n",
      "Mary   4   Infrastructure   60000\n"
     ]
    },
    {
     "data": {
      "text/html": [
       "<div>\n",
       "<style scoped>\n",
       "    .dataframe tbody tr th:only-of-type {\n",
       "        vertical-align: middle;\n",
       "    }\n",
       "\n",
       "    .dataframe tbody tr th {\n",
       "        vertical-align: top;\n",
       "    }\n",
       "\n",
       "    .dataframe thead th {\n",
       "        text-align: right;\n",
       "    }\n",
       "</style>\n",
       "<table border=\"1\" class=\"dataframe\">\n",
       "  <thead>\n",
       "    <tr style=\"text-align: right;\">\n",
       "      <th></th>\n",
       "      <th>ID</th>\n",
       "      <th>Department</th>\n",
       "      <th>Salary</th>\n",
       "    </tr>\n",
       "    <tr>\n",
       "      <th>Name</th>\n",
       "      <th></th>\n",
       "      <th></th>\n",
       "      <th></th>\n",
       "    </tr>\n",
       "  </thead>\n",
       "  <tbody>\n",
       "    <tr>\n",
       "      <th>Rose</th>\n",
       "      <td>1</td>\n",
       "      <td>Architect Group</td>\n",
       "      <td>100000</td>\n",
       "    </tr>\n",
       "    <tr>\n",
       "      <th>John</th>\n",
       "      <td>2</td>\n",
       "      <td>Software Group</td>\n",
       "      <td>80000</td>\n",
       "    </tr>\n",
       "    <tr>\n",
       "      <th>Jane</th>\n",
       "      <td>3</td>\n",
       "      <td>Design Team</td>\n",
       "      <td>50000</td>\n",
       "    </tr>\n",
       "    <tr>\n",
       "      <th>Mary</th>\n",
       "      <td>4</td>\n",
       "      <td>Infrastructure</td>\n",
       "      <td>60000</td>\n",
       "    </tr>\n",
       "  </tbody>\n",
       "</table>\n",
       "</div>"
      ],
      "text/plain": [
       "      ID       Department  Salary\n",
       "Name                             \n",
       "Rose   1  Architect Group  100000\n",
       "John   2   Software Group   80000\n",
       "Jane   3      Design Team   50000\n",
       "Mary   4   Infrastructure   60000"
      ]
     },
     "execution_count": 187,
     "metadata": {},
     "output_type": "execute_result"
    }
   ],
   "source": [
    "df2 = df\n",
    "df2 = df2.set_index('Name')\n",
    "print(df2.head())\n",
    "df2.head()"
   ]
  },
  {
   "cell_type": "code",
   "execution_count": 188,
   "id": "9b2b31a5-d6e8-4cee-91f9-5586571553cc",
   "metadata": {},
   "outputs": [
    {
     "name": "stdout",
     "output_type": "stream",
     "text": [
      "Software Group\n"
     ]
    },
    {
     "data": {
      "text/plain": [
       "'Software Group'"
      ]
     },
     "execution_count": 188,
     "metadata": {},
     "output_type": "execute_result"
    }
   ],
   "source": [
    "print(df2.loc['John', 'Department'])\n",
    "df2.loc['John', 'Department']"
   ]
  },
  {
   "cell_type": "code",
   "execution_count": 189,
   "id": "2bd0b956-247f-4c05-9ac6-6e25183ba49f",
   "metadata": {},
   "outputs": [
    {
     "name": "stdout",
     "output_type": "stream",
     "text": [
      "50000\n"
     ]
    },
    {
     "data": {
      "text/plain": [
       "50000"
      ]
     },
     "execution_count": 189,
     "metadata": {},
     "output_type": "execute_result"
    }
   ],
   "source": [
    "print(df2.loc['Jane', 'Salary'])\n",
    "df2.loc['Jane', 'Salary']"
   ]
  },
  {
   "cell_type": "markdown",
   "id": "87a38509-6754-4fb3-a379-84b29a41a680",
   "metadata": {},
   "source": [
    "#### Exercise 3"
   ]
  },
  {
   "cell_type": "code",
   "execution_count": 190,
   "id": "ec25a1dd-ad1b-46fb-886e-89076265a571",
   "metadata": {},
   "outputs": [
    {
     "data": {
      "text/html": [
       "<div>\n",
       "<style scoped>\n",
       "    .dataframe tbody tr th:only-of-type {\n",
       "        vertical-align: middle;\n",
       "    }\n",
       "\n",
       "    .dataframe tbody tr th {\n",
       "        vertical-align: top;\n",
       "    }\n",
       "\n",
       "    .dataframe thead th {\n",
       "        text-align: right;\n",
       "    }\n",
       "</style>\n",
       "<table border=\"1\" class=\"dataframe\">\n",
       "  <thead>\n",
       "    <tr style=\"text-align: right;\">\n",
       "      <th></th>\n",
       "      <th>Name</th>\n",
       "      <th>ID</th>\n",
       "      <th>Department</th>\n",
       "      <th>Salary</th>\n",
       "    </tr>\n",
       "  </thead>\n",
       "  <tbody>\n",
       "    <tr>\n",
       "      <th>0</th>\n",
       "      <td>Rose</td>\n",
       "      <td>1</td>\n",
       "      <td>Architect Group</td>\n",
       "      <td>100000</td>\n",
       "    </tr>\n",
       "    <tr>\n",
       "      <th>1</th>\n",
       "      <td>John</td>\n",
       "      <td>2</td>\n",
       "      <td>Software Group</td>\n",
       "      <td>80000</td>\n",
       "    </tr>\n",
       "    <tr>\n",
       "      <th>2</th>\n",
       "      <td>Jane</td>\n",
       "      <td>3</td>\n",
       "      <td>Design Team</td>\n",
       "      <td>50000</td>\n",
       "    </tr>\n",
       "    <tr>\n",
       "      <th>3</th>\n",
       "      <td>Mary</td>\n",
       "      <td>4</td>\n",
       "      <td>Infrastructure</td>\n",
       "      <td>60000</td>\n",
       "    </tr>\n",
       "  </tbody>\n",
       "</table>\n",
       "</div>"
      ],
      "text/plain": [
       "   Name  ID       Department  Salary\n",
       "0  Rose   1  Architect Group  100000\n",
       "1  John   2   Software Group   80000\n",
       "2  Jane   3      Design Team   50000\n",
       "3  Mary   4   Infrastructure   60000"
      ]
     },
     "execution_count": 190,
     "metadata": {},
     "output_type": "execute_result"
    }
   ],
   "source": [
    "df"
   ]
  },
  {
   "cell_type": "code",
   "execution_count": 191,
   "id": "0cf32eb6-7ee2-460d-bcae-5e240c12dcdb",
   "metadata": {},
   "outputs": [
    {
     "name": "stdout",
     "output_type": "stream",
     "text": [
      "   Name  ID       Department\n",
      "0  Rose   1  Architect Group\n",
      "1  John   2   Software Group\n"
     ]
    },
    {
     "data": {
      "text/html": [
       "<div>\n",
       "<style scoped>\n",
       "    .dataframe tbody tr th:only-of-type {\n",
       "        vertical-align: middle;\n",
       "    }\n",
       "\n",
       "    .dataframe tbody tr th {\n",
       "        vertical-align: top;\n",
       "    }\n",
       "\n",
       "    .dataframe thead th {\n",
       "        text-align: right;\n",
       "    }\n",
       "</style>\n",
       "<table border=\"1\" class=\"dataframe\">\n",
       "  <thead>\n",
       "    <tr style=\"text-align: right;\">\n",
       "      <th></th>\n",
       "      <th>Name</th>\n",
       "      <th>ID</th>\n",
       "      <th>Department</th>\n",
       "    </tr>\n",
       "  </thead>\n",
       "  <tbody>\n",
       "    <tr>\n",
       "      <th>0</th>\n",
       "      <td>Rose</td>\n",
       "      <td>1</td>\n",
       "      <td>Architect Group</td>\n",
       "    </tr>\n",
       "    <tr>\n",
       "      <th>1</th>\n",
       "      <td>John</td>\n",
       "      <td>2</td>\n",
       "      <td>Software Group</td>\n",
       "    </tr>\n",
       "  </tbody>\n",
       "</table>\n",
       "</div>"
      ],
      "text/plain": [
       "   Name  ID       Department\n",
       "0  Rose   1  Architect Group\n",
       "1  John   2   Software Group"
      ]
     },
     "execution_count": 191,
     "metadata": {},
     "output_type": "execute_result"
    }
   ],
   "source": [
    "print(df.iloc[0:2, 0:3])\n",
    "df.iloc[0:2, 0:3]"
   ]
  },
  {
   "cell_type": "code",
   "execution_count": 192,
   "id": "7a579faa-81fc-4833-8858-a2ce556bc71d",
   "metadata": {},
   "outputs": [
    {
     "name": "stdout",
     "output_type": "stream",
     "text": [
      "   ID       Department\n",
      "0   1  Architect Group\n",
      "1   2   Software Group\n",
      "2   3      Design Team\n"
     ]
    },
    {
     "data": {
      "text/html": [
       "<div>\n",
       "<style scoped>\n",
       "    .dataframe tbody tr th:only-of-type {\n",
       "        vertical-align: middle;\n",
       "    }\n",
       "\n",
       "    .dataframe tbody tr th {\n",
       "        vertical-align: top;\n",
       "    }\n",
       "\n",
       "    .dataframe thead th {\n",
       "        text-align: right;\n",
       "    }\n",
       "</style>\n",
       "<table border=\"1\" class=\"dataframe\">\n",
       "  <thead>\n",
       "    <tr style=\"text-align: right;\">\n",
       "      <th></th>\n",
       "      <th>ID</th>\n",
       "      <th>Department</th>\n",
       "    </tr>\n",
       "  </thead>\n",
       "  <tbody>\n",
       "    <tr>\n",
       "      <th>0</th>\n",
       "      <td>1</td>\n",
       "      <td>Architect Group</td>\n",
       "    </tr>\n",
       "    <tr>\n",
       "      <th>1</th>\n",
       "      <td>2</td>\n",
       "      <td>Software Group</td>\n",
       "    </tr>\n",
       "    <tr>\n",
       "      <th>2</th>\n",
       "      <td>3</td>\n",
       "      <td>Design Team</td>\n",
       "    </tr>\n",
       "  </tbody>\n",
       "</table>\n",
       "</div>"
      ],
      "text/plain": [
       "   ID       Department\n",
       "0   1  Architect Group\n",
       "1   2   Software Group\n",
       "2   3      Design Team"
      ]
     },
     "execution_count": 192,
     "metadata": {},
     "output_type": "execute_result"
    }
   ],
   "source": [
    "print(df.loc[0:2, 'ID':'Department'])\n",
    "df.loc[0:2, 'ID':'Department']"
   ]
  },
  {
   "cell_type": "code",
   "execution_count": 193,
   "id": "ddd3c0a0-c98c-4bef-92a7-35b0773a672a",
   "metadata": {},
   "outputs": [
    {
     "data": {
      "text/html": [
       "<div>\n",
       "<style scoped>\n",
       "    .dataframe tbody tr th:only-of-type {\n",
       "        vertical-align: middle;\n",
       "    }\n",
       "\n",
       "    .dataframe tbody tr th {\n",
       "        vertical-align: top;\n",
       "    }\n",
       "\n",
       "    .dataframe thead th {\n",
       "        text-align: right;\n",
       "    }\n",
       "</style>\n",
       "<table border=\"1\" class=\"dataframe\">\n",
       "  <thead>\n",
       "    <tr style=\"text-align: right;\">\n",
       "      <th></th>\n",
       "      <th>ID</th>\n",
       "      <th>Department</th>\n",
       "      <th>Salary</th>\n",
       "    </tr>\n",
       "    <tr>\n",
       "      <th>Name</th>\n",
       "      <th></th>\n",
       "      <th></th>\n",
       "      <th></th>\n",
       "    </tr>\n",
       "  </thead>\n",
       "  <tbody>\n",
       "    <tr>\n",
       "      <th>Rose</th>\n",
       "      <td>1</td>\n",
       "      <td>Architect Group</td>\n",
       "      <td>100000</td>\n",
       "    </tr>\n",
       "    <tr>\n",
       "      <th>John</th>\n",
       "      <td>2</td>\n",
       "      <td>Software Group</td>\n",
       "      <td>80000</td>\n",
       "    </tr>\n",
       "    <tr>\n",
       "      <th>Jane</th>\n",
       "      <td>3</td>\n",
       "      <td>Design Team</td>\n",
       "      <td>50000</td>\n",
       "    </tr>\n",
       "    <tr>\n",
       "      <th>Mary</th>\n",
       "      <td>4</td>\n",
       "      <td>Infrastructure</td>\n",
       "      <td>60000</td>\n",
       "    </tr>\n",
       "  </tbody>\n",
       "</table>\n",
       "</div>"
      ],
      "text/plain": [
       "      ID       Department  Salary\n",
       "Name                             \n",
       "Rose   1  Architect Group  100000\n",
       "John   2   Software Group   80000\n",
       "Jane   3      Design Team   50000\n",
       "Mary   4   Infrastructure   60000"
      ]
     },
     "execution_count": 193,
     "metadata": {},
     "output_type": "execute_result"
    }
   ],
   "source": [
    "df2"
   ]
  },
  {
   "cell_type": "code",
   "execution_count": 194,
   "id": "d7b4ee4a-f7b9-4aee-bba0-2e9e8a17c2ac",
   "metadata": {},
   "outputs": [
    {
     "name": "stdout",
     "output_type": "stream",
     "text": [
      "      ID       Department\n",
      "Name                     \n",
      "Rose   1  Architect Group\n",
      "John   2   Software Group\n",
      "Jane   3      Design Team\n"
     ]
    },
    {
     "data": {
      "text/html": [
       "<div>\n",
       "<style scoped>\n",
       "    .dataframe tbody tr th:only-of-type {\n",
       "        vertical-align: middle;\n",
       "    }\n",
       "\n",
       "    .dataframe tbody tr th {\n",
       "        vertical-align: top;\n",
       "    }\n",
       "\n",
       "    .dataframe thead th {\n",
       "        text-align: right;\n",
       "    }\n",
       "</style>\n",
       "<table border=\"1\" class=\"dataframe\">\n",
       "  <thead>\n",
       "    <tr style=\"text-align: right;\">\n",
       "      <th></th>\n",
       "      <th>ID</th>\n",
       "      <th>Department</th>\n",
       "    </tr>\n",
       "    <tr>\n",
       "      <th>Name</th>\n",
       "      <th></th>\n",
       "      <th></th>\n",
       "    </tr>\n",
       "  </thead>\n",
       "  <tbody>\n",
       "    <tr>\n",
       "      <th>Rose</th>\n",
       "      <td>1</td>\n",
       "      <td>Architect Group</td>\n",
       "    </tr>\n",
       "    <tr>\n",
       "      <th>John</th>\n",
       "      <td>2</td>\n",
       "      <td>Software Group</td>\n",
       "    </tr>\n",
       "    <tr>\n",
       "      <th>Jane</th>\n",
       "      <td>3</td>\n",
       "      <td>Design Team</td>\n",
       "    </tr>\n",
       "  </tbody>\n",
       "</table>\n",
       "</div>"
      ],
      "text/plain": [
       "      ID       Department\n",
       "Name                     \n",
       "Rose   1  Architect Group\n",
       "John   2   Software Group\n",
       "Jane   3      Design Team"
      ]
     },
     "execution_count": 194,
     "metadata": {},
     "output_type": "execute_result"
    }
   ],
   "source": [
    "print(df2.loc['Rose':'Jane', 'ID':'Department'])\n",
    "df2.loc['Rose':'Jane', 'ID':'Department']"
   ]
  },
  {
   "cell_type": "code",
   "execution_count": 195,
   "id": "5504a029-b6cb-4e64-9663-ef6c827f0b5b",
   "metadata": {},
   "outputs": [
    {
     "data": {
      "text/html": [
       "<div>\n",
       "<style scoped>\n",
       "    .dataframe tbody tr th:only-of-type {\n",
       "        vertical-align: middle;\n",
       "    }\n",
       "\n",
       "    .dataframe tbody tr th {\n",
       "        vertical-align: top;\n",
       "    }\n",
       "\n",
       "    .dataframe thead th {\n",
       "        text-align: right;\n",
       "    }\n",
       "</style>\n",
       "<table border=\"1\" class=\"dataframe\">\n",
       "  <thead>\n",
       "    <tr style=\"text-align: right;\">\n",
       "      <th></th>\n",
       "      <th>Name</th>\n",
       "      <th>ID</th>\n",
       "      <th>Department</th>\n",
       "      <th>Salary</th>\n",
       "    </tr>\n",
       "  </thead>\n",
       "  <tbody>\n",
       "    <tr>\n",
       "      <th>0</th>\n",
       "      <td>Rose</td>\n",
       "      <td>1</td>\n",
       "      <td>Architect Group</td>\n",
       "      <td>100000</td>\n",
       "    </tr>\n",
       "    <tr>\n",
       "      <th>1</th>\n",
       "      <td>John</td>\n",
       "      <td>2</td>\n",
       "      <td>Software Group</td>\n",
       "      <td>80000</td>\n",
       "    </tr>\n",
       "    <tr>\n",
       "      <th>2</th>\n",
       "      <td>Jane</td>\n",
       "      <td>3</td>\n",
       "      <td>Design Team</td>\n",
       "      <td>50000</td>\n",
       "    </tr>\n",
       "    <tr>\n",
       "      <th>3</th>\n",
       "      <td>Mary</td>\n",
       "      <td>4</td>\n",
       "      <td>Infrastructure</td>\n",
       "      <td>60000</td>\n",
       "    </tr>\n",
       "  </tbody>\n",
       "</table>\n",
       "</div>"
      ],
      "text/plain": [
       "   Name  ID       Department  Salary\n",
       "0  Rose   1  Architect Group  100000\n",
       "1  John   2   Software Group   80000\n",
       "2  Jane   3      Design Team   50000\n",
       "3  Mary   4   Infrastructure   60000"
      ]
     },
     "execution_count": 195,
     "metadata": {},
     "output_type": "execute_result"
    }
   ],
   "source": [
    "df"
   ]
  },
  {
   "cell_type": "code",
   "execution_count": 196,
   "id": "eab879ea-d55d-47ae-b9f4-1edb079cd7c9",
   "metadata": {},
   "outputs": [
    {
     "name": "stdout",
     "output_type": "stream",
     "text": [
      "   Name  ID      Department\n",
      "2  Jane   3     Design Team\n",
      "3  Mary   4  Infrastructure\n"
     ]
    },
    {
     "data": {
      "text/html": [
       "<div>\n",
       "<style scoped>\n",
       "    .dataframe tbody tr th:only-of-type {\n",
       "        vertical-align: middle;\n",
       "    }\n",
       "\n",
       "    .dataframe tbody tr th {\n",
       "        vertical-align: top;\n",
       "    }\n",
       "\n",
       "    .dataframe thead th {\n",
       "        text-align: right;\n",
       "    }\n",
       "</style>\n",
       "<table border=\"1\" class=\"dataframe\">\n",
       "  <thead>\n",
       "    <tr style=\"text-align: right;\">\n",
       "      <th></th>\n",
       "      <th>Name</th>\n",
       "      <th>ID</th>\n",
       "      <th>Department</th>\n",
       "    </tr>\n",
       "  </thead>\n",
       "  <tbody>\n",
       "    <tr>\n",
       "      <th>2</th>\n",
       "      <td>Jane</td>\n",
       "      <td>3</td>\n",
       "      <td>Design Team</td>\n",
       "    </tr>\n",
       "    <tr>\n",
       "      <th>3</th>\n",
       "      <td>Mary</td>\n",
       "      <td>4</td>\n",
       "      <td>Infrastructure</td>\n",
       "    </tr>\n",
       "  </tbody>\n",
       "</table>\n",
       "</div>"
      ],
      "text/plain": [
       "   Name  ID      Department\n",
       "2  Jane   3     Design Team\n",
       "3  Mary   4  Infrastructure"
      ]
     },
     "execution_count": 196,
     "metadata": {},
     "output_type": "execute_result"
    }
   ],
   "source": [
    "print(df.loc[2:3, 'Name':'Department'])\n",
    "df.loc[2:3, 'Name':'Department']"
   ]
  },
  {
   "cell_type": "markdown",
   "id": "d72fada4-323d-4e84-8060-41c58e545ae1",
   "metadata": {},
   "source": [
    "#### Exercise 4"
   ]
  },
  {
   "cell_type": "markdown",
   "id": "9b388bff-6da3-4089-a4f3-044a008c2884",
   "metadata": {},
   "source": [
    "##### Create TopSellingAlbums.csv\n",
    "Create a file named 'TopSellingAlbums.csv' with following content:\n",
    "Artist,Album,Released,Length,Genre,Music Recording Sales (millions),Claimed Sales (millions),Released,Soundtrack,Rating\n",
    "Michael Jackson,Thriller,1982,0:42:19,\"pop, rock, R&B\",46,65,30-Nov-82,,10\n",
    "AC/DC,Back in Black,1980,0:42:11,hard rock,26.1,50,25-Jul-80,,9.5\n",
    "Pink Floyd,The Dark Side of the Moon,1973,0:42:49,progressive rock,24.2,45,01-Mar-73,,9\n",
    "Whitney Houston,The Bodyguard,1992,0:57:44,\"R&B, soul, pop\",27.4,44,17-Nov-92,Y,8.5\n",
    "Meat Loaf,Bat Out of Hell,1977,0:46:33,\"hard rock, progressive rock\",20.6,43,21-Oct-77,,8\n",
    "Eagles,Their Greatest Hits (1971-1975),1976,0:43:08,\"rock, soft rock, folk rock\",32.2,42,17-Feb-76,,7.5\n",
    "Bee Gees,Saturday Night Fever,1977,1:15:54,disco,20.6,40,15-Nov-77,Y,7\n",
    "Fleetwood Mac,Rumours,1977,0:40:01,soft rock,27.9,40,04-Feb-77,,6.5"
   ]
  },
  {
   "cell_type": "code",
   "execution_count": 197,
   "id": "1e2909ff-039e-4c89-b903-3ce1776e0ce5",
   "metadata": {},
   "outputs": [],
   "source": [
    "with open('TopSellingAlbums.csv', 'w+') as albums:\n",
    "    albums.write('Artist,Album,Released,Length,Genre,Music Recording Sales (millions),Claimed Sales (millions),Released,Soundtrack,Rating\\n')\n",
    "    albums.write('Michael Jackson,Thriller,1982,0:42:19,\"pop, rock, R&B\",46,65,30-Nov-82,,10\\n')\n",
    "    albums.write('AC/DC,Back in Black,1980,0:42:11,hard rock,26.1,50,25-Jul-80,,9.5\\n')\n",
    "    albums.write('Pink Floyd,The Dark Side of the Moon,1973,0:42:49,progressive rock,24.2,45,01-Mar-73,,9\\n')\n",
    "    albums.write('Whitney Houston,The Bodyguard,1992,0:57:44,\"R&B, soul, pop\",27.4,44,17-Nov-92,Y,8.5\\n')\n",
    "    albums.write('Meat Loaf,Bat Out of Hell,1977,0:46:33,\"hard rock, progressive rock\",20.6,43,21-Oct-77,,8\\n')\n",
    "    albums.write('Eagles,Their Greatest Hits (1971-1975),1976,0:43:08,\"rock, soft rock, folk rock\",32.2,42,17-Feb-76,,7.5\\n')\n",
    "    albums.write('Bee Gees,Saturday Night Fever,1977,1:15:54,disco,20.6,40,15-Nov-77,Y,7\\n')\n",
    "    albums.write('Fleetwood Mac,Rumours,1977,0:40:01,soft rock,27.9,40,04-Feb-77,,6.5')"
   ]
  },
  {
   "cell_type": "code",
   "execution_count": 198,
   "id": "81a5a0d0-77e9-40c0-b300-a744e1a75ec5",
   "metadata": {},
   "outputs": [
    {
     "data": {
      "text/html": [
       "<div>\n",
       "<style scoped>\n",
       "    .dataframe tbody tr th:only-of-type {\n",
       "        vertical-align: middle;\n",
       "    }\n",
       "\n",
       "    .dataframe tbody tr th {\n",
       "        vertical-align: top;\n",
       "    }\n",
       "\n",
       "    .dataframe thead th {\n",
       "        text-align: right;\n",
       "    }\n",
       "</style>\n",
       "<table border=\"1\" class=\"dataframe\">\n",
       "  <thead>\n",
       "    <tr style=\"text-align: right;\">\n",
       "      <th></th>\n",
       "      <th>Artist</th>\n",
       "      <th>Album</th>\n",
       "      <th>Released</th>\n",
       "      <th>Length</th>\n",
       "      <th>Genre</th>\n",
       "      <th>Music Recording Sales (millions)</th>\n",
       "      <th>Claimed Sales (millions)</th>\n",
       "      <th>Released.1</th>\n",
       "      <th>Soundtrack</th>\n",
       "      <th>Rating</th>\n",
       "    </tr>\n",
       "  </thead>\n",
       "  <tbody>\n",
       "    <tr>\n",
       "      <th>0</th>\n",
       "      <td>Michael Jackson</td>\n",
       "      <td>Thriller</td>\n",
       "      <td>1982</td>\n",
       "      <td>0:42:19</td>\n",
       "      <td>pop, rock, R&amp;B</td>\n",
       "      <td>46.0</td>\n",
       "      <td>65</td>\n",
       "      <td>30-Nov-82</td>\n",
       "      <td>NaN</td>\n",
       "      <td>10.0</td>\n",
       "    </tr>\n",
       "    <tr>\n",
       "      <th>1</th>\n",
       "      <td>AC/DC</td>\n",
       "      <td>Back in Black</td>\n",
       "      <td>1980</td>\n",
       "      <td>0:42:11</td>\n",
       "      <td>hard rock</td>\n",
       "      <td>26.1</td>\n",
       "      <td>50</td>\n",
       "      <td>25-Jul-80</td>\n",
       "      <td>NaN</td>\n",
       "      <td>9.5</td>\n",
       "    </tr>\n",
       "    <tr>\n",
       "      <th>2</th>\n",
       "      <td>Pink Floyd</td>\n",
       "      <td>The Dark Side of the Moon</td>\n",
       "      <td>1973</td>\n",
       "      <td>0:42:49</td>\n",
       "      <td>progressive rock</td>\n",
       "      <td>24.2</td>\n",
       "      <td>45</td>\n",
       "      <td>01-Mar-73</td>\n",
       "      <td>NaN</td>\n",
       "      <td>9.0</td>\n",
       "    </tr>\n",
       "    <tr>\n",
       "      <th>3</th>\n",
       "      <td>Whitney Houston</td>\n",
       "      <td>The Bodyguard</td>\n",
       "      <td>1992</td>\n",
       "      <td>0:57:44</td>\n",
       "      <td>R&amp;B, soul, pop</td>\n",
       "      <td>27.4</td>\n",
       "      <td>44</td>\n",
       "      <td>17-Nov-92</td>\n",
       "      <td>Y</td>\n",
       "      <td>8.5</td>\n",
       "    </tr>\n",
       "    <tr>\n",
       "      <th>4</th>\n",
       "      <td>Meat Loaf</td>\n",
       "      <td>Bat Out of Hell</td>\n",
       "      <td>1977</td>\n",
       "      <td>0:46:33</td>\n",
       "      <td>hard rock, progressive rock</td>\n",
       "      <td>20.6</td>\n",
       "      <td>43</td>\n",
       "      <td>21-Oct-77</td>\n",
       "      <td>NaN</td>\n",
       "      <td>8.0</td>\n",
       "    </tr>\n",
       "  </tbody>\n",
       "</table>\n",
       "</div>"
      ],
      "text/plain": [
       "            Artist                      Album  Released   Length  \\\n",
       "0  Michael Jackson                   Thriller      1982  0:42:19   \n",
       "1            AC/DC              Back in Black      1980  0:42:11   \n",
       "2       Pink Floyd  The Dark Side of the Moon      1973  0:42:49   \n",
       "3  Whitney Houston              The Bodyguard      1992  0:57:44   \n",
       "4        Meat Loaf            Bat Out of Hell      1977  0:46:33   \n",
       "\n",
       "                         Genre  Music Recording Sales (millions)  \\\n",
       "0               pop, rock, R&B                              46.0   \n",
       "1                    hard rock                              26.1   \n",
       "2             progressive rock                              24.2   \n",
       "3               R&B, soul, pop                              27.4   \n",
       "4  hard rock, progressive rock                              20.6   \n",
       "\n",
       "   Claimed Sales (millions) Released.1 Soundtrack  Rating  \n",
       "0                        65  30-Nov-82        NaN    10.0  \n",
       "1                        50  25-Jul-80        NaN     9.5  \n",
       "2                        45  01-Mar-73        NaN     9.0  \n",
       "3                        44  17-Nov-92          Y     8.5  \n",
       "4                        43  21-Oct-77        NaN     8.0  "
      ]
     },
     "execution_count": 198,
     "metadata": {},
     "output_type": "execute_result"
    }
   ],
   "source": [
    "df3 = pd.read_csv('TopSellingAlbums.csv', header = 0)\n",
    "df3.head()"
   ]
  },
  {
   "cell_type": "code",
   "execution_count": 199,
   "id": "4440f51c-790e-4e8b-aa54-1598df32c3fe",
   "metadata": {},
   "outputs": [
    {
     "name": "stdout",
     "output_type": "stream",
     "text": [
      "    Length\n",
      "0  0:42:19\n",
      "1  0:42:11\n",
      "2  0:42:49\n",
      "3  0:57:44\n",
      "4  0:46:33\n",
      "5  0:43:08\n",
      "6  1:15:54\n",
      "7  0:40:01\n",
      "<class 'pandas.core.frame.DataFrame'>\n"
     ]
    },
    {
     "data": {
      "text/html": [
       "<div>\n",
       "<style scoped>\n",
       "    .dataframe tbody tr th:only-of-type {\n",
       "        vertical-align: middle;\n",
       "    }\n",
       "\n",
       "    .dataframe tbody tr th {\n",
       "        vertical-align: top;\n",
       "    }\n",
       "\n",
       "    .dataframe thead th {\n",
       "        text-align: right;\n",
       "    }\n",
       "</style>\n",
       "<table border=\"1\" class=\"dataframe\">\n",
       "  <thead>\n",
       "    <tr style=\"text-align: right;\">\n",
       "      <th></th>\n",
       "      <th>Length</th>\n",
       "    </tr>\n",
       "  </thead>\n",
       "  <tbody>\n",
       "    <tr>\n",
       "      <th>0</th>\n",
       "      <td>0:42:19</td>\n",
       "    </tr>\n",
       "    <tr>\n",
       "      <th>1</th>\n",
       "      <td>0:42:11</td>\n",
       "    </tr>\n",
       "    <tr>\n",
       "      <th>2</th>\n",
       "      <td>0:42:49</td>\n",
       "    </tr>\n",
       "    <tr>\n",
       "      <th>3</th>\n",
       "      <td>0:57:44</td>\n",
       "    </tr>\n",
       "    <tr>\n",
       "      <th>4</th>\n",
       "      <td>0:46:33</td>\n",
       "    </tr>\n",
       "    <tr>\n",
       "      <th>5</th>\n",
       "      <td>0:43:08</td>\n",
       "    </tr>\n",
       "    <tr>\n",
       "      <th>6</th>\n",
       "      <td>1:15:54</td>\n",
       "    </tr>\n",
       "    <tr>\n",
       "      <th>7</th>\n",
       "      <td>0:40:01</td>\n",
       "    </tr>\n",
       "  </tbody>\n",
       "</table>\n",
       "</div>"
      ],
      "text/plain": [
       "    Length\n",
       "0  0:42:19\n",
       "1  0:42:11\n",
       "2  0:42:49\n",
       "3  0:57:44\n",
       "4  0:46:33\n",
       "5  0:43:08\n",
       "6  1:15:54\n",
       "7  0:40:01"
      ]
     },
     "execution_count": 199,
     "metadata": {},
     "output_type": "execute_result"
    }
   ],
   "source": [
    "length = df3[['Length']]\n",
    "print(length)\n",
    "print(type(length))\n",
    "length"
   ]
  },
  {
   "cell_type": "code",
   "execution_count": 200,
   "id": "94309b7e-ff0a-445a-906a-8f1cbfdfb478",
   "metadata": {},
   "outputs": [
    {
     "name": "stdout",
     "output_type": "stream",
     "text": [
      "            Artist   Length                        Genre\n",
      "0  Michael Jackson  0:42:19               pop, rock, R&B\n",
      "1            AC/DC  0:42:11                    hard rock\n",
      "2       Pink Floyd  0:42:49             progressive rock\n",
      "3  Whitney Houston  0:57:44               R&B, soul, pop\n",
      "4        Meat Loaf  0:46:33  hard rock, progressive rock\n",
      "5           Eagles  0:43:08   rock, soft rock, folk rock\n",
      "6         Bee Gees  1:15:54                        disco\n",
      "7    Fleetwood Mac  0:40:01                    soft rock\n",
      "<class 'pandas.core.frame.DataFrame'>\n"
     ]
    },
    {
     "data": {
      "text/html": [
       "<div>\n",
       "<style scoped>\n",
       "    .dataframe tbody tr th:only-of-type {\n",
       "        vertical-align: middle;\n",
       "    }\n",
       "\n",
       "    .dataframe tbody tr th {\n",
       "        vertical-align: top;\n",
       "    }\n",
       "\n",
       "    .dataframe thead th {\n",
       "        text-align: right;\n",
       "    }\n",
       "</style>\n",
       "<table border=\"1\" class=\"dataframe\">\n",
       "  <thead>\n",
       "    <tr style=\"text-align: right;\">\n",
       "      <th></th>\n",
       "      <th>Artist</th>\n",
       "      <th>Length</th>\n",
       "      <th>Genre</th>\n",
       "    </tr>\n",
       "  </thead>\n",
       "  <tbody>\n",
       "    <tr>\n",
       "      <th>0</th>\n",
       "      <td>Michael Jackson</td>\n",
       "      <td>0:42:19</td>\n",
       "      <td>pop, rock, R&amp;B</td>\n",
       "    </tr>\n",
       "    <tr>\n",
       "      <th>1</th>\n",
       "      <td>AC/DC</td>\n",
       "      <td>0:42:11</td>\n",
       "      <td>hard rock</td>\n",
       "    </tr>\n",
       "    <tr>\n",
       "      <th>2</th>\n",
       "      <td>Pink Floyd</td>\n",
       "      <td>0:42:49</td>\n",
       "      <td>progressive rock</td>\n",
       "    </tr>\n",
       "    <tr>\n",
       "      <th>3</th>\n",
       "      <td>Whitney Houston</td>\n",
       "      <td>0:57:44</td>\n",
       "      <td>R&amp;B, soul, pop</td>\n",
       "    </tr>\n",
       "    <tr>\n",
       "      <th>4</th>\n",
       "      <td>Meat Loaf</td>\n",
       "      <td>0:46:33</td>\n",
       "      <td>hard rock, progressive rock</td>\n",
       "    </tr>\n",
       "    <tr>\n",
       "      <th>5</th>\n",
       "      <td>Eagles</td>\n",
       "      <td>0:43:08</td>\n",
       "      <td>rock, soft rock, folk rock</td>\n",
       "    </tr>\n",
       "    <tr>\n",
       "      <th>6</th>\n",
       "      <td>Bee Gees</td>\n",
       "      <td>1:15:54</td>\n",
       "      <td>disco</td>\n",
       "    </tr>\n",
       "    <tr>\n",
       "      <th>7</th>\n",
       "      <td>Fleetwood Mac</td>\n",
       "      <td>0:40:01</td>\n",
       "      <td>soft rock</td>\n",
       "    </tr>\n",
       "  </tbody>\n",
       "</table>\n",
       "</div>"
      ],
      "text/plain": [
       "            Artist   Length                        Genre\n",
       "0  Michael Jackson  0:42:19               pop, rock, R&B\n",
       "1            AC/DC  0:42:11                    hard rock\n",
       "2       Pink Floyd  0:42:49             progressive rock\n",
       "3  Whitney Houston  0:57:44               R&B, soul, pop\n",
       "4        Meat Loaf  0:46:33  hard rock, progressive rock\n",
       "5           Eagles  0:43:08   rock, soft rock, folk rock\n",
       "6         Bee Gees  1:15:54                        disco\n",
       "7    Fleetwood Mac  0:40:01                    soft rock"
      ]
     },
     "execution_count": 200,
     "metadata": {},
     "output_type": "execute_result"
    }
   ],
   "source": [
    "art_len_gen = df3[['Artist', 'Length', 'Genre']]\n",
    "print(art_len_gen)\n",
    "print(type(art_len_gen))\n",
    "art_len_gen"
   ]
  },
  {
   "cell_type": "code",
   "execution_count": 201,
   "id": "df1b796f-a222-4eac-8de4-54f057dd0cc4",
   "metadata": {},
   "outputs": [
    {
     "name": "stdout",
     "output_type": "stream",
     "text": [
      "1                Back in Black\n",
      "2    The Dark Side of the Moon\n",
      "3                The Bodyguard\n",
      "4              Bat Out of Hell\n",
      "Name: Album, dtype: object\n"
     ]
    },
    {
     "data": {
      "text/plain": [
       "1                Back in Black\n",
       "2    The Dark Side of the Moon\n",
       "3                The Bodyguard\n",
       "4              Bat Out of Hell\n",
       "Name: Album, dtype: object"
      ]
     },
     "execution_count": 201,
     "metadata": {},
     "output_type": "execute_result"
    }
   ],
   "source": [
    "print(df3.loc[1:4, 'Album'])\n",
    "df3.loc[1:4, 'Album']"
   ]
  },
  {
   "cell_type": "code",
   "execution_count": 202,
   "id": "127dfee9-2877-423f-a946-bcd01842b7f8",
   "metadata": {},
   "outputs": [
    {
     "name": "stdout",
     "output_type": "stream",
     "text": [
      "1                Back in Black\n",
      "2    The Dark Side of the Moon\n",
      "3                The Bodyguard\n",
      "4              Bat Out of Hell\n",
      "Name: Album, dtype: object\n"
     ]
    },
    {
     "data": {
      "text/plain": [
       "1                Back in Black\n",
       "2    The Dark Side of the Moon\n",
       "3                The Bodyguard\n",
       "4              Bat Out of Hell\n",
       "Name: Album, dtype: object"
      ]
     },
     "execution_count": 202,
     "metadata": {},
     "output_type": "execute_result"
    }
   ],
   "source": [
    "print(df3.iloc[1:5, 1])\n",
    "df3.iloc[1:5, 1]"
   ]
  },
  {
   "cell_type": "markdown",
   "id": "f619b676-c0f9-4615-9ac7-9aa5da146433",
   "metadata": {},
   "source": [
    "### Numpy in Python\n",
    "- Numpy is a basis for Pandas"
   ]
  },
  {
   "cell_type": "code",
   "execution_count": 203,
   "id": "ce2318ce-4da0-42d5-965b-c8d7df39e15f",
   "metadata": {},
   "outputs": [],
   "source": [
    "import numpy as np"
   ]
  },
  {
   "cell_type": "code",
   "execution_count": 204,
   "id": "bf38261b-0bb6-4b4a-88ab-e536480d95c7",
   "metadata": {},
   "outputs": [
    {
     "name": "stdout",
     "output_type": "stream",
     "text": [
      "1.24.3\n"
     ]
    }
   ],
   "source": [
    "print(np.__version__)"
   ]
  },
  {
   "cell_type": "code",
   "execution_count": 205,
   "id": "4a9daafb-60df-4bd6-835f-75c7d08ba287",
   "metadata": {},
   "outputs": [
    {
     "name": "stdout",
     "output_type": "stream",
     "text": [
      "[0 1 2 3 4 5]\n",
      "<class 'numpy.ndarray'>\n",
      "int64\n"
     ]
    }
   ],
   "source": [
    "a = np.array([0, 1, 2, 3, 4, 5])\n",
    "print(a)\n",
    "print(type(a))\n",
    "print(a.dtype)"
   ]
  },
  {
   "cell_type": "code",
   "execution_count": 206,
   "id": "1af29ca8-42dd-4513-a4c7-4ee6af577857",
   "metadata": {},
   "outputs": [
    {
     "name": "stdout",
     "output_type": "stream",
     "text": [
      "[0.  1.1 2.  3.  4.  5. ]\n",
      "float64\n"
     ]
    }
   ],
   "source": [
    "b = np.array([0, 1.1, 2, 3, 4, 5])\n",
    "print(b)\n",
    "print(b.dtype)"
   ]
  },
  {
   "cell_type": "code",
   "execution_count": 207,
   "id": "edca649b-6056-4a4a-a50f-0f0fc949419c",
   "metadata": {},
   "outputs": [
    {
     "name": "stdout",
     "output_type": "stream",
     "text": [
      "[3. 4. 5.]\n",
      "float64\n"
     ]
    }
   ],
   "source": [
    "c = b[3:6]\n",
    "print(c)\n",
    "print(c.dtype)"
   ]
  },
  {
   "cell_type": "code",
   "execution_count": 208,
   "id": "fa4707ce-6388-495d-980c-5fbd95e1525c",
   "metadata": {},
   "outputs": [
    {
     "name": "stdout",
     "output_type": "stream",
     "text": [
      "[1 3 5 7]\n"
     ]
    }
   ],
   "source": [
    "arr = np.array([1, 2, 3, 4, 5, 6, 7, 8])\n",
    "print(arr[0::2])"
   ]
  },
  {
   "cell_type": "markdown",
   "id": "8c57915b-8a71-4667-86ea-4d48a482e80c",
   "metadata": {},
   "source": [
    "#### Adding arrays and plotting"
   ]
  },
  {
   "cell_type": "code",
   "execution_count": 209,
   "id": "a7be55dd-c763-4ef8-b515-6dd80823deb4",
   "metadata": {},
   "outputs": [
    {
     "name": "stdout",
     "output_type": "stream",
     "text": [
      "[2 2]\n"
     ]
    },
    {
     "data": {
      "image/png": "[encoded data removed]",
      "text/plain": [
       "<Figure size 640x480 with 1 Axes>"
      ]
     },
     "metadata": {},
     "output_type": "display_data"
    }
   ],
   "source": [
    "import matplotlib.pyplot as plt\n",
    "%matplotlib inline  \n",
    "def plot_vec1(x, y, z):\n",
    "    ax = plt.axes() # Generates the full window axes\n",
    "    ax.arrow(0, 0, *x, head_width = 0.05, color = 'red', head_length = 0.1) # Adds an arrow to the x axis\n",
    "    plt.text(*(x + 0.1), 'x') # Adds the text x to the axis\n",
    "    ax.arrow(0, 0, *y, head_width = 0.05, color = 'blue', head_length = 0.1) # Adds an arrow to the y axis\n",
    "    plt.text(*(y + 0.1), 'y') # Adds the text y to the axis \n",
    "    ax.arrow(0, 0, *z, head_width = 0.05, color = 'green', head_length = 0.1) # Adds an arrow to the z axis\n",
    "    plt.text(*(z + 0.1), 'z') # Adds the text z to the axis \n",
    "    plt.ylim(-1, 3) # Sets the ylim to bottom(-2), top(2)\n",
    "    plt.xlim(-1, 3) # Sets the xlim to left(-2), right(2)\n",
    "x = np.array([2, 0])\n",
    "y = np.array([0, 2])\n",
    "z = np.add(x, y)\n",
    "print(z)\n",
    "plot_vec1(x, y, z)"
   ]
  },
  {
   "cell_type": "markdown",
   "id": "e3099eac-59aa-4c13-a6c0-8c65fdcc1bfd",
   "metadata": {},
   "source": [
    "#### Plotting with linspace"
   ]
  },
  {
   "cell_type": "code",
   "execution_count": 210,
   "id": "fa3cc88a-8930-4c0e-aefb-929edc76fdd9",
   "metadata": {},
   "outputs": [
    {
     "name": "stdout",
     "output_type": "stream",
     "text": [
      "[0.         0.06346652 0.12693304 0.19039955 0.25386607 0.31733259\n",
      " 0.38079911 0.44426563 0.50773215 0.57119866 0.63466518 0.6981317\n",
      " 0.76159822 0.82506474 0.88853126 0.95199777 1.01546429 1.07893081\n",
      " 1.14239733 1.20586385 1.26933037 1.33279688 1.3962634  1.45972992\n",
      " 1.52319644 1.58666296 1.65012947 1.71359599 1.77706251 1.84052903\n",
      " 1.90399555 1.96746207 2.03092858 2.0943951  2.15786162 2.22132814\n",
      " 2.28479466 2.34826118 2.41172769 2.47519421 2.53866073 2.60212725\n",
      " 2.66559377 2.72906028 2.7925268  2.85599332 2.91945984 2.98292636\n",
      " 3.04639288 3.10985939 3.17332591 3.23679243 3.30025895 3.36372547\n",
      " 3.42719199 3.4906585  3.55412502 3.61759154 3.68105806 3.74452458\n",
      " 3.8079911  3.87145761 3.93492413 3.99839065 4.06185717 4.12532369\n",
      " 4.1887902  4.25225672 4.31572324 4.37918976 4.44265628 4.5061228\n",
      " 4.56958931 4.63305583 4.69652235 4.75998887 4.82345539 4.88692191\n",
      " 4.95038842 5.01385494 5.07732146 5.14078798 5.2042545  5.26772102\n",
      " 5.33118753 5.39465405 5.45812057 5.52158709 5.58505361 5.64852012\n",
      " 5.71198664 5.77545316 5.83891968 5.9023862  5.96585272 6.02931923\n",
      " 6.09278575 6.15625227 6.21971879 6.28318531]\n"
     ]
    }
   ],
   "source": [
    "x = np.linspace(0, 2*np.pi, num = 100)\n",
    "print(x)"
   ]
  },
  {
   "cell_type": "code",
   "execution_count": 211,
   "id": "d4c9779f-bbe2-41af-b81f-3101ca61bf0d",
   "metadata": {},
   "outputs": [
    {
     "data": {
      "text/plain": [
       "[<matplotlib.lines.Line2D at 0x7f567064f150>]"
      ]
     },
     "execution_count": 211,
     "metadata": {},
     "output_type": "execute_result"
    },
    {
     "data": {
      "image/png": "[encoded data removed]",
      "text/plain": [
       "<Figure size 640x480 with 1 Axes>"
      ]
     },
     "metadata": {},
     "output_type": "display_data"
    }
   ],
   "source": [
    "y = np.sin(x)\n",
    "plt.plot(x, y)"
   ]
  },
  {
   "cell_type": "markdown",
   "id": "eba63304-c520-4449-82b6-551582d1da1d",
   "metadata": {},
   "source": [
    "#### Finding the even and odd elements"
   ]
  },
  {
   "cell_type": "code",
   "execution_count": 212,
   "id": "17970b59-545f-4a9e-998e-183e090f6130",
   "metadata": {},
   "outputs": [
    {
     "name": "stdout",
     "output_type": "stream",
     "text": [
      "Even elements: [2, 4, 6, 8, 10]\n",
      "<class 'list'>\n",
      "Odd elements: [1, 3, 5, 7, 9]\n",
      "<class 'list'>\n"
     ]
    }
   ],
   "source": [
    "# Programme to list the even and odd elements in two arrays\n",
    "arr1 = np.array([1, 2, 3, 4, 5])\n",
    "arr2 = np.array([6, 7, 8, 9, 10])\n",
    "even = []\n",
    "odd = []\n",
    "for element in arr1:\n",
    "    if element % 2 == 0:\n",
    "        even.append(element)\n",
    "    else:\n",
    "        odd.append(element)\n",
    "for element in arr2:\n",
    "    if element % 2 == 0:\n",
    "        even.append(element)\n",
    "    else:\n",
    "        odd.append(element)\n",
    "print('Even elements:', even)\n",
    "print(type(even))\n",
    "print('Odd elements:', odd)\n",
    "print(type(odd))"
   ]
  },
  {
   "cell_type": "markdown",
   "id": "af8fbd2e-3ef0-434e-9b04-6a708f5ad4fd",
   "metadata": {},
   "source": [
    "#### 2D Numpy"
   ]
  },
  {
   "cell_type": "code",
   "execution_count": 213,
   "id": "4919f495-19b8-489f-904e-ec75a7cc589c",
   "metadata": {},
   "outputs": [
    {
     "name": "stdout",
     "output_type": "stream",
     "text": [
      "[[ 34  56  78  42   3   1]\n",
      " [ 84 233  53   2   8   2]\n",
      " [ 87  36  66  23   6   8]\n",
      " [  3  67 226 453  45  74]\n",
      " [ 38  94   2   0  26  92]]\n",
      "<class 'numpy.ndarray'>\n",
      "int64\n",
      "2\n",
      "(5, 6)\n",
      "30\n",
      "[[ 59  23   7   2   0]\n",
      " [368  12  42  32  64]\n",
      " [ 92  46   2   6  26]\n",
      " [ 17  32  69  22  68]\n",
      " [ 74 852  89  28  56]\n",
      " [ 49  52  94  83  28]]\n",
      "<class 'numpy.ndarray'>\n",
      "int64\n",
      "2\n",
      "(6, 5)\n",
      "30\n",
      "[[30775  8994  6005  3419  8664]\n",
      " [96300 14150 11518  8376 16930]\n",
      " [25680 11733  5126  3060  6144]\n",
      " [60282 67953 45505 20874 45560]\n",
      " [43450 29030 15180 11460 10100]]\n",
      "<class 'numpy.ndarray'>\n",
      "int64\n",
      "2\n",
      "(5, 5)\n",
      "25\n",
      "[[30775 96300 25680 60282 43450]\n",
      " [ 8994 14150 11733 67953 29030]\n",
      " [ 6005 11518  5126 45505 15180]\n",
      " [ 3419  8376  3060 20874 11460]\n",
      " [ 8664 16930  6144 45560 10100]]\n",
      "<class 'numpy.ndarray'>\n",
      "int64\n",
      "2\n",
      "(5, 5)\n",
      "25\n"
     ]
    }
   ],
   "source": [
    "# The dot product requires that the quantity of columns of the multiplicand equals the quantity of rows of the multiplier. The resulting product will have the quantity of rows of the multiplicand and the quantity of columns of the multiplicand\n",
    "array_a = np.array([[34, 56, 78, 42, 3, 1],\n",
    "                  [84, 233, 53, 2, 8, 2],\n",
    "                  [87, 36, 66, 23, 6, 8],\n",
    "                  [3, 67, 226, 453, 45, 74],\n",
    "                  [38, 94, 2, 0, 26, 92]])\n",
    "print(array_a)\n",
    "print(type(array_a))\n",
    "print(array_a.dtype)\n",
    "print(array_a.ndim)\n",
    "print(array_a.shape)\n",
    "print(array_a.size)\n",
    "array_b = np.array([[59, 23, 7, 2, 0],\n",
    "                    [368, 12, 42, 32, 64],\n",
    "                    [92, 46, 2, 6, 26],\n",
    "                    [17, 32, 69, 22, 68],\n",
    "                    [74, 852, 89, 28, 56],\n",
    "                    [49, 52, 94, 83, 28]])\n",
    "print(array_b)\n",
    "print(type(array_b))\n",
    "print(array_b.dtype)\n",
    "print(array_b.ndim)\n",
    "print(array_b.shape)\n",
    "print(array_b.size)\n",
    "array_c = np.dot(array_a, array_b)\n",
    "print(array_c)\n",
    "print(type(array_c))\n",
    "print(array_c.dtype)\n",
    "print(array_c.ndim)\n",
    "print(array_c.shape)\n",
    "print(array_c.size)\n",
    "array_d = array_c.T\n",
    "print(array_d)\n",
    "print(type(array_d))\n",
    "print(array_d.dtype)\n",
    "print(array_d.ndim)\n",
    "print(array_d.shape)\n",
    "print(array_d.size)"
   ]
  },
  {
   "cell_type": "markdown",
   "id": "bfbea5fb-4927-42f3-910c-f4c48aa8afc3",
   "metadata": {},
   "source": [
    "## Module 5 - APIs and Data Collection"
   ]
  },
  {
   "cell_type": "markdown",
   "id": "e06d36ce-6819-42d8-963e-c4e159680bf1",
   "metadata": {},
   "source": [
    "### Simple APIs"
   ]
  },
  {
   "cell_type": "code",
   "execution_count": null,
   "id": "a5bc87a2-60f5-437a-b9e1-f59396385a2e",
   "metadata": {},
   "outputs": [],
   "source": []
  },
  {
   "cell_type": "markdown",
   "id": "0db96ad4-d6b7-49d7-ba09-550290151b24",
   "metadata": {},
   "source": [
    "### REST APIs, Webscraping and Working with Files"
   ]
  },
  {
   "cell_type": "code",
   "execution_count": null,
   "id": "3ffd8c34-13cc-4672-bfc2-579fe3acdeaa",
   "metadata": {},
   "outputs": [],
   "source": []
  }
 ],
 "metadata": {
  "kernelspec": {
   "display_name": "anaconda-panel-2023.05-py310",
   "language": "python",
   "name": "conda-env-anaconda-panel-2023.05-py310-py"
  },
  "language_info": {
   "codemirror_mode": {
    "name": "ipython",
    "version": 3
   },
   "file_extension": ".py",
   "mimetype": "text/x-python",
   "name": "python",
   "nbconvert_exporter": "python",
   "pygments_lexer": "ipython3",
   "version": "3.11.5"
  }
 },
 "nbformat": 4,
 "nbformat_minor": 5
}
